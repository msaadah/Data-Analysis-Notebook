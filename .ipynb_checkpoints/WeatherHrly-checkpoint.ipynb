{
 "cells": [
  {
   "cell_type": "markdown",
   "metadata": {},
   "source": [
    "https://www.weatherbit.io/api/weather-forecast-48-hour"
   ]
  },
  {
   "cell_type": "code",
   "execution_count": 1,
   "metadata": {},
   "outputs": [],
   "source": [
    "import urllib, json\n",
    "from pandas.io.json import json_normalize\n",
    "import pandas as pd\n",
    "from IPython.display import display, HTML"
   ]
  },
  {
   "cell_type": "code",
   "execution_count": 2,
   "metadata": {},
   "outputs": [
    {
     "name": "stdout",
     "output_type": "stream",
     "text": [
      "{u'lon': u'-88.24338', u'lat': u'40.11642', u'country_code': u'US', u'city_name': u'Champaign', u'timezone': u'America/Chicago', u'state_code': u'IL', u'data': [{u'uv': 5.27932, u'timestamp_utc': u'2018-11-07T19:00:00', u'pop': 0, u'ts': 1541617200, u'vis': 24.1, u'weather': {u'code': 800, u'description': u'Clear Sky', u'icon': u'c01d'}, u'pod': u'd', u'clouds_mid': 1, u'wind_cdir': u'W', u'dhi': 80.0739, u'dni': 851.411, u'snow': 0, u'rh': 61, u'pres': 994.497, u'snow_depth': 0, u'solar_rad': 508.329, u'timestamp_local': u'2018-11-07T13:00:00', u'wind_cdir_full': u'west', u'datetime': u'2018-11-07:19', u'wind_spd': 5.28665, u'wind_dir': 274, u'clouds': 1, u'temp': 6, u'app_temp': 2.6, u'clouds_hi': 0, u'wind_gust_spd': 7.5, u'slp': 1022.7, u'dewpt': -0.9, u'ozone': 263.9, u'precip': 0, u'clouds_low': 0, u'ghi': 508.329}]}\n"
     ]
    }
   ],
   "source": [
    "url = \"https://api.weatherbit.io/v2.0/forecast/hourly?city=Champaign,IL&key=b884eed1798f46feab4effc907e537a7&hours=1\"\n",
    "response = urllib.urlopen(url)\n",
    "data = json.loads(response.read())\n",
    "print data"
   ]
  },
  {
   "cell_type": "code",
   "execution_count": 3,
   "metadata": {},
   "outputs": [],
   "source": [
    "def get_row(url):\n",
    "    #url = \"https://api.weatherbit.io/v2.0/forecast/hourly?city=Champaign,IL&key=b884eed1798f46feab4effc907e537a7&hours=1\"\n",
    "    response = urllib.urlopen(url)\n",
    "    data = json.loads(response.read())\n",
    "    columns = []\n",
    "    data_list = []\n",
    "    for key in data:\n",
    "        value1= data[key]\n",
    "        #print key+'---->'\n",
    "        #print value1\n",
    "    \n",
    "        if isinstance(value1,list):\n",
    "            for key2 in value1:\n",
    "                #print key2 \n",
    "                if isinstance(key2,dict):\n",
    "                    for key3 in key2:\n",
    "                #        print \"**********\" +key3+'---->'\n",
    "                        value3 = key2[key3]\n",
    "                        \n",
    "                        \n",
    "                        if isinstance(value3,dict):\n",
    "                            for key4 in value3:\n",
    "                                columns.append(key4)\n",
    "                                data_list.append(value3[key4])\n",
    "                 #               print \"======================================\"+key4 +'---->'\n",
    "                 #               print \"))))))))))))\" + str(value3[key4])\n",
    "                        else:\n",
    "                            columns.append(key3)\n",
    "                            data_list.append(value3)\n",
    "                            #print columns\n",
    "                  #          print \" &&&&&&&&&&&&\" +str(value3)\n",
    "        else:\n",
    "            columns.append(key)\n",
    "            data_list.append(value1)\n",
    "            #print columns\n",
    "            #print value1\n",
    "\n",
    "    return columns,data_list\n",
    "\n",
    "#df = pd.DataFrame(data_list)\n",
    "#df.head()\n",
    "\n"
   ]
  },
  {
   "cell_type": "code",
   "execution_count": 4,
   "metadata": {},
   "outputs": [
    {
     "name": "stdout",
     "output_type": "stream",
     "text": [
      "[u'lon', u'lat', u'country_code', u'city_name', u'timezone', u'state_code', u'uv', u'timestamp_utc', u'pop', u'ts', u'vis', u'code', u'description', u'icon', u'pod', u'clouds_mid', u'wind_cdir', u'dhi', u'dni', u'snow', u'rh', u'pres', u'snow_depth', u'solar_rad', u'timestamp_local', u'wind_cdir_full', u'datetime', u'wind_spd', u'wind_dir', u'clouds', u'temp', u'app_temp', u'clouds_hi', u'wind_gust_spd', u'slp', u'dewpt', u'ozone', u'precip', u'clouds_low', u'ghi'] [u'-88.24338', u'40.11642', u'US', u'Champaign', u'America/Chicago', u'IL', 5.27932, u'2018-11-07T19:00:00', 0, 1541617200, 24.1, 800, u'Clear Sky', u'c01d', u'd', 1, u'W', 80.0739, 851.411, 0, 61, 994.497, 0, 508.329, u'2018-11-07T13:00:00', u'west', u'2018-11-07:19', 5.28665, 274, 1, 6, 2.6, 0, 7.5, 1022.7, -0.9, 263.9, 0, 0, 508.329]\n",
      "40\n",
      "40\n",
      "[u'lon', u'lat', u'country_code', u'city_name', u'timezone', u'state_code', u'uv', u'timestamp_utc', u'pop', u'ts', u'vis', u'code', u'description', u'icon', u'pod', u'clouds_mid', u'wind_cdir', u'dhi', u'dni', u'snow', u'rh', u'pres', u'snow_depth', u'solar_rad', u'timestamp_local', u'wind_cdir_full', u'datetime', u'wind_spd', u'wind_dir', u'clouds', u'temp', u'app_temp', u'clouds_hi', u'wind_gust_spd', u'slp', u'dewpt', u'ozone', u'precip', u'clouds_low', u'ghi'] [u'-74.17237', u'40.73566', u'US', u'Newark', u'America/New_York', u'NJ', 4.1883, u'2018-11-07T19:00:00', 0, 1541617200, 24.1, 801, u'Few clouds', u'c02d', u'd', 10, u'SW', 77.5805, 798.655, 0, 65, 1011.41, 0, 405.562, u'2018-11-07T14:00:00', u'southwest', u'2018-11-07:19', 5.7041, 222, 10, 15.5, 15.5, 0, 12.1, 1014.61, 9, 268.2, 0, 0, 405.684]\n",
      "40\n",
      "40\n"
     ]
    }
   ],
   "source": [
    "col,row= get_row(\"https://api.weatherbit.io/v2.0/forecast/hourly?city=Champaign,IL&key=b884eed1798f46feab4effc907e537a7&hours=1\")\n",
    "\n",
    "print col,row\n",
    "print len(col)\n",
    "print len(row)\n",
    "\n",
    "\n",
    "col2,row2= get_row(\"https://api.weatherbit.io/v2.0/forecast/hourly?city=Newark,NJ&key=b884eed1798f46feab4effc907e537a7&hours=1\")\n",
    "\n",
    "print col2,row2\n",
    "print len(col2)\n",
    "print len(row2)"
   ]
  },
  {
   "cell_type": "code",
   "execution_count": 12,
   "metadata": {},
   "outputs": [
    {
     "data": {
      "text/html": [
       "<div>\n",
       "<style scoped>\n",
       "    .dataframe tbody tr th:only-of-type {\n",
       "        vertical-align: middle;\n",
       "    }\n",
       "\n",
       "    .dataframe tbody tr th {\n",
       "        vertical-align: top;\n",
       "    }\n",
       "\n",
       "    .dataframe thead th {\n",
       "        text-align: right;\n",
       "    }\n",
       "</style>\n",
       "<table border=\"1\" class=\"dataframe\">\n",
       "  <thead>\n",
       "    <tr style=\"text-align: right;\">\n",
       "      <th></th>\n",
       "      <th>app_temp</th>\n",
       "      <th>city_name</th>\n",
       "      <th>clouds</th>\n",
       "      <th>clouds_hi</th>\n",
       "      <th>clouds_low</th>\n",
       "      <th>clouds_mid</th>\n",
       "      <th>code</th>\n",
       "      <th>country_code</th>\n",
       "      <th>datetime</th>\n",
       "      <th>description</th>\n",
       "      <th>...</th>\n",
       "      <th>timestamp_utc</th>\n",
       "      <th>timezone</th>\n",
       "      <th>ts</th>\n",
       "      <th>uv</th>\n",
       "      <th>vis</th>\n",
       "      <th>wind_cdir</th>\n",
       "      <th>wind_cdir_full</th>\n",
       "      <th>wind_dir</th>\n",
       "      <th>wind_gust_spd</th>\n",
       "      <th>wind_spd</th>\n",
       "    </tr>\n",
       "  </thead>\n",
       "  <tbody>\n",
       "    <tr>\n",
       "      <th>0</th>\n",
       "      <td>2.6</td>\n",
       "      <td>Champaign</td>\n",
       "      <td>1</td>\n",
       "      <td>0</td>\n",
       "      <td>0</td>\n",
       "      <td>1</td>\n",
       "      <td>800</td>\n",
       "      <td>US</td>\n",
       "      <td>2018-11-07:19</td>\n",
       "      <td>Clear Sky</td>\n",
       "      <td>...</td>\n",
       "      <td>2018-11-07T19:00:00</td>\n",
       "      <td>America/Chicago</td>\n",
       "      <td>1541617200</td>\n",
       "      <td>5.27932</td>\n",
       "      <td>24.1</td>\n",
       "      <td>W</td>\n",
       "      <td>west</td>\n",
       "      <td>274</td>\n",
       "      <td>7.5</td>\n",
       "      <td>5.28665</td>\n",
       "    </tr>\n",
       "  </tbody>\n",
       "</table>\n",
       "<p>1 rows × 40 columns</p>\n",
       "</div>"
      ],
      "text/plain": [
       "   app_temp  city_name  clouds  clouds_hi  clouds_low  clouds_mid  code  \\\n",
       "0       2.6  Champaign       1          0           0           1   800   \n",
       "\n",
       "  country_code       datetime description    ...           timestamp_utc  \\\n",
       "0           US  2018-11-07:19   Clear Sky    ...     2018-11-07T19:00:00   \n",
       "\n",
       "          timezone          ts       uv   vis wind_cdir wind_cdir_full  \\\n",
       "0  America/Chicago  1541617200  5.27932  24.1         W           west   \n",
       "\n",
       "   wind_dir wind_gust_spd  wind_spd  \n",
       "0       274           7.5   5.28665  \n",
       "\n",
       "[1 rows x 40 columns]"
      ]
     },
     "execution_count": 12,
     "metadata": {},
     "output_type": "execute_result"
    }
   ],
   "source": [
    "#column_names = col\n",
    "#row_values = row\n",
    "#d = {col:row}\n",
    "dictionary = dict(zip(col, row))\n",
    "#print(dictionary)\n",
    "df = pd.DataFrame([dictionary])\n",
    "#df = df.append(row2, ignore_index=True)\n",
    "df.head()"
   ]
  },
  {
   "cell_type": "markdown",
   "metadata": {},
   "source": [
    "add another row from newark data"
   ]
  },
  {
   "cell_type": "code",
   "execution_count": null,
   "metadata": {},
   "outputs": [],
   "source": []
  }
 ],
 "metadata": {
  "kernelspec": {
   "display_name": "Python 2",
   "language": "python",
   "name": "python2"
  },
  "language_info": {
   "codemirror_mode": {
    "name": "ipython",
    "version": 2
   },
   "file_extension": ".py",
   "mimetype": "text/x-python",
   "name": "python",
   "nbconvert_exporter": "python",
   "pygments_lexer": "ipython2",
   "version": "2.7.15"
  }
 },
 "nbformat": 4,
 "nbformat_minor": 2
}
