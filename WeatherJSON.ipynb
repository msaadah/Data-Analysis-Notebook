{
 "cells": [
  {
   "cell_type": "code",
   "execution_count": 15,
   "metadata": {},
   "outputs": [],
   "source": [
    "import urllib, json\n",
    "from pandas.io.json import json_normalize\n",
    "import pandas as pd\n",
    "from IPython.display import display, HTML"
   ]
  },
  {
   "cell_type": "code",
   "execution_count": 16,
   "metadata": {},
   "outputs": [
    {
     "name": "stdout",
     "output_type": "stream",
     "text": [
      "{u'clouds': {u'all': 1}, u'name': u'Champaign County', u'visibility': 16093, u'sys': {u'country': u'US', u'sunset': 1540421948, u'message': 0.0035, u'type': 1, u'id': 960, u'sunrise': 1540383240}, u'weather': [{u'main': u'Clear', u'id': 800, u'icon': u'01d', u'description': u'clear sky'}], u'coord': {u'lat': 40.13, u'lon': -88.2}, u'base': u'stations', u'dt': 1540403700, u'main': {u'pressure': 1029, u'temp_min': 285.15, u'temp_max': 285.15, u'temp': 285.15, u'humidity': 46}, u'id': 4887163, u'wind': {u'speed': 5.1, u'deg': 80}, u'cod': 200}\n"
     ]
    }
   ],
   "source": [
    "url = \"http://api.openweathermap.org/data/2.5/weather?id=4887163&APPID=bdffb5bed7c33de5c744c395edfd4b95\"\n",
    "response = urllib.urlopen(url)\n",
    "data = json.loads(response.read())\n",
    "print data"
   ]
  },
  {
   "cell_type": "code",
   "execution_count": 17,
   "metadata": {},
   "outputs": [
    {
     "ename": "AttributeError",
     "evalue": "'dict' object has no attribute 'dtype'",
     "output_type": "error",
     "traceback": [
      "\u001b[1;31m---------------------------------------------------------------------------\u001b[0m",
      "\u001b[1;31mAttributeError\u001b[0m                            Traceback (most recent call last)",
      "\u001b[1;32m<ipython-input-17-ab0a5b0d7958>\u001b[0m in \u001b[0;36m<module>\u001b[1;34m()\u001b[0m\n\u001b[1;32m----> 1\u001b[1;33m \u001b[0mdata\u001b[0m\u001b[1;33m.\u001b[0m\u001b[0mdtype\u001b[0m\u001b[1;33m\u001b[0m\u001b[0m\n\u001b[0m",
      "\u001b[1;31mAttributeError\u001b[0m: 'dict' object has no attribute 'dtype'"
     ]
    }
   ],
   "source": [
    "data.dtype"
   ]
  },
  {
   "cell_type": "code",
   "execution_count": 13,
   "metadata": {},
   "outputs": [
    {
     "data": {
      "text/html": [
       "<table border=\"1\" class=\"dataframe\">\n",
       "  <thead>\n",
       "    <tr style=\"text-align: right;\">\n",
       "      <th></th>\n",
       "      <th>base</th>\n",
       "      <th>clouds.all</th>\n",
       "      <th>cod</th>\n",
       "      <th>coord.lat</th>\n",
       "      <th>coord.lon</th>\n",
       "      <th>dt</th>\n",
       "      <th>id</th>\n",
       "      <th>main.humidity</th>\n",
       "      <th>main.pressure</th>\n",
       "      <th>main.temp</th>\n",
       "      <th>main.temp_max</th>\n",
       "      <th>main.temp_min</th>\n",
       "      <th>name</th>\n",
       "      <th>sys.country</th>\n",
       "      <th>sys.id</th>\n",
       "      <th>sys.message</th>\n",
       "      <th>sys.sunrise</th>\n",
       "      <th>sys.sunset</th>\n",
       "      <th>sys.type</th>\n",
       "      <th>visibility</th>\n",
       "      <th>weather</th>\n",
       "      <th>wind.deg</th>\n",
       "      <th>wind.speed</th>\n",
       "    </tr>\n",
       "  </thead>\n",
       "  <tbody>\n",
       "    <tr>\n",
       "      <th>0</th>\n",
       "      <td>stations</td>\n",
       "      <td>1</td>\n",
       "      <td>200</td>\n",
       "      <td>40.13</td>\n",
       "      <td>-88.2</td>\n",
       "      <td>1540401300</td>\n",
       "      <td>4887163</td>\n",
       "      <td>50</td>\n",
       "      <td>1030</td>\n",
       "      <td>284.13</td>\n",
       "      <td>285.15</td>\n",
       "      <td>283.15</td>\n",
       "      <td>Champaign County</td>\n",
       "      <td>US</td>\n",
       "      <td>1003</td>\n",
       "      <td>0.0045</td>\n",
       "      <td>1540383236</td>\n",
       "      <td>1540421952</td>\n",
       "      <td>1</td>\n",
       "      <td>16093</td>\n",
       "      <td>[{u'description': u'clear sky', u'main': u'Cle...</td>\n",
       "      <td>70</td>\n",
       "      <td>4.6</td>\n",
       "    </tr>\n",
       "  </tbody>\n",
       "</table>"
      ],
      "text/plain": [
       "<IPython.core.display.HTML object>"
      ]
     },
     "metadata": {},
     "output_type": "display_data"
    }
   ],
   "source": [
    "df = pd.DataFrame.from_dict(json_normalize(data), orient='columns')\n",
    "display(HTML(df.to_html()))"
   ]
  },
  {
   "cell_type": "code",
   "execution_count": null,
   "metadata": {},
   "outputs": [],
   "source": []
  }
 ],
 "metadata": {
  "kernelspec": {
   "display_name": "Python 2",
   "language": "python",
   "name": "python2"
  },
  "language_info": {
   "codemirror_mode": {
    "name": "ipython",
    "version": 2
   },
   "file_extension": ".py",
   "mimetype": "text/x-python",
   "name": "python",
   "nbconvert_exporter": "python",
   "pygments_lexer": "ipython2",
   "version": "2.7.15"
  }
 },
 "nbformat": 4,
 "nbformat_minor": 2
}
