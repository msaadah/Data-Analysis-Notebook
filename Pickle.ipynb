{
 "cells": [
  {
   "cell_type": "code",
   "execution_count": 1,
   "metadata": {},
   "outputs": [],
   "source": [
    "import pickle"
   ]
  },
  {
   "cell_type": "code",
   "execution_count": 2,
   "metadata": {},
   "outputs": [
    {
     "name": "stdout",
     "output_type": "stream",
     "text": [
      "My sheep mary is white and has 4 paws\n",
      "Would you like to see her pickled? Here she is!\n",
      "(i__main__\n",
      "Sheep\n",
      "p0\n",
      "(dp1\n",
      "S'color'\n",
      "p2\n",
      "S'white'\n",
      "p3\n",
      "sS'number_of_paws'\n",
      "p4\n",
      "I4\n",
      "sb.\n"
     ]
    }
   ],
   "source": [
    "class Animal:\n",
    "   def __init__(self, number_of_paws, color):\n",
    "       self.number_of_paws = number_of_paws\n",
    "       self.color = color\n",
    "class Sheep(Animal):\n",
    "   def __init__(self, color):\n",
    "       Animal.__init__(self, 4, color)\n",
    "\n",
    "mary = Sheep(\"white\")\n",
    "print (str.format(\"My sheep mary is {0} and has {1} paws\", mary.color, mary.number_of_paws))\n",
    "my_pickled_mary = pickle.dumps(mary)\n",
    "print (\"Would you like to see her pickled? Here she is!\")\n",
    "print (my_pickled_mary)"
   ]
  },
  {
   "cell_type": "code",
   "execution_count": null,
   "metadata": {},
   "outputs": [],
   "source": []
  }
 ],
 "metadata": {
  "kernelspec": {
   "display_name": "Python 2",
   "language": "python",
   "name": "python2"
  },
  "language_info": {
   "codemirror_mode": {
    "name": "ipython",
    "version": 2
   },
   "file_extension": ".py",
   "mimetype": "text/x-python",
   "name": "python",
   "nbconvert_exporter": "python",
   "pygments_lexer": "ipython2",
   "version": "2.7.15"
  }
 },
 "nbformat": 4,
 "nbformat_minor": 2
}
