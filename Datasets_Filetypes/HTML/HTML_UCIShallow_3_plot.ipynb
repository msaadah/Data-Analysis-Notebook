{
 "cells": [
  {
   "cell_type": "code",
   "execution_count": 1,
   "metadata": {},
   "outputs": [],
   "source": [
    "import requests\n",
    "import lxml.html as lh\n",
    "import pandas as pd\n",
    "import numpy as np\n",
    "from IPython.display import display, HTML\n",
    "import matplotlib.pyplot as plt # required for data visualization purposes.\n",
    "from bs4 import BeautifulSoup\n",
    "from BeautifulSoup import BeautifulSoup, SoupStrainer"
   ]
  },
  {
   "cell_type": "code",
   "execution_count": 2,
   "metadata": {},
   "outputs": [],
   "source": [
    "import requests\n",
    "import lxml.html as lh\n",
    "import pandas as pd\n",
    "import numpy as np\n",
    "from IPython.display import display, HTML\n",
    "import matplotlib.pyplot as plt # required for data visualization purposes.\n",
    "from BeautifulSoup import BeautifulSoup, SoupStrainer\n",
    "from bs4 import BeautifulSoup"
   ]
  },
  {
   "cell_type": "code",
   "execution_count": 3,
   "metadata": {},
   "outputs": [
    {
     "name": "stdout",
     "output_type": "stream",
     "text": [
      "<!DOCTYPE HTML PUBLIC \"-//IETF//DTD HTML 2.0//EN\">\n",
      "<html>\n",
      " <head>\n",
      "  <title>\n",
      "   404 Not Found\n",
      "  </title>\n",
      " </head>\n",
      " <body>\n",
      "  <h1>\n",
      "   Not Found\n",
      "  </h1>\n",
      "  <p>\n",
      "   The requested URL /ml/datasets.html was not found on this server.\n",
      "  </p>\n",
      "  <hr/>\n",
      "  <address>\n",
      "   Apache/2.4.6 (CentOS) OpenSSL/1.0.2k-fips SVN/1.7.14 Phusion_Passenger/4.0.53 mod_perl/2.0.10 Perl/v5.16.3 Server at archive.ics.uci.edu Port 443\n",
      "  </address>\n",
      " </body>\n",
      "</html>\n",
      "\n"
     ]
    }
   ],
   "source": [
    "url='https://archive.ics.uci.edu/ml/datasets.html'\n",
    "page = requests.get(url)\n",
    "soup = BeautifulSoup(page.text, 'html.parser')\n",
    "print soup.prettify()"
   ]
  },
  {
   "cell_type": "code",
   "execution_count": 4,
   "metadata": {},
   "outputs": [
    {
     "ename": "AttributeError",
     "evalue": "'NoneType' object has no attribute 'find_parent'",
     "output_type": "error",
     "traceback": [
      "\u001b[1;31m---------------------------------------------------------------------------\u001b[0m",
      "\u001b[1;31mAttributeError\u001b[0m                            Traceback (most recent call last)",
      "\u001b[1;32m<ipython-input-4-1aff75b07cad>\u001b[0m in \u001b[0;36m<module>\u001b[1;34m()\u001b[0m\n\u001b[0;32m      1\u001b[0m \u001b[0mheader\u001b[0m \u001b[1;33m=\u001b[0m \u001b[0msoup\u001b[0m\u001b[1;33m.\u001b[0m\u001b[0mfind\u001b[0m\u001b[1;33m(\u001b[0m\u001b[1;34m\"b\"\u001b[0m\u001b[1;33m,\u001b[0m \u001b[0mtext\u001b[0m\u001b[1;33m=\u001b[0m\u001b[1;34m\"Name\"\u001b[0m\u001b[1;33m)\u001b[0m\u001b[1;33m\u001b[0m\u001b[0m\n\u001b[1;32m----> 2\u001b[1;33m \u001b[0mtable\u001b[0m \u001b[1;33m=\u001b[0m \u001b[0mheader\u001b[0m\u001b[1;33m.\u001b[0m\u001b[0mfind_parent\u001b[0m\u001b[1;33m(\u001b[0m\u001b[1;34m\"table\"\u001b[0m\u001b[1;33m)\u001b[0m\u001b[1;33m\u001b[0m\u001b[0m\n\u001b[0m\u001b[0;32m      3\u001b[0m \u001b[0mfirst\u001b[0m \u001b[1;33m=\u001b[0m \u001b[1;36m0\u001b[0m\u001b[1;33m\u001b[0m\u001b[0m\n\u001b[0;32m      4\u001b[0m \u001b[0mdata\u001b[0m \u001b[1;33m=\u001b[0m \u001b[1;33m[\u001b[0m\u001b[1;33m]\u001b[0m\u001b[1;33m\u001b[0m\u001b[0m\n\u001b[0;32m      5\u001b[0m \u001b[1;32mfor\u001b[0m \u001b[0mrow\u001b[0m \u001b[1;32min\u001b[0m \u001b[0mtable\u001b[0m\u001b[1;33m.\u001b[0m\u001b[0mfind_all\u001b[0m\u001b[1;33m(\u001b[0m\u001b[1;34m\"tr\"\u001b[0m\u001b[1;33m)\u001b[0m\u001b[1;33m:\u001b[0m\u001b[1;33m\u001b[0m\u001b[0m\n",
      "\u001b[1;31mAttributeError\u001b[0m: 'NoneType' object has no attribute 'find_parent'"
     ]
    }
   ],
   "source": [
    "header = soup.find(\"b\", text=\"Name\")\n",
    "table = header.find_parent(\"table\")\n",
    "first = 0 \n",
    "data = []\n",
    "for row in table.find_all(\"tr\"):\n",
    "    data_list=[]\n",
    "    for cell in row.find_all(\"td\")[0:10]:\n",
    "        data_list.append(cell.get_text(strip=True))\n",
    "    if first == 0:\n",
    "        columns = data_list\n",
    "        first = 1\n",
    "    else:\n",
    "        if len(data_list) == 9:\n",
    "            data.append(data_list[2:])"
   ]
  },
  {
   "cell_type": "code",
   "execution_count": null,
   "metadata": {},
   "outputs": [],
   "source": [
    "data = pd.DataFrame(data, columns=columns)\n",
    "data.head()"
   ]
  },
  {
   "cell_type": "code",
   "execution_count": null,
   "metadata": {},
   "outputs": [],
   "source": [
    "print data.info()\n",
    "display(HTML(data.describe().to_html()))\n",
    "print '\\n'\n",
    "print 'Number of NULL'\n",
    "print '\\n'\n",
    "print data.isnull().sum()\n",
    "print '\\n\\n'\n",
    "print 'Number of UNIQUE'\n",
    "print '\\n'\n",
    "print data.nunique()"
   ]
  },
  {
   "cell_type": "code",
   "execution_count": null,
   "metadata": {},
   "outputs": [],
   "source": [
    "data = data.replace('', np.nan)\n",
    "\n",
    "for i in data.columns:\n",
    "    if i== 'Name' or i=='Data Types' or i=='Default Task' or i=='Attribute Types':  \n",
    "        data[i] = data[i].str.strip().astype('category')\n",
    "    else:\n",
    "        data[i] = data[i].astype(float)"
   ]
  },
  {
   "cell_type": "code",
   "execution_count": null,
   "metadata": {},
   "outputs": [],
   "source": [
    "print data.info()\n",
    "display(HTML(data.describe().to_html()))\n",
    "print '\\n'\n",
    "print 'Number of NULL'\n",
    "print '\\n'\n",
    "print data.isnull().sum()\n",
    "print '\\n\\n'\n",
    "print 'Number of UNIQUE'\n",
    "print '\\n'\n",
    "print data.nunique()"
   ]
  },
  {
   "cell_type": "code",
   "execution_count": null,
   "metadata": {},
   "outputs": [],
   "source": [
    "data.head(10)"
   ]
  },
  {
   "cell_type": "code",
   "execution_count": null,
   "metadata": {},
   "outputs": [],
   "source": [
    "print data.info()\n",
    "display(HTML(data.describe().to_html()))\n",
    "print '\\n'\n",
    "print 'Number of NULL'\n",
    "print '\\n'\n",
    "print data.isnull().sum()\n",
    "print '\\n\\n'\n",
    "print 'Number of UNIQUE'\n",
    "print '\\n'\n",
    "print data.nunique()"
   ]
  },
  {
   "cell_type": "code",
   "execution_count": null,
   "metadata": {},
   "outputs": [],
   "source": [
    "region =data.Year.value_counts().sort_index()\n",
    "plt.figure(figsize=(10,7))\n",
    "plt.bar(np.arange(len(region.index)),region.values)\n",
    "plt.xticks(np.arange(len(region.index)), region.index)\n",
    "plt.xticks(rotation=90)\n",
    "plt.ylabel('Number of Datasets by year')\n",
    "plt.xlabel('Year')\n",
    "plt.show()"
   ]
  },
  {
   "cell_type": "code",
   "execution_count": null,
   "metadata": {},
   "outputs": [],
   "source": [
    "region =data['Default Task'].value_counts().sort_index()\n",
    "print(region)\n",
    "plt.figure(figsize=(10,7))\n",
    "plt.bar(np.arange(len(region.index)),region.values)\n",
    "plt.xticks(np.arange(len(region.index)), region.index)\n",
    "plt.xticks(rotation=90)\n",
    "plt.ylabel('Number of Datasets')\n",
    "plt.xlabel('Default Task')\n",
    "plt.show()"
   ]
  },
  {
   "cell_type": "code",
   "execution_count": null,
   "metadata": {
    "scrolled": false
   },
   "outputs": [],
   "source": [
    "region =data['Attribute Types'].value_counts().sort_index()\n",
    "print region\n",
    "plt.figure(figsize=(10,7))\n",
    "plt.bar(np.arange(len(region.index)),region.values)\n",
    "plt.xticks(np.arange(len(region.index)), region.index)\n",
    "plt.xticks(rotation=90)\n",
    "plt.ylabel('Number of Datasets')\n",
    "plt.xlabel('Categories')\n",
    "plt.show()"
   ]
  },
  {
   "cell_type": "code",
   "execution_count": null,
   "metadata": {},
   "outputs": [],
   "source": [
    "region =data['Data Types'].value_counts().sort_index()\n",
    "plt.figure(figsize=(10,7))\n",
    "plt.bar(np.arange(len(region.index)),region.values)\n",
    "plt.xticks(np.arange(len(region.index)), region.index)\n",
    "plt.xticks(rotation=90)\n",
    "plt.ylabel('Number of Datasets')\n",
    "plt.xlabel('DataTypes')\n",
    "plt.show()"
   ]
  },
  {
   "cell_type": "code",
   "execution_count": null,
   "metadata": {},
   "outputs": [],
   "source": []
  }
 ],
 "metadata": {
  "kernelspec": {
   "display_name": "Python 2",
   "language": "python",
   "name": "python2"
  },
  "language_info": {
   "codemirror_mode": {
    "name": "ipython",
    "version": 2
   },
   "file_extension": ".py",
   "mimetype": "text/x-python",
   "name": "python",
   "nbconvert_exporter": "python",
   "pygments_lexer": "ipython2",
   "version": "2.7.15"
  }
 },
 "nbformat": 4,
 "nbformat_minor": 2
}
