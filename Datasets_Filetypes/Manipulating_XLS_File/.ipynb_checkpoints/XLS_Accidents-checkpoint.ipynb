{
 "cells": [
  {
   "cell_type": "markdown",
   "metadata": {},
   "source": [
    "***\n",
    "\n",
    "# 1. Importing Packages  \n",
    "\n",
    "***\n",
    "\n",
    "\n",
    "**Below are the packages we need to load, view and visualize any xls data into a pandas dataframe.**  \n"
   ]
  },
  {
   "cell_type": "code",
   "execution_count": 1,
   "metadata": {},
   "outputs": [
    {
     "data": {
      "text/html": [
       "        <script type=\"text/javascript\">\n",
       "        window.PlotlyConfig = {MathJaxConfig: 'local'};\n",
       "        if (window.MathJax) {MathJax.Hub.Config({SVG: {font: \"STIX-Web\"}});}\n",
       "        if (typeof require !== 'undefined') {\n",
       "        require.undef(\"plotly\");\n",
       "        requirejs.config({\n",
       "            paths: {\n",
       "                'plotly': ['https://cdn.plot.ly/plotly-latest.min']\n",
       "            }\n",
       "        });\n",
       "        require(['plotly'], function(Plotly) {\n",
       "            window._Plotly = Plotly;\n",
       "        });\n",
       "        }\n",
       "        </script>\n",
       "        "
      ]
     },
     "metadata": {},
     "output_type": "display_data"
    }
   ],
   "source": [
    "import numpy  as np             # easy to play with arrays etc.\n",
    "import pandas as pd             # required to load and read data and put in dataframe.\n",
    "import matplotlib.pyplot as plt # required for data visualization purposes.\n",
    "import seaborn as sns           # required for data visualization purposes.\n",
    "import plotly.plotly as py      # required for data visualization purposes.\n",
    "import plotly.graph_objs as go  # required for data visualization purposes.\n",
    "from IPython.display import display, HTML\n",
    "from plotly.offline import init_notebook_mode, iplot\n",
    "init_notebook_mode(connected=True)"
   ]
  },
  {
   "cell_type": "markdown",
   "metadata": {},
   "source": [
    "***\n",
    "\n",
    "# 2. Reading Data\n",
    "\n",
    "***\n",
    "\n",
    "\n",
    "**To read data in the form of .xls or comma seperated file, you need pd.read_excel(). http://gsociology.icaap.org/dataupload.html is source of data**  "
   ]
  },
  {
   "cell_type": "code",
   "execution_count": 2,
   "metadata": {},
   "outputs": [
    {
     "data": {
      "text/html": [
       "<div>\n",
       "<style scoped>\n",
       "    .dataframe tbody tr th:only-of-type {\n",
       "        vertical-align: middle;\n",
       "    }\n",
       "\n",
       "    .dataframe tbody tr th {\n",
       "        vertical-align: top;\n",
       "    }\n",
       "\n",
       "    .dataframe thead th {\n",
       "        text-align: right;\n",
       "    }\n",
       "</style>\n",
       "<table border=\"1\" class=\"dataframe\">\n",
       "  <thead>\n",
       "    <tr style=\"text-align: right;\">\n",
       "      <th></th>\n",
       "      <th>Year</th>\n",
       "      <th>113 Cause Name</th>\n",
       "      <th>Cause Name</th>\n",
       "      <th>State</th>\n",
       "      <th>Deaths</th>\n",
       "      <th>Age-adjusted Death Rate</th>\n",
       "    </tr>\n",
       "  </thead>\n",
       "  <tbody>\n",
       "    <tr>\n",
       "      <th>0</th>\n",
       "      <td>2016</td>\n",
       "      <td>Accidents (unintentional injuries) (V01-X59,Y8...</td>\n",
       "      <td>Unintentional injuries</td>\n",
       "      <td>Alabama</td>\n",
       "      <td>2755.0</td>\n",
       "      <td>55.5</td>\n",
       "    </tr>\n",
       "    <tr>\n",
       "      <th>1</th>\n",
       "      <td>2016</td>\n",
       "      <td>Accidents (unintentional injuries) (V01-X59,Y8...</td>\n",
       "      <td>Unintentional injuries</td>\n",
       "      <td>Alaska</td>\n",
       "      <td>439.0</td>\n",
       "      <td>63.1</td>\n",
       "    </tr>\n",
       "    <tr>\n",
       "      <th>2</th>\n",
       "      <td>2016</td>\n",
       "      <td>Accidents (unintentional injuries) (V01-X59,Y8...</td>\n",
       "      <td>Unintentional injuries</td>\n",
       "      <td>Arizona</td>\n",
       "      <td>4010.0</td>\n",
       "      <td>54.2</td>\n",
       "    </tr>\n",
       "    <tr>\n",
       "      <th>3</th>\n",
       "      <td>2016</td>\n",
       "      <td>Accidents (unintentional injuries) (V01-X59,Y8...</td>\n",
       "      <td>Unintentional injuries</td>\n",
       "      <td>Arkansas</td>\n",
       "      <td>1604.0</td>\n",
       "      <td>51.8</td>\n",
       "    </tr>\n",
       "    <tr>\n",
       "      <th>4</th>\n",
       "      <td>2016</td>\n",
       "      <td>Accidents (unintentional injuries) (V01-X59,Y8...</td>\n",
       "      <td>Unintentional injuries</td>\n",
       "      <td>California</td>\n",
       "      <td>13213.0</td>\n",
       "      <td>32.0</td>\n",
       "    </tr>\n",
       "  </tbody>\n",
       "</table>\n",
       "</div>"
      ],
      "text/plain": [
       "   Year                                     113 Cause Name  \\\n",
       "0  2016  Accidents (unintentional injuries) (V01-X59,Y8...   \n",
       "1  2016  Accidents (unintentional injuries) (V01-X59,Y8...   \n",
       "2  2016  Accidents (unintentional injuries) (V01-X59,Y8...   \n",
       "3  2016  Accidents (unintentional injuries) (V01-X59,Y8...   \n",
       "4  2016  Accidents (unintentional injuries) (V01-X59,Y8...   \n",
       "\n",
       "               Cause Name       State   Deaths  Age-adjusted Death Rate  \n",
       "0  Unintentional injuries     Alabama   2755.0                     55.5  \n",
       "1  Unintentional injuries      Alaska    439.0                     63.1  \n",
       "2  Unintentional injuries     Arizona   4010.0                     54.2  \n",
       "3  Unintentional injuries    Arkansas   1604.0                     51.8  \n",
       "4  Unintentional injuries  California  13213.0                     32.0  "
      ]
     },
     "execution_count": 2,
     "metadata": {},
     "output_type": "execute_result"
    }
   ],
   "source": [
    "excel_file = \"data/causes_of_death.xlsx\"\n",
    "data = pd.read_excel(excel_file)\n",
    "data.head()"
   ]
  },
  {
   "cell_type": "markdown",
   "metadata": {},
   "source": [
    "* * *\n",
    "\n",
    "# 3. Gathering Basic Info  \n",
    "\n",
    "* * *\n"
   ]
  },
  {
   "cell_type": "markdown",
   "metadata": {},
   "source": [
    "## A:   .info()\n",
    "**To get basic info from the dataset, we use .info()**"
   ]
  },
  {
   "cell_type": "code",
   "execution_count": 3,
   "metadata": {},
   "outputs": [
    {
     "name": "stdout",
     "output_type": "stream",
     "text": [
      "<class 'pandas.core.frame.DataFrame'>\n",
      "RangeIndex: 10296 entries, 0 to 10295\n",
      "Data columns (total 6 columns):\n",
      "Year                       10296 non-null int64\n",
      "113 Cause Name             10295 non-null object\n",
      "Cause Name                 10295 non-null object\n",
      "State                      10295 non-null object\n",
      "Deaths                     10295 non-null float64\n",
      "Age-adjusted Death Rate    10295 non-null float64\n",
      "dtypes: float64(2), int64(1), object(3)\n",
      "memory usage: 362.0+ KB\n"
     ]
    }
   ],
   "source": [
    "data.info()"
   ]
  },
  {
   "cell_type": "markdown",
   "metadata": {},
   "source": [
    "## B:   .dtypes()\n",
    "**To get datatypes of each column, we can use .dtypes**  "
   ]
  },
  {
   "cell_type": "code",
   "execution_count": 4,
   "metadata": {},
   "outputs": [
    {
     "name": "stdout",
     "output_type": "stream",
     "text": [
      "Year                         int64\n",
      "113 Cause Name              object\n",
      "Cause Name                  object\n",
      "State                       object\n",
      "Deaths                     float64\n",
      "Age-adjusted Death Rate    float64\n",
      "dtype: object\n"
     ]
    }
   ],
   "source": [
    "print (data.dtypes)"
   ]
  },
  {
   "cell_type": "markdown",
   "metadata": {},
   "source": [
    "## C:   .describe()\n",
    "**To get more details about each column, we can use .describe()**  "
   ]
  },
  {
   "cell_type": "code",
   "execution_count": 5,
   "metadata": {},
   "outputs": [
    {
     "data": {
      "text/html": [
       "<div>\n",
       "<style scoped>\n",
       "    .dataframe tbody tr th:only-of-type {\n",
       "        vertical-align: middle;\n",
       "    }\n",
       "\n",
       "    .dataframe tbody tr th {\n",
       "        vertical-align: top;\n",
       "    }\n",
       "\n",
       "    .dataframe thead th {\n",
       "        text-align: right;\n",
       "    }\n",
       "</style>\n",
       "<table border=\"1\" class=\"dataframe\">\n",
       "  <thead>\n",
       "    <tr style=\"text-align: right;\">\n",
       "      <th></th>\n",
       "      <th>Year</th>\n",
       "      <th>Deaths</th>\n",
       "      <th>Age-adjusted Death Rate</th>\n",
       "    </tr>\n",
       "  </thead>\n",
       "  <tbody>\n",
       "    <tr>\n",
       "      <th>count</th>\n",
       "      <td>10296.000000</td>\n",
       "      <td>1.029500e+04</td>\n",
       "      <td>10295.000000</td>\n",
       "    </tr>\n",
       "    <tr>\n",
       "      <th>mean</th>\n",
       "      <td>2007.500000</td>\n",
       "      <td>1.532812e+04</td>\n",
       "      <td>128.033774</td>\n",
       "    </tr>\n",
       "    <tr>\n",
       "      <th>std</th>\n",
       "      <td>5.188379</td>\n",
       "      <td>1.112213e+05</td>\n",
       "      <td>224.364940</td>\n",
       "    </tr>\n",
       "    <tr>\n",
       "      <th>min</th>\n",
       "      <td>1999.000000</td>\n",
       "      <td>2.100000e+01</td>\n",
       "      <td>2.600000</td>\n",
       "    </tr>\n",
       "    <tr>\n",
       "      <th>25%</th>\n",
       "      <td>2003.000000</td>\n",
       "      <td>6.060000e+02</td>\n",
       "      <td>19.200000</td>\n",
       "    </tr>\n",
       "    <tr>\n",
       "      <th>50%</th>\n",
       "      <td>2007.500000</td>\n",
       "      <td>1.705000e+03</td>\n",
       "      <td>35.800000</td>\n",
       "    </tr>\n",
       "    <tr>\n",
       "      <th>75%</th>\n",
       "      <td>2012.000000</td>\n",
       "      <td>5.682000e+03</td>\n",
       "      <td>153.050000</td>\n",
       "    </tr>\n",
       "    <tr>\n",
       "      <th>max</th>\n",
       "      <td>2016.000000</td>\n",
       "      <td>2.712630e+06</td>\n",
       "      <td>1087.300000</td>\n",
       "    </tr>\n",
       "  </tbody>\n",
       "</table>\n",
       "</div>"
      ],
      "text/plain": [
       "               Year        Deaths  Age-adjusted Death Rate\n",
       "count  10296.000000  1.029500e+04             10295.000000\n",
       "mean    2007.500000  1.532812e+04               128.033774\n",
       "std        5.188379  1.112213e+05               224.364940\n",
       "min     1999.000000  2.100000e+01                 2.600000\n",
       "25%     2003.000000  6.060000e+02                19.200000\n",
       "50%     2007.500000  1.705000e+03                35.800000\n",
       "75%     2012.000000  5.682000e+03               153.050000\n",
       "max     2016.000000  2.712630e+06              1087.300000"
      ]
     },
     "execution_count": 5,
     "metadata": {},
     "output_type": "execute_result"
    }
   ],
   "source": [
    "data.describe()"
   ]
  },
  {
   "cell_type": "markdown",
   "metadata": {},
   "source": [
    "## D:   .isnull().sum()\n",
    "   \n",
    "**We can check the number of null/empty values a column has by using .isnull().sum()**  "
   ]
  },
  {
   "cell_type": "code",
   "execution_count": 6,
   "metadata": {},
   "outputs": [
    {
     "data": {
      "text/plain": [
       "Year                       0\n",
       "113 Cause Name             1\n",
       "Cause Name                 1\n",
       "State                      1\n",
       "Deaths                     1\n",
       "Age-adjusted Death Rate    1\n",
       "dtype: int64"
      ]
     },
     "execution_count": 6,
     "metadata": {},
     "output_type": "execute_result"
    }
   ],
   "source": [
    "data.isnull().sum()"
   ]
  },
  {
   "cell_type": "markdown",
   "metadata": {},
   "source": [
    "## E:   .nunique()\n",
    "  \n",
    "**It is useful to see the number of unique values in each column using .nunique()**  "
   ]
  },
  {
   "cell_type": "code",
   "execution_count": 7,
   "metadata": {},
   "outputs": [
    {
     "data": {
      "text/plain": [
       "Year                         18\n",
       "113 Cause Name               11\n",
       "Cause Name                   11\n",
       "State                        52\n",
       "Deaths                     5741\n",
       "Age-adjusted Death Rate    2419\n",
       "dtype: int64"
      ]
     },
     "execution_count": 7,
     "metadata": {},
     "output_type": "execute_result"
    }
   ],
   "source": [
    "data.nunique()"
   ]
  },
  {
   "cell_type": "markdown",
   "metadata": {},
   "source": [
    "## F:   .value_counts()\n"
   ]
  },
  {
   "cell_type": "code",
   "execution_count": 8,
   "metadata": {},
   "outputs": [
    {
     "data": {
      "text/plain": [
       "2015    572\n",
       "2007    572\n",
       "2008    572\n",
       "2016    572\n",
       "2001    572\n",
       "2009    572\n",
       "2002    572\n",
       "2010    572\n",
       "2003    572\n",
       "2011    572\n",
       "2004    572\n",
       "2012    572\n",
       "2005    572\n",
       "2013    572\n",
       "2006    572\n",
       "2014    572\n",
       "1999    572\n",
       "2000    572\n",
       "Name: Year, dtype: int64"
      ]
     },
     "execution_count": 8,
     "metadata": {},
     "output_type": "execute_result"
    }
   ],
   "source": [
    "data.Year.value_counts()"
   ]
  },
  {
   "cell_type": "markdown",
   "metadata": {},
   "source": [
    "***\n",
    "\n",
    "# 4. Cleaning Data into Readable Format  \n",
    "\n",
    "***\n",
    "    \n",
    "## A.   XLS cleaning\n",
    "  \n",
    "**This file doesn't require any cleaning so data will remain as is.**  "
   ]
  },
  {
   "cell_type": "markdown",
   "metadata": {},
   "source": [
    "***\n",
    "\n",
    "# 5. Manipulating Data  \n",
    "\n",
    "***\n",
    "\n",
    "## Groupby\n",
    "\n",
    "**Here we see 'Age-adjusted Death Rate' a good number of unique values to order by, therefore we can group by this columns and make good visualizations**  "
   ]
  },
  {
   "cell_type": "code",
   "execution_count": 9,
   "metadata": {},
   "outputs": [
    {
     "name": "stdout",
     "output_type": "stream",
     "text": [
      "Cause Name\n",
      "All causes                 800.924252\n",
      "Alzheimer's disease         24.618697\n",
      "CLRD                        44.644658\n",
      "Cancer                     179.898825\n",
      "Diabetes                    23.471902\n",
      "Heart disease              199.782372\n",
      "Influenza and pneumonia     18.389103\n",
      "Kidney disease              14.139423\n",
      "Stroke                      46.358333\n",
      "Suicide                     13.235470\n",
      "Unintentional injuries      42.817433\n",
      "Name: Age-adjusted Death Rate, dtype: float64\n"
     ]
    }
   ],
   "source": [
    "group1 = data.groupby(\"Cause Name\")['Age-adjusted Death Rate'].agg(np.mean)\n",
    "print (group1)"
   ]
  },
  {
   "cell_type": "markdown",
   "metadata": {},
   "source": [
    "***\n",
    "\n",
    "# 6. Data Visualization  \n",
    "\n",
    "***\n",
    "\n",
    "**Using matplotlib.pyplot to make bar charts**"
   ]
  },
  {
   "cell_type": "markdown",
   "metadata": {},
   "source": [
    "## A:   **General Plot**  \n",
    "  \n",
    "**Let us try to visualize all the data at once**  "
   ]
  },
  {
   "cell_type": "code",
   "execution_count": 10,
   "metadata": {},
   "outputs": [
    {
     "data": {
      "image/png": "[encoded data removed]",
      "text/plain": [
       "<Figure size 432x288 with 1 Axes>"
      ]
     },
     "metadata": {
      "needs_background": "light"
     },
     "output_type": "display_data"
    }
   ],
   "source": [
    "a = data.plot()\n",
    "plt.show()"
   ]
  },
  {
   "cell_type": "markdown",
   "metadata": {},
   "source": [
    "## B:   **Log Plot**  \n"
   ]
  },
  {
   "cell_type": "code",
   "execution_count": 11,
   "metadata": {},
   "outputs": [
    {
     "data": {
      "image/png": "[encoded data removed]",
      "text/plain": [
       "<Figure size 432x288 with 1 Axes>"
      ]
     },
     "metadata": {
      "needs_background": "light"
     },
     "output_type": "display_data"
    }
   ],
   "source": [
    "data.plot()\n",
    "plt.yscale('log')"
   ]
  },
  {
   "cell_type": "markdown",
   "metadata": {},
   "source": [
    "## C:   **Histogram**  "
   ]
  },
  {
   "cell_type": "code",
   "execution_count": 12,
   "metadata": {},
   "outputs": [
    {
     "name": "stderr",
     "output_type": "stream",
     "text": [
      "c:\\users\\mariam\\appdata\\local\\programs\\python\\python37-32\\lib\\site-packages\\numpy\\lib\\histograms.py:824: RuntimeWarning:\n",
      "\n",
      "invalid value encountered in greater_equal\n",
      "\n",
      "c:\\users\\mariam\\appdata\\local\\programs\\python\\python37-32\\lib\\site-packages\\numpy\\lib\\histograms.py:825: RuntimeWarning:\n",
      "\n",
      "invalid value encountered in less_equal\n",
      "\n"
     ]
    },
    {
     "data": {
      "image/png": "[encoded data removed]",
      "text/plain": [
       "<Figure size 432x288 with 1 Axes>"
      ]
     },
     "metadata": {
      "needs_background": "light"
     },
     "output_type": "display_data"
    }
   ],
   "source": [
    "x = data[\"Deaths\"]\n",
    "num_bins = 10\n",
    "n, bins, patches = plt.hist(x, num_bins, alpha=0.5)"
   ]
  },
  {
   "cell_type": "markdown",
   "metadata": {},
   "source": [
    "## D:   **Scatter Plot**  \n"
   ]
  },
  {
   "cell_type": "code",
   "execution_count": 13,
   "metadata": {},
   "outputs": [
    {
     "data": {
      "text/plain": [
       "<matplotlib.collections.PathCollection at 0xdf917d0>"
      ]
     },
     "execution_count": 13,
     "metadata": {},
     "output_type": "execute_result"
    },
    {
     "data": {
      "image/png": "[encoded data removed]",
      "text/plain": [
       "<Figure size 432x288 with 1 Axes>"
      ]
     },
     "metadata": {
      "needs_background": "light"
     },
     "output_type": "display_data"
    }
   ],
   "source": [
    "x = data['Deaths']\n",
    "y = data['Age-adjusted Death Rate']\n",
    "plt.scatter(x, y, alpha=0.5)"
   ]
  },
  {
   "cell_type": "markdown",
   "metadata": {},
   "source": [
    "## E:   **Bar Graph**  \n",
    "  \n",
    "**A good way to visualize data of a column you wish to group by is to use .value_counts(). It gives a clear picture of how many would be in each group etc.**  "
   ]
  },
  {
   "cell_type": "code",
   "execution_count": 14,
   "metadata": {},
   "outputs": [
    {
     "name": "stdout",
     "output_type": "stream",
     "text": [
      "0    Unintentional injuries\n",
      "1    Unintentional injuries\n",
      "2    Unintentional injuries\n",
      "3    Unintentional injuries\n",
      "4    Unintentional injuries\n",
      "Name: Cause_Name, dtype: object\n",
      "Cancer                     936\n",
      "Heart disease              936\n",
      "Diabetes                   936\n",
      "All causes                 936\n",
      "Stroke                     936\n",
      "Influenza and pneumonia    936\n",
      "Suicide                    936\n",
      "CLRD                       936\n",
      "Alzheimer's disease        936\n",
      "Kidney disease             936\n",
      "Unintentional injuries     935\n",
      "Name: Cause_Name, dtype: int64\n",
      "2015    572\n",
      "2007    572\n",
      "2008    572\n",
      "2016    572\n",
      "2001    572\n",
      "2009    572\n",
      "2002    572\n",
      "2010    572\n",
      "2003    572\n",
      "2011    572\n",
      "2004    572\n",
      "2012    572\n",
      "2005    572\n",
      "2013    572\n",
      "2006    572\n",
      "2014    572\n",
      "1999    572\n",
      "2000    572\n",
      "Name: Year, dtype: int64\n"
     ]
    }
   ],
   "source": [
    "data['Cause_Name']=data['Cause Name']\n",
    "print (data.Cause_Name.head())\n",
    "region = data.Cause_Name.value_counts()\n",
    "print (region)\n",
    "climate = data.Year.value_counts()\n",
    "print (climate)"
   ]
  },
  {
   "cell_type": "code",
   "execution_count": 15,
   "metadata": {},
   "outputs": [
    {
     "data": {
      "image/png": "[encoded data removed]",
      "text/plain": [
       "<Figure size 720x504 with 1 Axes>"
      ]
     },
     "metadata": {
      "needs_background": "light"
     },
     "output_type": "display_data"
    }
   ],
   "source": [
    "plt.figure(figsize=(10,7))\n",
    "plt.bar(np.arange(len(region.index)),group1.values)\n",
    "plt.xticks(np.arange(len(region.index)), group1.index)\n",
    "plt.xticks(rotation=90)\n",
    "plt.ylabel('Average Age')\n",
    "plt.xlabel('Cause Of Death')\n",
    "plt.show()"
   ]
  },
  {
   "cell_type": "markdown",
   "metadata": {},
   "source": [
    "## F:   **Heatmap**  \n"
   ]
  },
  {
   "cell_type": "code",
   "execution_count": 16,
   "metadata": {},
   "outputs": [
    {
     "data": {
      "image/png": "[encoded data removed]",
      "text/plain": [
       "<Figure size 1080x936 with 2 Axes>"
      ]
     },
     "metadata": {
      "needs_background": "light"
     },
     "output_type": "display_data"
    }
   ],
   "source": [
    "f,ax = plt.subplots(figsize=(15, 13))\n",
    "sns.heatmap(data.corr(), annot=True, ax=ax)\n",
    "plt.show()"
   ]
  },
  {
   "cell_type": "code",
   "execution_count": null,
   "metadata": {},
   "outputs": [],
   "source": []
  }
 ],
 "metadata": {
  "kernelspec": {
   "display_name": "Python 3",
   "language": "python",
   "name": "python3"
  },
  "language_info": {
   "codemirror_mode": {
    "name": "ipython",
    "version": 3
   },
   "file_extension": ".py",
   "mimetype": "text/x-python",
   "name": "python",
   "nbconvert_exporter": "python",
   "pygments_lexer": "ipython3",
   "version": "3.7.3"
  }
 },
 "nbformat": 4,
 "nbformat_minor": 2
}
