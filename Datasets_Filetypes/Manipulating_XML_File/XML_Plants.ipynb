{
 "cells": [
  {
   "cell_type": "markdown",
   "metadata": {},
   "source": [
    "**INTRO TO XML**: https://www.w3schools.com/xml/xml_tree.asp"
   ]
  },
  {
   "cell_type": "markdown",
   "metadata": {},
   "source": [
    "***\n",
    "\n",
    "# 1. Importing Packages \n",
    "\n",
    "***\n",
    "\n",
    "**Below is the steps we would go through to load, view and visualize any xml data into a pandas dataframe.**  \n"
   ]
  },
  {
   "cell_type": "code",
   "execution_count": 1,
   "metadata": {},
   "outputs": [],
   "source": [
    "import requests                               #makes data from URLs easy to gather\n",
    "import xml.etree.ElementTree as ET            #stores hierarchical structures from XML\n",
    "import csv\n",
    "import pandas as pd"
   ]
  },
  {
   "cell_type": "markdown",
   "metadata": {},
   "source": [
    "**We add python packages we require.**  "
   ]
  },
  {
   "cell_type": "code",
   "execution_count": 2,
   "metadata": {},
   "outputs": [],
   "source": [
    "from IPython.display import display, HTML\n",
    "import nltk                                   #natural language toolkit; helpful for string data\n",
    "from nltk.tokenize import word_tokenize\n",
    "#from wordcloud import WordCloud, STOPWORDS    #visualizing word in cloud\n",
    "import matplotlib.pyplot as plt\n",
    "import numpy as np\n",
    "from matplotlib import cm as cm               #correlation map\n",
    "from scipy.stats.stats import pearsonr        #pearson correlation\n",
    "from scipy.stats import ttest_ind, ttest_rel\n",
    "from collections import Counter\n",
    "from scipy import stats\n",
    "import seaborn as sns           # required for data visualization purposes."
   ]
  },
  {
   "cell_type": "markdown",
   "metadata": {},
   "source": [
    "***\n",
    "\n",
    "# 2. Reading Data\n",
    "\n",
    "***\n",
    "\n",
    "**Converting XML to pandas dataframe to be able to manipulate data. Most of the parser code was obtained from http://www.austintaylor.io/lxml/python/pandas/xml/dataframe/2016/07/08/convert-xml-to-pandas-dataframe/ and the data was from https://www.w3schools.com/xml/xml_examples.asp**\n"
   ]
  },
  {
   "cell_type": "code",
   "execution_count": 3,
   "metadata": {},
   "outputs": [
    {
     "data": {
      "text/html": [
       "<div>\n",
       "<style scoped>\n",
       "    .dataframe tbody tr th:only-of-type {\n",
       "        vertical-align: middle;\n",
       "    }\n",
       "\n",
       "    .dataframe tbody tr th {\n",
       "        vertical-align: top;\n",
       "    }\n",
       "\n",
       "    .dataframe thead th {\n",
       "        text-align: right;\n",
       "    }\n",
       "</style>\n",
       "<table border=\"1\" class=\"dataframe\">\n",
       "  <thead>\n",
       "    <tr style=\"text-align: right;\">\n",
       "      <th></th>\n",
       "      <th>AVAILABILITY</th>\n",
       "      <th>BOTANICAL</th>\n",
       "      <th>COMMON</th>\n",
       "      <th>LIGHT</th>\n",
       "      <th>PLANT</th>\n",
       "      <th>PRICE</th>\n",
       "      <th>ZONE</th>\n",
       "    </tr>\n",
       "  </thead>\n",
       "  <tbody>\n",
       "    <tr>\n",
       "      <th>0</th>\n",
       "      <td>031599</td>\n",
       "      <td>Sanguinaria canadensis</td>\n",
       "      <td>Bloodroot</td>\n",
       "      <td>Mostly Shady</td>\n",
       "      <td>\\n</td>\n",
       "      <td>$2.44</td>\n",
       "      <td>4</td>\n",
       "    </tr>\n",
       "    <tr>\n",
       "      <th>1</th>\n",
       "      <td>030699</td>\n",
       "      <td>Aquilegia canadensis</td>\n",
       "      <td>Columbine</td>\n",
       "      <td>Mostly Shady</td>\n",
       "      <td>\\n</td>\n",
       "      <td>$9.37</td>\n",
       "      <td>3</td>\n",
       "    </tr>\n",
       "    <tr>\n",
       "      <th>2</th>\n",
       "      <td>051799</td>\n",
       "      <td>Caltha palustris</td>\n",
       "      <td>Marsh Marigold</td>\n",
       "      <td>Mostly Sunny</td>\n",
       "      <td>\\n</td>\n",
       "      <td>$6.81</td>\n",
       "      <td>4</td>\n",
       "    </tr>\n",
       "    <tr>\n",
       "      <th>3</th>\n",
       "      <td>030699</td>\n",
       "      <td>Caltha palustris</td>\n",
       "      <td>Cowslip</td>\n",
       "      <td>Mostly Shady</td>\n",
       "      <td>\\n</td>\n",
       "      <td>$9.90</td>\n",
       "      <td>4</td>\n",
       "    </tr>\n",
       "    <tr>\n",
       "      <th>4</th>\n",
       "      <td>012099</td>\n",
       "      <td>Dicentra cucullaria</td>\n",
       "      <td>Dutchman's-Breeches</td>\n",
       "      <td>Mostly Shady</td>\n",
       "      <td>\\n</td>\n",
       "      <td>$6.44</td>\n",
       "      <td>3</td>\n",
       "    </tr>\n",
       "  </tbody>\n",
       "</table>\n",
       "</div>"
      ],
      "text/plain": [
       "  AVAILABILITY               BOTANICAL               COMMON         LIGHT  \\\n",
       "0       031599  Sanguinaria canadensis            Bloodroot  Mostly Shady   \n",
       "1       030699    Aquilegia canadensis            Columbine  Mostly Shady   \n",
       "2       051799        Caltha palustris       Marsh Marigold  Mostly Sunny   \n",
       "3       030699        Caltha palustris              Cowslip  Mostly Shady   \n",
       "4       012099     Dicentra cucullaria  Dutchman's-Breeches  Mostly Shady   \n",
       "\n",
       "    PLANT  PRICE ZONE  \n",
       "0  \\n      $2.44    4  \n",
       "1  \\n      $9.37    3  \n",
       "2  \\n      $6.81    4  \n",
       "3  \\n      $9.90    4  \n",
       "4  \\n      $6.44    3  "
      ]
     },
     "execution_count": 3,
     "metadata": {},
     "output_type": "execute_result"
    }
   ],
   "source": [
    "user_agent_url = 'https://www.w3schools.com/xml/plant_catalog.xml'\n",
    "xml_data = requests.get(user_agent_url).content\n",
    "\n",
    "class XML2DataFrame:\n",
    "\n",
    "    def __init__(self, xml_data):                    #reading into file\n",
    "        self.root = ET.XML(xml_data)\n",
    "\n",
    "        \n",
    "    \n",
    "    def parse_root(self, root):                      #list of dictionaries and attributes of the children under this XML root.           \n",
    "        return [self.parse_element(child) for child in iter(root)]\n",
    "\n",
    "    \n",
    "    def parse_element(self, element, parsed=None):   #Collect {key:attribute} and {tag:text} from XML elements and all children into a single dictionary of strings.\n",
    "        if parsed is None:\n",
    "            parsed = dict()\n",
    "        for key in element.keys():\n",
    "            parsed[key] = element.attrib.get(key)\n",
    "        if element.text:\n",
    "            parsed[element.tag] = element.text\n",
    "        \n",
    "        for child in list(element):                  #apply recursion\n",
    "            self.parse_element(child, parsed)\n",
    "        return parsed\n",
    "\n",
    "    def process_data(self):                          #Initiate the root XML, parse it, and return a dataframe\n",
    "        structure_data = self.parse_root(self.root)\n",
    "        return pd.DataFrame(structure_data)\n",
    "\n",
    "xml2df = XML2DataFrame(xml_data)\n",
    "xml_df = xml2df.process_data()\n",
    "xml_df.head()\n",
    "\n"
   ]
  },
  {
   "cell_type": "markdown",
   "metadata": {},
   "source": [
    "* * *\n",
    "\n",
    "# 3. Gathering Basic Info  \n",
    "\n",
    "* * *"
   ]
  },
  {
   "cell_type": "markdown",
   "metadata": {},
   "source": [
    "## A:   .info()\n",
    "**To get basic info from the dataset, we use .info()**"
   ]
  },
  {
   "cell_type": "code",
   "execution_count": 4,
   "metadata": {},
   "outputs": [
    {
     "name": "stdout",
     "output_type": "stream",
     "text": [
      "<class 'pandas.core.frame.DataFrame'>\n",
      "RangeIndex: 36 entries, 0 to 35\n",
      "Data columns (total 7 columns):\n",
      "AVAILABILITY    36 non-null object\n",
      "BOTANICAL       36 non-null object\n",
      "COMMON          36 non-null object\n",
      "LIGHT           36 non-null object\n",
      "PLANT           36 non-null object\n",
      "PRICE           36 non-null object\n",
      "ZONE            36 non-null object\n",
      "dtypes: object(7)\n",
      "memory usage: 1.0+ KB\n"
     ]
    }
   ],
   "source": [
    "xml_df.info()"
   ]
  },
  {
   "cell_type": "markdown",
   "metadata": {},
   "source": [
    "## B:   .dtypes()\n",
    "**To get datatypes of each column, we can use .dtypes**  "
   ]
  },
  {
   "cell_type": "code",
   "execution_count": 5,
   "metadata": {},
   "outputs": [],
   "source": [
    "#xml_df.dtypes()"
   ]
  },
  {
   "cell_type": "markdown",
   "metadata": {},
   "source": [
    "## C:   .describe()\n",
    "**To get more details about each column, we can use .describe()**  "
   ]
  },
  {
   "cell_type": "code",
   "execution_count": 6,
   "metadata": {},
   "outputs": [
    {
     "data": {
      "text/html": [
       "<div>\n",
       "<style scoped>\n",
       "    .dataframe tbody tr th:only-of-type {\n",
       "        vertical-align: middle;\n",
       "    }\n",
       "\n",
       "    .dataframe tbody tr th {\n",
       "        vertical-align: top;\n",
       "    }\n",
       "\n",
       "    .dataframe thead th {\n",
       "        text-align: right;\n",
       "    }\n",
       "</style>\n",
       "<table border=\"1\" class=\"dataframe\">\n",
       "  <thead>\n",
       "    <tr style=\"text-align: right;\">\n",
       "      <th></th>\n",
       "      <th>AVAILABILITY</th>\n",
       "      <th>BOTANICAL</th>\n",
       "      <th>COMMON</th>\n",
       "      <th>LIGHT</th>\n",
       "      <th>PLANT</th>\n",
       "      <th>PRICE</th>\n",
       "      <th>ZONE</th>\n",
       "    </tr>\n",
       "  </thead>\n",
       "  <tbody>\n",
       "    <tr>\n",
       "      <th>count</th>\n",
       "      <td>36</td>\n",
       "      <td>36</td>\n",
       "      <td>36</td>\n",
       "      <td>36</td>\n",
       "      <td>36</td>\n",
       "      <td>36</td>\n",
       "      <td>36</td>\n",
       "    </tr>\n",
       "    <tr>\n",
       "      <th>unique</th>\n",
       "      <td>32</td>\n",
       "      <td>25</td>\n",
       "      <td>36</td>\n",
       "      <td>6</td>\n",
       "      <td>1</td>\n",
       "      <td>36</td>\n",
       "      <td>8</td>\n",
       "    </tr>\n",
       "    <tr>\n",
       "      <th>top</th>\n",
       "      <td>020199</td>\n",
       "      <td>Erythronium americanum</td>\n",
       "      <td>Bee Balm</td>\n",
       "      <td>Mostly Shady</td>\n",
       "      <td>\\n</td>\n",
       "      <td>$5.63</td>\n",
       "      <td>4</td>\n",
       "    </tr>\n",
       "    <tr>\n",
       "      <th>freq</th>\n",
       "      <td>3</td>\n",
       "      <td>3</td>\n",
       "      <td>1</td>\n",
       "      <td>13</td>\n",
       "      <td>36</td>\n",
       "      <td>1</td>\n",
       "      <td>15</td>\n",
       "    </tr>\n",
       "  </tbody>\n",
       "</table>\n",
       "</div>"
      ],
      "text/plain": [
       "       AVAILABILITY               BOTANICAL    COMMON         LIGHT   PLANT  \\\n",
       "count            36                      36        36            36      36   \n",
       "unique           32                      25        36             6       1   \n",
       "top          020199  Erythronium americanum  Bee Balm  Mostly Shady  \\n       \n",
       "freq              3                       3         1            13      36   \n",
       "\n",
       "        PRICE ZONE  \n",
       "count      36   36  \n",
       "unique     36    8  \n",
       "top     $5.63    4  \n",
       "freq        1   15  "
      ]
     },
     "execution_count": 6,
     "metadata": {},
     "output_type": "execute_result"
    }
   ],
   "source": [
    "xml_df.describe()"
   ]
  },
  {
   "cell_type": "markdown",
   "metadata": {},
   "source": [
    "## D:   .isnull().sum()\n",
    "**We can check the number of null/empty values a column has by using .isnull().sum()**  "
   ]
  },
  {
   "cell_type": "code",
   "execution_count": 7,
   "metadata": {},
   "outputs": [
    {
     "data": {
      "text/plain": [
       "AVAILABILITY    0\n",
       "BOTANICAL       0\n",
       "COMMON          0\n",
       "LIGHT           0\n",
       "PLANT           0\n",
       "PRICE           0\n",
       "ZONE            0\n",
       "dtype: int64"
      ]
     },
     "execution_count": 7,
     "metadata": {},
     "output_type": "execute_result"
    }
   ],
   "source": [
    "xml_df.isnull().sum()"
   ]
  },
  {
   "cell_type": "markdown",
   "metadata": {},
   "source": [
    "## E:   .nunique()\n",
    "  \n",
    "**It is useful to see the number of unique values in each column using .nunique()**  "
   ]
  },
  {
   "cell_type": "code",
   "execution_count": 8,
   "metadata": {},
   "outputs": [
    {
     "data": {
      "text/plain": [
       "AVAILABILITY    32\n",
       "BOTANICAL       25\n",
       "COMMON          36\n",
       "LIGHT            6\n",
       "PLANT            1\n",
       "PRICE           36\n",
       "ZONE             8\n",
       "dtype: int64"
      ]
     },
     "execution_count": 8,
     "metadata": {},
     "output_type": "execute_result"
    }
   ],
   "source": [
    "xml_df.nunique()"
   ]
  },
  {
   "cell_type": "markdown",
   "metadata": {},
   "source": [
    "## F:   .value_counts()\n"
   ]
  },
  {
   "cell_type": "code",
   "execution_count": 9,
   "metadata": {},
   "outputs": [
    {
     "data": {
      "text/plain": [
       "Mostly Shady    13\n",
       "Shade           12\n",
       "Sun or Shade     6\n",
       "Sunny            3\n",
       "Sun              1\n",
       "Mostly Sunny     1\n",
       "Name: LIGHT, dtype: int64"
      ]
     },
     "execution_count": 9,
     "metadata": {},
     "output_type": "execute_result"
    }
   ],
   "source": [
    "xml_df.LIGHT.value_counts()"
   ]
  },
  {
   "cell_type": "markdown",
   "metadata": {},
   "source": [
    "***\n",
    "\n",
    "# 4. Cleaning Data into Readable Format  \n",
    "\n",
    "***\n",
    "    \n",
    "## A.   XML cleaning\n",
    "  \n",
    "**The column titled \"Plant\" doesn't give value to data and needs to be removed.**  "
   ]
  },
  {
   "cell_type": "code",
   "execution_count": 10,
   "metadata": {},
   "outputs": [
    {
     "data": {
      "text/html": [
       "<div>\n",
       "<style scoped>\n",
       "    .dataframe tbody tr th:only-of-type {\n",
       "        vertical-align: middle;\n",
       "    }\n",
       "\n",
       "    .dataframe tbody tr th {\n",
       "        vertical-align: top;\n",
       "    }\n",
       "\n",
       "    .dataframe thead th {\n",
       "        text-align: right;\n",
       "    }\n",
       "</style>\n",
       "<table border=\"1\" class=\"dataframe\">\n",
       "  <thead>\n",
       "    <tr style=\"text-align: right;\">\n",
       "      <th></th>\n",
       "      <th>AVAILABILITY</th>\n",
       "      <th>BOTANICAL</th>\n",
       "      <th>COMMON</th>\n",
       "      <th>LIGHT</th>\n",
       "      <th>PRICE</th>\n",
       "      <th>ZONE</th>\n",
       "    </tr>\n",
       "  </thead>\n",
       "  <tbody>\n",
       "    <tr>\n",
       "      <th>0</th>\n",
       "      <td>031599</td>\n",
       "      <td>Sanguinaria canadensis</td>\n",
       "      <td>Bloodroot</td>\n",
       "      <td>Mostly Shady</td>\n",
       "      <td>$2.44</td>\n",
       "      <td>4</td>\n",
       "    </tr>\n",
       "    <tr>\n",
       "      <th>1</th>\n",
       "      <td>030699</td>\n",
       "      <td>Aquilegia canadensis</td>\n",
       "      <td>Columbine</td>\n",
       "      <td>Mostly Shady</td>\n",
       "      <td>$9.37</td>\n",
       "      <td>3</td>\n",
       "    </tr>\n",
       "    <tr>\n",
       "      <th>2</th>\n",
       "      <td>051799</td>\n",
       "      <td>Caltha palustris</td>\n",
       "      <td>Marsh Marigold</td>\n",
       "      <td>Mostly Sunny</td>\n",
       "      <td>$6.81</td>\n",
       "      <td>4</td>\n",
       "    </tr>\n",
       "    <tr>\n",
       "      <th>3</th>\n",
       "      <td>030699</td>\n",
       "      <td>Caltha palustris</td>\n",
       "      <td>Cowslip</td>\n",
       "      <td>Mostly Shady</td>\n",
       "      <td>$9.90</td>\n",
       "      <td>4</td>\n",
       "    </tr>\n",
       "    <tr>\n",
       "      <th>4</th>\n",
       "      <td>012099</td>\n",
       "      <td>Dicentra cucullaria</td>\n",
       "      <td>Dutchman's-Breeches</td>\n",
       "      <td>Mostly Shady</td>\n",
       "      <td>$6.44</td>\n",
       "      <td>3</td>\n",
       "    </tr>\n",
       "  </tbody>\n",
       "</table>\n",
       "</div>"
      ],
      "text/plain": [
       "  AVAILABILITY               BOTANICAL               COMMON         LIGHT  \\\n",
       "0       031599  Sanguinaria canadensis            Bloodroot  Mostly Shady   \n",
       "1       030699    Aquilegia canadensis            Columbine  Mostly Shady   \n",
       "2       051799        Caltha palustris       Marsh Marigold  Mostly Sunny   \n",
       "3       030699        Caltha palustris              Cowslip  Mostly Shady   \n",
       "4       012099     Dicentra cucullaria  Dutchman's-Breeches  Mostly Shady   \n",
       "\n",
       "   PRICE ZONE  \n",
       "0  $2.44    4  \n",
       "1  $9.37    3  \n",
       "2  $6.81    4  \n",
       "3  $9.90    4  \n",
       "4  $6.44    3  "
      ]
     },
     "execution_count": 10,
     "metadata": {},
     "output_type": "execute_result"
    }
   ],
   "source": [
    "del xml_df['PLANT']                                  #removed \"PLANT\" column since just a divider\n",
    "xml_df.head()"
   ]
  },
  {
   "cell_type": "markdown",
   "metadata": {},
   "source": [
    "**Changing price string to float value and removing '$'**"
   ]
  },
  {
   "cell_type": "code",
   "execution_count": 11,
   "metadata": {},
   "outputs": [],
   "source": [
    "xml_df['PRICE'] = xml_df['PRICE'].str.replace('$', '')   #remove \"$\" from \"PRICE\" to make into integar\n",
    "xml_df['PRICE'] = xml_df['PRICE'].astype(float)          #converts 'PRICE' from obj to float"
   ]
  },
  {
   "cell_type": "markdown",
   "metadata": {},
   "source": [
    "## B1:   .dtypes()\n",
    "    \n",
    "**Now after cleaning, lets look at the new data types and the mean, std, min, max etc. of all the columns again**"
   ]
  },
  {
   "cell_type": "code",
   "execution_count": 12,
   "metadata": {},
   "outputs": [
    {
     "data": {
      "text/plain": [
       "AVAILABILITY     object\n",
       "BOTANICAL        object\n",
       "COMMON           object\n",
       "LIGHT            object\n",
       "PRICE           float64\n",
       "ZONE             object\n",
       "dtype: object"
      ]
     },
     "execution_count": 12,
     "metadata": {},
     "output_type": "execute_result"
    }
   ],
   "source": [
    "xml_df.dtypes"
   ]
  },
  {
   "cell_type": "markdown",
   "metadata": {},
   "source": [
    "## B2:   .describe()"
   ]
  },
  {
   "cell_type": "code",
   "execution_count": 13,
   "metadata": {},
   "outputs": [
    {
     "data": {
      "text/html": [
       "<div>\n",
       "<style scoped>\n",
       "    .dataframe tbody tr th:only-of-type {\n",
       "        vertical-align: middle;\n",
       "    }\n",
       "\n",
       "    .dataframe tbody tr th {\n",
       "        vertical-align: top;\n",
       "    }\n",
       "\n",
       "    .dataframe thead th {\n",
       "        text-align: right;\n",
       "    }\n",
       "</style>\n",
       "<table border=\"1\" class=\"dataframe\">\n",
       "  <thead>\n",
       "    <tr style=\"text-align: right;\">\n",
       "      <th></th>\n",
       "      <th>PRICE</th>\n",
       "    </tr>\n",
       "  </thead>\n",
       "  <tbody>\n",
       "    <tr>\n",
       "      <th>count</th>\n",
       "      <td>36.000000</td>\n",
       "    </tr>\n",
       "    <tr>\n",
       "      <th>mean</th>\n",
       "      <td>6.369167</td>\n",
       "    </tr>\n",
       "    <tr>\n",
       "      <th>std</th>\n",
       "      <td>2.545079</td>\n",
       "    </tr>\n",
       "    <tr>\n",
       "      <th>min</th>\n",
       "      <td>2.440000</td>\n",
       "    </tr>\n",
       "    <tr>\n",
       "      <th>25%</th>\n",
       "      <td>3.967500</td>\n",
       "    </tr>\n",
       "    <tr>\n",
       "      <th>50%</th>\n",
       "      <td>6.700000</td>\n",
       "    </tr>\n",
       "    <tr>\n",
       "      <th>75%</th>\n",
       "      <td>8.902500</td>\n",
       "    </tr>\n",
       "    <tr>\n",
       "      <th>max</th>\n",
       "      <td>9.900000</td>\n",
       "    </tr>\n",
       "  </tbody>\n",
       "</table>\n",
       "</div>"
      ],
      "text/plain": [
       "           PRICE\n",
       "count  36.000000\n",
       "mean    6.369167\n",
       "std     2.545079\n",
       "min     2.440000\n",
       "25%     3.967500\n",
       "50%     6.700000\n",
       "75%     8.902500\n",
       "max     9.900000"
      ]
     },
     "execution_count": 13,
     "metadata": {},
     "output_type": "execute_result"
    }
   ],
   "source": [
    "xml_df.describe()"
   ]
  },
  {
   "cell_type": "markdown",
   "metadata": {},
   "source": [
    "***\n",
    "\n",
    "# 5. Manipulating Data  \n",
    "\n",
    "***\n",
    "\n",
    "## Groupby\n",
    "\n",
    "**Here we see 'Light' a good number of unique values to order by, therefore we can group by this columns and make good visualizations**  "
   ]
  },
  {
   "cell_type": "code",
   "execution_count": 14,
   "metadata": {},
   "outputs": [
    {
     "data": {
      "text/html": [
       "<table border=\"1\" class=\"dataframe\">\n",
       "  <thead>\n",
       "    <tr style=\"text-align: right;\">\n",
       "      <th></th>\n",
       "      <th>AVAILABILITY</th>\n",
       "      <th>BOTANICAL</th>\n",
       "      <th>COMMON</th>\n",
       "      <th>LIGHT</th>\n",
       "      <th>PRICE</th>\n",
       "      <th>ZONE</th>\n",
       "    </tr>\n",
       "  </thead>\n",
       "  <tbody>\n",
       "    <tr>\n",
       "      <th>0</th>\n",
       "      <td>031599</td>\n",
       "      <td>Sanguinaria canadensis</td>\n",
       "      <td>Bloodroot</td>\n",
       "      <td>Mostly Shady</td>\n",
       "      <td>2.44</td>\n",
       "      <td>4</td>\n",
       "    </tr>\n",
       "    <tr>\n",
       "      <th>1</th>\n",
       "      <td>030699</td>\n",
       "      <td>Aquilegia canadensis</td>\n",
       "      <td>Columbine</td>\n",
       "      <td>Mostly Shady</td>\n",
       "      <td>9.37</td>\n",
       "      <td>3</td>\n",
       "    </tr>\n",
       "    <tr>\n",
       "      <th>3</th>\n",
       "      <td>030699</td>\n",
       "      <td>Caltha palustris</td>\n",
       "      <td>Cowslip</td>\n",
       "      <td>Mostly Shady</td>\n",
       "      <td>9.90</td>\n",
       "      <td>4</td>\n",
       "    </tr>\n",
       "    <tr>\n",
       "      <th>4</th>\n",
       "      <td>012099</td>\n",
       "      <td>Dicentra cucullaria</td>\n",
       "      <td>Dutchman's-Breeches</td>\n",
       "      <td>Mostly Shady</td>\n",
       "      <td>6.44</td>\n",
       "      <td>3</td>\n",
       "    </tr>\n",
       "    <tr>\n",
       "      <th>5</th>\n",
       "      <td>041899</td>\n",
       "      <td>Asarum canadense</td>\n",
       "      <td>Ginger, Wild</td>\n",
       "      <td>Mostly Shady</td>\n",
       "      <td>9.03</td>\n",
       "      <td>3</td>\n",
       "    </tr>\n",
       "    <tr>\n",
       "      <th>6</th>\n",
       "      <td>012699</td>\n",
       "      <td>Hepatica americana</td>\n",
       "      <td>Hepatica</td>\n",
       "      <td>Mostly Shady</td>\n",
       "      <td>4.45</td>\n",
       "      <td>4</td>\n",
       "    </tr>\n",
       "    <tr>\n",
       "      <th>7</th>\n",
       "      <td>010299</td>\n",
       "      <td>Hepatica americana</td>\n",
       "      <td>Liverleaf</td>\n",
       "      <td>Mostly Shady</td>\n",
       "      <td>3.99</td>\n",
       "      <td>4</td>\n",
       "    </tr>\n",
       "    <tr>\n",
       "      <th>8</th>\n",
       "      <td>020199</td>\n",
       "      <td>Arisaema triphyllum</td>\n",
       "      <td>Jack-In-The-Pulpit</td>\n",
       "      <td>Mostly Shady</td>\n",
       "      <td>3.23</td>\n",
       "      <td>4</td>\n",
       "    </tr>\n",
       "    <tr>\n",
       "      <th>9</th>\n",
       "      <td>060599</td>\n",
       "      <td>Podophyllum peltatum</td>\n",
       "      <td>Mayapple</td>\n",
       "      <td>Mostly Shady</td>\n",
       "      <td>2.98</td>\n",
       "      <td>3</td>\n",
       "    </tr>\n",
       "    <tr>\n",
       "      <th>12</th>\n",
       "      <td>020199</td>\n",
       "      <td>Claytonia Virginica</td>\n",
       "      <td>Spring-Beauty</td>\n",
       "      <td>Mostly Shady</td>\n",
       "      <td>6.59</td>\n",
       "      <td>7</td>\n",
       "    </tr>\n",
       "    <tr>\n",
       "      <th>18</th>\n",
       "      <td>122698</td>\n",
       "      <td>Anemone blanda</td>\n",
       "      <td>Anemone</td>\n",
       "      <td>Mostly Shady</td>\n",
       "      <td>8.86</td>\n",
       "      <td>6</td>\n",
       "    </tr>\n",
       "    <tr>\n",
       "      <th>19</th>\n",
       "      <td>071099</td>\n",
       "      <td>Anemone blanda</td>\n",
       "      <td>Grecian Windflower</td>\n",
       "      <td>Mostly Shady</td>\n",
       "      <td>9.16</td>\n",
       "      <td>6</td>\n",
       "    </tr>\n",
       "    <tr>\n",
       "      <th>33</th>\n",
       "      <td>051399</td>\n",
       "      <td>Dodecatheon</td>\n",
       "      <td>Shooting Star</td>\n",
       "      <td>Mostly Shady</td>\n",
       "      <td>8.60</td>\n",
       "      <td>Annual</td>\n",
       "    </tr>\n",
       "  </tbody>\n",
       "</table>"
      ],
      "text/plain": [
       "<IPython.core.display.HTML object>"
      ]
     },
     "metadata": {},
     "output_type": "display_data"
    },
    {
     "data": {
      "text/html": [
       "<table border=\"1\" class=\"dataframe\">\n",
       "  <thead>\n",
       "    <tr style=\"text-align: right;\">\n",
       "      <th></th>\n",
       "      <th>AVAILABILITY</th>\n",
       "      <th>BOTANICAL</th>\n",
       "      <th>COMMON</th>\n",
       "      <th>LIGHT</th>\n",
       "      <th>PRICE</th>\n",
       "      <th>ZONE</th>\n",
       "    </tr>\n",
       "  </thead>\n",
       "  <tbody>\n",
       "    <tr>\n",
       "      <th>2</th>\n",
       "      <td>051799</td>\n",
       "      <td>Caltha palustris</td>\n",
       "      <td>Marsh Marigold</td>\n",
       "      <td>Mostly Sunny</td>\n",
       "      <td>6.81</td>\n",
       "      <td>4</td>\n",
       "    </tr>\n",
       "  </tbody>\n",
       "</table>"
      ],
      "text/plain": [
       "<IPython.core.display.HTML object>"
      ]
     },
     "metadata": {},
     "output_type": "display_data"
    },
    {
     "data": {
      "text/html": [
       "<table border=\"1\" class=\"dataframe\">\n",
       "  <thead>\n",
       "    <tr style=\"text-align: right;\">\n",
       "      <th></th>\n",
       "      <th>AVAILABILITY</th>\n",
       "      <th>BOTANICAL</th>\n",
       "      <th>COMMON</th>\n",
       "      <th>LIGHT</th>\n",
       "      <th>PRICE</th>\n",
       "      <th>ZONE</th>\n",
       "    </tr>\n",
       "  </thead>\n",
       "  <tbody>\n",
       "    <tr>\n",
       "      <th>15</th>\n",
       "      <td>020199</td>\n",
       "      <td>Erythronium americanum</td>\n",
       "      <td>Violet, Dog-Tooth</td>\n",
       "      <td>Shade</td>\n",
       "      <td>9.04</td>\n",
       "      <td>4</td>\n",
       "    </tr>\n",
       "    <tr>\n",
       "      <th>16</th>\n",
       "      <td>032499</td>\n",
       "      <td>Erythronium americanum</td>\n",
       "      <td>Trout Lily</td>\n",
       "      <td>Shade</td>\n",
       "      <td>6.94</td>\n",
       "      <td>4</td>\n",
       "    </tr>\n",
       "    <tr>\n",
       "      <th>17</th>\n",
       "      <td>041399</td>\n",
       "      <td>Erythronium americanum</td>\n",
       "      <td>Adder's-Tongue</td>\n",
       "      <td>Shade</td>\n",
       "      <td>9.58</td>\n",
       "      <td>4</td>\n",
       "    </tr>\n",
       "    <tr>\n",
       "      <th>20</th>\n",
       "      <td>050399</td>\n",
       "      <td>Monarda didyma</td>\n",
       "      <td>Bee Balm</td>\n",
       "      <td>Shade</td>\n",
       "      <td>4.59</td>\n",
       "      <td>4</td>\n",
       "    </tr>\n",
       "    <tr>\n",
       "      <th>21</th>\n",
       "      <td>042799</td>\n",
       "      <td>Monarda didyma</td>\n",
       "      <td>Bergamot</td>\n",
       "      <td>Shade</td>\n",
       "      <td>7.16</td>\n",
       "      <td>4</td>\n",
       "    </tr>\n",
       "    <tr>\n",
       "      <th>23</th>\n",
       "      <td>061099</td>\n",
       "      <td>Ranunculus</td>\n",
       "      <td>Buttercup</td>\n",
       "      <td>Shade</td>\n",
       "      <td>2.57</td>\n",
       "      <td>4</td>\n",
       "    </tr>\n",
       "    <tr>\n",
       "      <th>24</th>\n",
       "      <td>040399</td>\n",
       "      <td>Ranunculus</td>\n",
       "      <td>Crowfoot</td>\n",
       "      <td>Shade</td>\n",
       "      <td>9.34</td>\n",
       "      <td>4</td>\n",
       "    </tr>\n",
       "    <tr>\n",
       "      <th>26</th>\n",
       "      <td>052599</td>\n",
       "      <td>Potentilla</td>\n",
       "      <td>Cinquefoil</td>\n",
       "      <td>Shade</td>\n",
       "      <td>7.06</td>\n",
       "      <td>Annual</td>\n",
       "    </tr>\n",
       "    <tr>\n",
       "      <th>30</th>\n",
       "      <td>022199</td>\n",
       "      <td>Polemonium caeruleum</td>\n",
       "      <td>Jacob's Ladder</td>\n",
       "      <td>Shade</td>\n",
       "      <td>9.26</td>\n",
       "      <td>Annual</td>\n",
       "    </tr>\n",
       "    <tr>\n",
       "      <th>31</th>\n",
       "      <td>071499</td>\n",
       "      <td>Polemonium caeruleum</td>\n",
       "      <td>Greek Valerian</td>\n",
       "      <td>Shade</td>\n",
       "      <td>4.36</td>\n",
       "      <td>Annual</td>\n",
       "    </tr>\n",
       "    <tr>\n",
       "      <th>34</th>\n",
       "      <td>071199</td>\n",
       "      <td>Cimicifuga</td>\n",
       "      <td>Snakeroot</td>\n",
       "      <td>Shade</td>\n",
       "      <td>5.63</td>\n",
       "      <td>Annual</td>\n",
       "    </tr>\n",
       "    <tr>\n",
       "      <th>35</th>\n",
       "      <td>022299</td>\n",
       "      <td>Lobelia cardinalis</td>\n",
       "      <td>Cardinal Flower</td>\n",
       "      <td>Shade</td>\n",
       "      <td>3.02</td>\n",
       "      <td>2</td>\n",
       "    </tr>\n",
       "  </tbody>\n",
       "</table>"
      ],
      "text/plain": [
       "<IPython.core.display.HTML object>"
      ]
     },
     "metadata": {},
     "output_type": "display_data"
    },
    {
     "data": {
      "text/html": [
       "<table border=\"1\" class=\"dataframe\">\n",
       "  <thead>\n",
       "    <tr style=\"text-align: right;\">\n",
       "      <th></th>\n",
       "      <th>AVAILABILITY</th>\n",
       "      <th>BOTANICAL</th>\n",
       "      <th>COMMON</th>\n",
       "      <th>LIGHT</th>\n",
       "      <th>PRICE</th>\n",
       "      <th>ZONE</th>\n",
       "    </tr>\n",
       "  </thead>\n",
       "  <tbody>\n",
       "    <tr>\n",
       "      <th>32</th>\n",
       "      <td>032799</td>\n",
       "      <td>Eschscholzia californica</td>\n",
       "      <td>California Poppy</td>\n",
       "      <td>Sun</td>\n",
       "      <td>7.89</td>\n",
       "      <td>Annual</td>\n",
       "    </tr>\n",
       "  </tbody>\n",
       "</table>"
      ],
      "text/plain": [
       "<IPython.core.display.HTML object>"
      ]
     },
     "metadata": {},
     "output_type": "display_data"
    },
    {
     "data": {
      "text/html": [
       "<table border=\"1\" class=\"dataframe\">\n",
       "  <thead>\n",
       "    <tr style=\"text-align: right;\">\n",
       "      <th></th>\n",
       "      <th>AVAILABILITY</th>\n",
       "      <th>BOTANICAL</th>\n",
       "      <th>COMMON</th>\n",
       "      <th>LIGHT</th>\n",
       "      <th>PRICE</th>\n",
       "      <th>ZONE</th>\n",
       "    </tr>\n",
       "  </thead>\n",
       "  <tbody>\n",
       "    <tr>\n",
       "      <th>10</th>\n",
       "      <td>012299</td>\n",
       "      <td>Phlox divaricata</td>\n",
       "      <td>Phlox, Woodland</td>\n",
       "      <td>Sun or Shade</td>\n",
       "      <td>2.80</td>\n",
       "      <td>3</td>\n",
       "    </tr>\n",
       "    <tr>\n",
       "      <th>11</th>\n",
       "      <td>021699</td>\n",
       "      <td>Phlox divaricata</td>\n",
       "      <td>Phlox, Blue</td>\n",
       "      <td>Sun or Shade</td>\n",
       "      <td>5.59</td>\n",
       "      <td>3</td>\n",
       "    </tr>\n",
       "    <tr>\n",
       "      <th>13</th>\n",
       "      <td>042999</td>\n",
       "      <td>Trillium grandiflorum</td>\n",
       "      <td>Trillium</td>\n",
       "      <td>Sun or Shade</td>\n",
       "      <td>3.90</td>\n",
       "      <td>5</td>\n",
       "    </tr>\n",
       "    <tr>\n",
       "      <th>14</th>\n",
       "      <td>022199</td>\n",
       "      <td>Trillium grandiflorum</td>\n",
       "      <td>Wake Robin</td>\n",
       "      <td>Sun or Shade</td>\n",
       "      <td>3.20</td>\n",
       "      <td>5</td>\n",
       "    </tr>\n",
       "    <tr>\n",
       "      <th>28</th>\n",
       "      <td>051899</td>\n",
       "      <td>Gentiana</td>\n",
       "      <td>Gentian</td>\n",
       "      <td>Sun or Shade</td>\n",
       "      <td>7.81</td>\n",
       "      <td>4</td>\n",
       "    </tr>\n",
       "    <tr>\n",
       "      <th>29</th>\n",
       "      <td>050299</td>\n",
       "      <td>Gentiana</td>\n",
       "      <td>Blue Gentian</td>\n",
       "      <td>Sun or Shade</td>\n",
       "      <td>8.56</td>\n",
       "      <td>4</td>\n",
       "    </tr>\n",
       "  </tbody>\n",
       "</table>"
      ],
      "text/plain": [
       "<IPython.core.display.HTML object>"
      ]
     },
     "metadata": {},
     "output_type": "display_data"
    },
    {
     "data": {
      "text/html": [
       "<table border=\"1\" class=\"dataframe\">\n",
       "  <thead>\n",
       "    <tr style=\"text-align: right;\">\n",
       "      <th></th>\n",
       "      <th>AVAILABILITY</th>\n",
       "      <th>BOTANICAL</th>\n",
       "      <th>COMMON</th>\n",
       "      <th>LIGHT</th>\n",
       "      <th>PRICE</th>\n",
       "      <th>ZONE</th>\n",
       "    </tr>\n",
       "  </thead>\n",
       "  <tbody>\n",
       "    <tr>\n",
       "      <th>22</th>\n",
       "      <td>061899</td>\n",
       "      <td>Rudbeckia hirta</td>\n",
       "      <td>Black-Eyed Susan</td>\n",
       "      <td>Sunny</td>\n",
       "      <td>9.80</td>\n",
       "      <td>Annual</td>\n",
       "    </tr>\n",
       "    <tr>\n",
       "      <th>25</th>\n",
       "      <td>063099</td>\n",
       "      <td>Asclepias tuberosa</td>\n",
       "      <td>Butterfly Weed</td>\n",
       "      <td>Sunny</td>\n",
       "      <td>2.78</td>\n",
       "      <td>Annual</td>\n",
       "    </tr>\n",
       "    <tr>\n",
       "      <th>27</th>\n",
       "      <td>013099</td>\n",
       "      <td>Oenothera</td>\n",
       "      <td>Primrose</td>\n",
       "      <td>Sunny</td>\n",
       "      <td>6.56</td>\n",
       "      <td>3 - 5</td>\n",
       "    </tr>\n",
       "  </tbody>\n",
       "</table>"
      ],
      "text/plain": [
       "<IPython.core.display.HTML object>"
      ]
     },
     "metadata": {},
     "output_type": "display_data"
    }
   ],
   "source": [
    "group = xml_df.groupby([\"LIGHT\"])\n",
    "for key,item in group:\n",
    "    display(HTML(group.get_group(key).to_html()))"
   ]
  },
  {
   "cell_type": "markdown",
   "metadata": {},
   "source": [
    "## Tokenizing\n",
    "\n",
    "**Since the data is in string format, we can manipulate the words in various ways**"
   ]
  },
  {
   "cell_type": "code",
   "execution_count": 15,
   "metadata": {},
   "outputs": [
    {
     "name": "stdout",
     "output_type": "stream",
     "text": [
      "0     Mostly Shady\n",
      "1     Mostly Shady\n",
      "2     Mostly Sunny\n",
      "3     Mostly Shady\n",
      "4     Mostly Shady\n",
      "5     Mostly Shady\n",
      "6     Mostly Shady\n",
      "7     Mostly Shady\n",
      "8     Mostly Shady\n",
      "9     Mostly Shady\n",
      "10    Sun or Shade\n",
      "11    Sun or Shade\n",
      "12    Mostly Shady\n",
      "13    Sun or Shade\n",
      "14    Sun or Shade\n",
      "15           Shade\n",
      "16           Shade\n",
      "17           Shade\n",
      "18    Mostly Shady\n",
      "19    Mostly Shady\n",
      "20           Shade\n",
      "21           Shade\n",
      "22           Sunny\n",
      "23           Shade\n",
      "24           Shade\n",
      "25           Sunny\n",
      "26           Shade\n",
      "27           Sunny\n",
      "28    Sun or Shade\n",
      "29    Sun or Shade\n",
      "30           Shade\n",
      "31           Shade\n",
      "32             Sun\n",
      "33    Mostly Shady\n",
      "34           Shade\n",
      "35           Shade\n",
      "Name: LIGHT, dtype: object\n",
      "0      [Mostly, Shady]\n",
      "1      [Mostly, Shady]\n",
      "2      [Mostly, Sunny]\n",
      "3      [Mostly, Shady]\n",
      "4      [Mostly, Shady]\n",
      "5      [Mostly, Shady]\n",
      "6      [Mostly, Shady]\n",
      "7      [Mostly, Shady]\n",
      "8      [Mostly, Shady]\n",
      "9      [Mostly, Shady]\n",
      "10    [Sun, or, Shade]\n",
      "11    [Sun, or, Shade]\n",
      "12     [Mostly, Shady]\n",
      "13    [Sun, or, Shade]\n",
      "14    [Sun, or, Shade]\n",
      "15             [Shade]\n",
      "16             [Shade]\n",
      "17             [Shade]\n",
      "18     [Mostly, Shady]\n",
      "19     [Mostly, Shady]\n",
      "20             [Shade]\n",
      "21             [Shade]\n",
      "22             [Sunny]\n",
      "23             [Shade]\n",
      "24             [Shade]\n",
      "25             [Sunny]\n",
      "26             [Shade]\n",
      "27             [Sunny]\n",
      "28    [Sun, or, Shade]\n",
      "29    [Sun, or, Shade]\n",
      "30             [Shade]\n",
      "31             [Shade]\n",
      "32               [Sun]\n",
      "33     [Mostly, Shady]\n",
      "34             [Shade]\n",
      "35             [Shade]\n",
      "Name: LIGHT, dtype: object\n"
     ]
    }
   ],
   "source": [
    "tokens = xml_df['LIGHT']. apply(word_tokenize) \n",
    "print (xml_df['LIGHT'])\n",
    "print (tokens)\n",
    "\n",
    "flattened_list = []\n",
    "for x in tokens:\n",
    "    for y in x:\n",
    "        flattened_list.append(y)\n",
    "#print (flattened_list)\n",
    "#print (\"\\n\")\n",
    "#print (flattened_list.count('Sun'))\n",
    "#print (\"\\n\")\n",
    "#print (flattened_list.count('Shade'))"
   ]
  },
  {
   "cell_type": "code",
   "execution_count": 16,
   "metadata": {},
   "outputs": [
    {
     "data": {
      "text/plain": [
       "Shade     18\n",
       "Mostly    14\n",
       "Shady     13\n",
       "Sun        7\n",
       "or         6\n",
       "Sunny      4\n",
       "dtype: int64"
      ]
     },
     "execution_count": 16,
     "metadata": {},
     "output_type": "execute_result"
    }
   ],
   "source": [
    "#finds how many times a word is repeated in given column\n",
    "xml_df.LIGHT.str.split(expand=True).stack().value_counts()"
   ]
  },
  {
   "cell_type": "markdown",
   "metadata": {},
   "source": [
    "## Label Encoding\n",
    "\n",
    "**Reassigning column object to become category --> assign encoded value to different numeric outputs in column** "
   ]
  },
  {
   "cell_type": "code",
   "execution_count": 17,
   "metadata": {},
   "outputs": [
    {
     "data": {
      "text/html": [
       "<table border=\"1\" class=\"dataframe\">\n",
       "  <thead>\n",
       "    <tr style=\"text-align: right;\">\n",
       "      <th></th>\n",
       "      <th>AVAILABILITY</th>\n",
       "      <th>BOTANICAL</th>\n",
       "      <th>COMMON</th>\n",
       "      <th>LIGHT</th>\n",
       "      <th>PRICE</th>\n",
       "      <th>ZONE</th>\n",
       "      <th>LIGHT_LE</th>\n",
       "      <th>ZONE_LE</th>\n",
       "    </tr>\n",
       "  </thead>\n",
       "  <tbody>\n",
       "    <tr>\n",
       "      <th>0</th>\n",
       "      <td>031599</td>\n",
       "      <td>Sanguinaria canadensis</td>\n",
       "      <td>Bloodroot</td>\n",
       "      <td>Mostly Shady</td>\n",
       "      <td>2.44</td>\n",
       "      <td>4</td>\n",
       "      <td>0</td>\n",
       "      <td>3</td>\n",
       "    </tr>\n",
       "    <tr>\n",
       "      <th>1</th>\n",
       "      <td>030699</td>\n",
       "      <td>Aquilegia canadensis</td>\n",
       "      <td>Columbine</td>\n",
       "      <td>Mostly Shady</td>\n",
       "      <td>9.37</td>\n",
       "      <td>3</td>\n",
       "      <td>0</td>\n",
       "      <td>1</td>\n",
       "    </tr>\n",
       "    <tr>\n",
       "      <th>2</th>\n",
       "      <td>051799</td>\n",
       "      <td>Caltha palustris</td>\n",
       "      <td>Marsh Marigold</td>\n",
       "      <td>Mostly Sunny</td>\n",
       "      <td>6.81</td>\n",
       "      <td>4</td>\n",
       "      <td>1</td>\n",
       "      <td>3</td>\n",
       "    </tr>\n",
       "    <tr>\n",
       "      <th>3</th>\n",
       "      <td>030699</td>\n",
       "      <td>Caltha palustris</td>\n",
       "      <td>Cowslip</td>\n",
       "      <td>Mostly Shady</td>\n",
       "      <td>9.90</td>\n",
       "      <td>4</td>\n",
       "      <td>0</td>\n",
       "      <td>3</td>\n",
       "    </tr>\n",
       "    <tr>\n",
       "      <th>4</th>\n",
       "      <td>012099</td>\n",
       "      <td>Dicentra cucullaria</td>\n",
       "      <td>Dutchman's-Breeches</td>\n",
       "      <td>Mostly Shady</td>\n",
       "      <td>6.44</td>\n",
       "      <td>3</td>\n",
       "      <td>0</td>\n",
       "      <td>1</td>\n",
       "    </tr>\n",
       "    <tr>\n",
       "      <th>5</th>\n",
       "      <td>041899</td>\n",
       "      <td>Asarum canadense</td>\n",
       "      <td>Ginger, Wild</td>\n",
       "      <td>Mostly Shady</td>\n",
       "      <td>9.03</td>\n",
       "      <td>3</td>\n",
       "      <td>0</td>\n",
       "      <td>1</td>\n",
       "    </tr>\n",
       "    <tr>\n",
       "      <th>6</th>\n",
       "      <td>012699</td>\n",
       "      <td>Hepatica americana</td>\n",
       "      <td>Hepatica</td>\n",
       "      <td>Mostly Shady</td>\n",
       "      <td>4.45</td>\n",
       "      <td>4</td>\n",
       "      <td>0</td>\n",
       "      <td>3</td>\n",
       "    </tr>\n",
       "    <tr>\n",
       "      <th>7</th>\n",
       "      <td>010299</td>\n",
       "      <td>Hepatica americana</td>\n",
       "      <td>Liverleaf</td>\n",
       "      <td>Mostly Shady</td>\n",
       "      <td>3.99</td>\n",
       "      <td>4</td>\n",
       "      <td>0</td>\n",
       "      <td>3</td>\n",
       "    </tr>\n",
       "    <tr>\n",
       "      <th>8</th>\n",
       "      <td>020199</td>\n",
       "      <td>Arisaema triphyllum</td>\n",
       "      <td>Jack-In-The-Pulpit</td>\n",
       "      <td>Mostly Shady</td>\n",
       "      <td>3.23</td>\n",
       "      <td>4</td>\n",
       "      <td>0</td>\n",
       "      <td>3</td>\n",
       "    </tr>\n",
       "    <tr>\n",
       "      <th>9</th>\n",
       "      <td>060599</td>\n",
       "      <td>Podophyllum peltatum</td>\n",
       "      <td>Mayapple</td>\n",
       "      <td>Mostly Shady</td>\n",
       "      <td>2.98</td>\n",
       "      <td>3</td>\n",
       "      <td>0</td>\n",
       "      <td>1</td>\n",
       "    </tr>\n",
       "    <tr>\n",
       "      <th>10</th>\n",
       "      <td>012299</td>\n",
       "      <td>Phlox divaricata</td>\n",
       "      <td>Phlox, Woodland</td>\n",
       "      <td>Sun or Shade</td>\n",
       "      <td>2.80</td>\n",
       "      <td>3</td>\n",
       "      <td>4</td>\n",
       "      <td>1</td>\n",
       "    </tr>\n",
       "    <tr>\n",
       "      <th>11</th>\n",
       "      <td>021699</td>\n",
       "      <td>Phlox divaricata</td>\n",
       "      <td>Phlox, Blue</td>\n",
       "      <td>Sun or Shade</td>\n",
       "      <td>5.59</td>\n",
       "      <td>3</td>\n",
       "      <td>4</td>\n",
       "      <td>1</td>\n",
       "    </tr>\n",
       "    <tr>\n",
       "      <th>12</th>\n",
       "      <td>020199</td>\n",
       "      <td>Claytonia Virginica</td>\n",
       "      <td>Spring-Beauty</td>\n",
       "      <td>Mostly Shady</td>\n",
       "      <td>6.59</td>\n",
       "      <td>7</td>\n",
       "      <td>0</td>\n",
       "      <td>6</td>\n",
       "    </tr>\n",
       "    <tr>\n",
       "      <th>13</th>\n",
       "      <td>042999</td>\n",
       "      <td>Trillium grandiflorum</td>\n",
       "      <td>Trillium</td>\n",
       "      <td>Sun or Shade</td>\n",
       "      <td>3.90</td>\n",
       "      <td>5</td>\n",
       "      <td>4</td>\n",
       "      <td>4</td>\n",
       "    </tr>\n",
       "    <tr>\n",
       "      <th>14</th>\n",
       "      <td>022199</td>\n",
       "      <td>Trillium grandiflorum</td>\n",
       "      <td>Wake Robin</td>\n",
       "      <td>Sun or Shade</td>\n",
       "      <td>3.20</td>\n",
       "      <td>5</td>\n",
       "      <td>4</td>\n",
       "      <td>4</td>\n",
       "    </tr>\n",
       "    <tr>\n",
       "      <th>15</th>\n",
       "      <td>020199</td>\n",
       "      <td>Erythronium americanum</td>\n",
       "      <td>Violet, Dog-Tooth</td>\n",
       "      <td>Shade</td>\n",
       "      <td>9.04</td>\n",
       "      <td>4</td>\n",
       "      <td>2</td>\n",
       "      <td>3</td>\n",
       "    </tr>\n",
       "    <tr>\n",
       "      <th>16</th>\n",
       "      <td>032499</td>\n",
       "      <td>Erythronium americanum</td>\n",
       "      <td>Trout Lily</td>\n",
       "      <td>Shade</td>\n",
       "      <td>6.94</td>\n",
       "      <td>4</td>\n",
       "      <td>2</td>\n",
       "      <td>3</td>\n",
       "    </tr>\n",
       "    <tr>\n",
       "      <th>17</th>\n",
       "      <td>041399</td>\n",
       "      <td>Erythronium americanum</td>\n",
       "      <td>Adder's-Tongue</td>\n",
       "      <td>Shade</td>\n",
       "      <td>9.58</td>\n",
       "      <td>4</td>\n",
       "      <td>2</td>\n",
       "      <td>3</td>\n",
       "    </tr>\n",
       "    <tr>\n",
       "      <th>18</th>\n",
       "      <td>122698</td>\n",
       "      <td>Anemone blanda</td>\n",
       "      <td>Anemone</td>\n",
       "      <td>Mostly Shady</td>\n",
       "      <td>8.86</td>\n",
       "      <td>6</td>\n",
       "      <td>0</td>\n",
       "      <td>5</td>\n",
       "    </tr>\n",
       "    <tr>\n",
       "      <th>19</th>\n",
       "      <td>071099</td>\n",
       "      <td>Anemone blanda</td>\n",
       "      <td>Grecian Windflower</td>\n",
       "      <td>Mostly Shady</td>\n",
       "      <td>9.16</td>\n",
       "      <td>6</td>\n",
       "      <td>0</td>\n",
       "      <td>5</td>\n",
       "    </tr>\n",
       "    <tr>\n",
       "      <th>20</th>\n",
       "      <td>050399</td>\n",
       "      <td>Monarda didyma</td>\n",
       "      <td>Bee Balm</td>\n",
       "      <td>Shade</td>\n",
       "      <td>4.59</td>\n",
       "      <td>4</td>\n",
       "      <td>2</td>\n",
       "      <td>3</td>\n",
       "    </tr>\n",
       "    <tr>\n",
       "      <th>21</th>\n",
       "      <td>042799</td>\n",
       "      <td>Monarda didyma</td>\n",
       "      <td>Bergamot</td>\n",
       "      <td>Shade</td>\n",
       "      <td>7.16</td>\n",
       "      <td>4</td>\n",
       "      <td>2</td>\n",
       "      <td>3</td>\n",
       "    </tr>\n",
       "    <tr>\n",
       "      <th>22</th>\n",
       "      <td>061899</td>\n",
       "      <td>Rudbeckia hirta</td>\n",
       "      <td>Black-Eyed Susan</td>\n",
       "      <td>Sunny</td>\n",
       "      <td>9.80</td>\n",
       "      <td>Annual</td>\n",
       "      <td>5</td>\n",
       "      <td>7</td>\n",
       "    </tr>\n",
       "    <tr>\n",
       "      <th>23</th>\n",
       "      <td>061099</td>\n",
       "      <td>Ranunculus</td>\n",
       "      <td>Buttercup</td>\n",
       "      <td>Shade</td>\n",
       "      <td>2.57</td>\n",
       "      <td>4</td>\n",
       "      <td>2</td>\n",
       "      <td>3</td>\n",
       "    </tr>\n",
       "    <tr>\n",
       "      <th>24</th>\n",
       "      <td>040399</td>\n",
       "      <td>Ranunculus</td>\n",
       "      <td>Crowfoot</td>\n",
       "      <td>Shade</td>\n",
       "      <td>9.34</td>\n",
       "      <td>4</td>\n",
       "      <td>2</td>\n",
       "      <td>3</td>\n",
       "    </tr>\n",
       "    <tr>\n",
       "      <th>25</th>\n",
       "      <td>063099</td>\n",
       "      <td>Asclepias tuberosa</td>\n",
       "      <td>Butterfly Weed</td>\n",
       "      <td>Sunny</td>\n",
       "      <td>2.78</td>\n",
       "      <td>Annual</td>\n",
       "      <td>5</td>\n",
       "      <td>7</td>\n",
       "    </tr>\n",
       "    <tr>\n",
       "      <th>26</th>\n",
       "      <td>052599</td>\n",
       "      <td>Potentilla</td>\n",
       "      <td>Cinquefoil</td>\n",
       "      <td>Shade</td>\n",
       "      <td>7.06</td>\n",
       "      <td>Annual</td>\n",
       "      <td>2</td>\n",
       "      <td>7</td>\n",
       "    </tr>\n",
       "    <tr>\n",
       "      <th>27</th>\n",
       "      <td>013099</td>\n",
       "      <td>Oenothera</td>\n",
       "      <td>Primrose</td>\n",
       "      <td>Sunny</td>\n",
       "      <td>6.56</td>\n",
       "      <td>3 - 5</td>\n",
       "      <td>5</td>\n",
       "      <td>2</td>\n",
       "    </tr>\n",
       "    <tr>\n",
       "      <th>28</th>\n",
       "      <td>051899</td>\n",
       "      <td>Gentiana</td>\n",
       "      <td>Gentian</td>\n",
       "      <td>Sun or Shade</td>\n",
       "      <td>7.81</td>\n",
       "      <td>4</td>\n",
       "      <td>4</td>\n",
       "      <td>3</td>\n",
       "    </tr>\n",
       "    <tr>\n",
       "      <th>29</th>\n",
       "      <td>050299</td>\n",
       "      <td>Gentiana</td>\n",
       "      <td>Blue Gentian</td>\n",
       "      <td>Sun or Shade</td>\n",
       "      <td>8.56</td>\n",
       "      <td>4</td>\n",
       "      <td>4</td>\n",
       "      <td>3</td>\n",
       "    </tr>\n",
       "    <tr>\n",
       "      <th>30</th>\n",
       "      <td>022199</td>\n",
       "      <td>Polemonium caeruleum</td>\n",
       "      <td>Jacob's Ladder</td>\n",
       "      <td>Shade</td>\n",
       "      <td>9.26</td>\n",
       "      <td>Annual</td>\n",
       "      <td>2</td>\n",
       "      <td>7</td>\n",
       "    </tr>\n",
       "    <tr>\n",
       "      <th>31</th>\n",
       "      <td>071499</td>\n",
       "      <td>Polemonium caeruleum</td>\n",
       "      <td>Greek Valerian</td>\n",
       "      <td>Shade</td>\n",
       "      <td>4.36</td>\n",
       "      <td>Annual</td>\n",
       "      <td>2</td>\n",
       "      <td>7</td>\n",
       "    </tr>\n",
       "    <tr>\n",
       "      <th>32</th>\n",
       "      <td>032799</td>\n",
       "      <td>Eschscholzia californica</td>\n",
       "      <td>California Poppy</td>\n",
       "      <td>Sun</td>\n",
       "      <td>7.89</td>\n",
       "      <td>Annual</td>\n",
       "      <td>3</td>\n",
       "      <td>7</td>\n",
       "    </tr>\n",
       "    <tr>\n",
       "      <th>33</th>\n",
       "      <td>051399</td>\n",
       "      <td>Dodecatheon</td>\n",
       "      <td>Shooting Star</td>\n",
       "      <td>Mostly Shady</td>\n",
       "      <td>8.60</td>\n",
       "      <td>Annual</td>\n",
       "      <td>0</td>\n",
       "      <td>7</td>\n",
       "    </tr>\n",
       "    <tr>\n",
       "      <th>34</th>\n",
       "      <td>071199</td>\n",
       "      <td>Cimicifuga</td>\n",
       "      <td>Snakeroot</td>\n",
       "      <td>Shade</td>\n",
       "      <td>5.63</td>\n",
       "      <td>Annual</td>\n",
       "      <td>2</td>\n",
       "      <td>7</td>\n",
       "    </tr>\n",
       "    <tr>\n",
       "      <th>35</th>\n",
       "      <td>022299</td>\n",
       "      <td>Lobelia cardinalis</td>\n",
       "      <td>Cardinal Flower</td>\n",
       "      <td>Shade</td>\n",
       "      <td>3.02</td>\n",
       "      <td>2</td>\n",
       "      <td>2</td>\n",
       "      <td>0</td>\n",
       "    </tr>\n",
       "  </tbody>\n",
       "</table>"
      ],
      "text/plain": [
       "<IPython.core.display.HTML object>"
      ]
     },
     "metadata": {},
     "output_type": "display_data"
    }
   ],
   "source": [
    "xml_df['LIGHT']= xml_df['LIGHT'].astype('category')      #convert 'LIGHT' from obj to category\n",
    "xml_df[\"LIGHT_LE\"] = xml_df[\"LIGHT\"].cat.codes              #label encoding\n",
    "\n",
    "\n",
    "xml_df['ZONE']= xml_df['ZONE'].astype('category')      #convert 'LIGHT' from obj to category\n",
    "xml_df[\"ZONE_LE\"] = xml_df[\"ZONE\"].cat.codes              #label encoding\n",
    "\n",
    "\n",
    "display(HTML(xml_df.to_html()))"
   ]
  },
  {
   "cell_type": "markdown",
   "metadata": {},
   "source": [
    "## Binary\n",
    "\n",
    "**Creates binary where one specified input is 1 and everything else in column is 0** "
   ]
  },
  {
   "cell_type": "code",
   "execution_count": 18,
   "metadata": {},
   "outputs": [],
   "source": [
    "xml_df[\"ZONE_binary\"] = np.where(xml_df[\"ZONE\"].str.contains(\"4\"), 1, 0)"
   ]
  },
  {
   "cell_type": "markdown",
   "metadata": {},
   "source": [
    "***\n",
    "\n",
    "# 6. Data Visualization  \n",
    "\n",
    "***\n",
    "\n",
    "**Using matplotlib.pyplot to make bar charts**"
   ]
  },
  {
   "cell_type": "markdown",
   "metadata": {},
   "source": [
    "## A:   **General Plot**  \n",
    "  \n",
    "**Let us try to visualize all the data at once**  "
   ]
  },
  {
   "cell_type": "code",
   "execution_count": 19,
   "metadata": {},
   "outputs": [
    {
     "data": {
      "image/png": "[encoded data removed]",
      "text/plain": [
       "<Figure size 432x288 with 1 Axes>"
      ]
     },
     "metadata": {
      "needs_background": "light"
     },
     "output_type": "display_data"
    }
   ],
   "source": [
    "a = xml_df.plot()\n",
    "plt.show()"
   ]
  },
  {
   "cell_type": "markdown",
   "metadata": {},
   "source": [
    "## B:   **Log Plot**  \n"
   ]
  },
  {
   "cell_type": "code",
   "execution_count": 20,
   "metadata": {},
   "outputs": [
    {
     "data": {
      "image/png": "[encoded data removed]",
      "text/plain": [
       "<Figure size 432x288 with 1 Axes>"
      ]
     },
     "metadata": {
      "needs_background": "light"
     },
     "output_type": "display_data"
    }
   ],
   "source": [
    "xml_df.plot()\n",
    "plt.yscale('log')"
   ]
  },
  {
   "cell_type": "markdown",
   "metadata": {},
   "source": [
    "## C:   **Histogram**  "
   ]
  },
  {
   "cell_type": "code",
   "execution_count": 21,
   "metadata": {},
   "outputs": [
    {
     "data": {
      "image/png": "[encoded data removed]",
      "text/plain": [
       "<Figure size 432x288 with 1 Axes>"
      ]
     },
     "metadata": {
      "needs_background": "light"
     },
     "output_type": "display_data"
    }
   ],
   "source": [
    "x = xml_df[\"PRICE\"]\n",
    "num_bins = 50\n",
    "n, bins, patches = plt.hist(x, num_bins, alpha=0.5)"
   ]
  },
  {
   "cell_type": "markdown",
   "metadata": {},
   "source": [
    "## D:   **Scatter Plot**  \n"
   ]
  },
  {
   "cell_type": "code",
   "execution_count": 22,
   "metadata": {},
   "outputs": [
    {
     "data": {
      "text/plain": [
       "<matplotlib.collections.PathCollection at 0xf29b7f0>"
      ]
     },
     "execution_count": 22,
     "metadata": {},
     "output_type": "execute_result"
    },
    {
     "data": {
      "image/png": "[encoded data removed]",
      "text/plain": [
       "<Figure size 432x288 with 1 Axes>"
      ]
     },
     "metadata": {
      "needs_background": "light"
     },
     "output_type": "display_data"
    }
   ],
   "source": [
    "x = xml_df['ZONE']\n",
    "y = xml_df['PRICE']\n",
    "plt.scatter(x, y, alpha=0.5)"
   ]
  },
  {
   "cell_type": "code",
   "execution_count": 23,
   "metadata": {},
   "outputs": [
    {
     "data": {
      "image/png": "[encoded data removed]",
      "text/plain": [
       "<Figure size 432x288 with 1 Axes>"
      ]
     },
     "metadata": {
      "needs_background": "light"
     },
     "output_type": "display_data"
    }
   ],
   "source": [
    "x = xml_df['ZONE_LE']\n",
    "y = xml_df['PRICE']\n",
    "plt.scatter(x, y)\n",
    "plt.xlabel('Zone_LE')\n",
    "plt.ylabel('Price')\n",
    "plt.title('Price vs Zone of Growth', fontweight = 'bold')\n",
    "plt.figtext(.95, .1,'Label encoding: \\nZone 2 -> 0\\n \\nZone 3 -> 1\\n \\nZone 3-5 -> 2\\n \\nZone 4 -> 3\\n \\nZone 5 -> 4\\n \\nZone 6 -> 5\\n \\nZone 7 -> 6\\n \\nAnnual -> 7\\n')\n",
    "plt.show()"
   ]
  },
  {
   "cell_type": "markdown",
   "metadata": {},
   "source": [
    "## E:   **Bar Graph**  \n",
    "  \n",
    "**A good way to visualize data of a column you wish to group by is to use .value_counts(). It gives a clear picture of how many would be in each group etc.**  "
   ]
  },
  {
   "cell_type": "code",
   "execution_count": 24,
   "metadata": {},
   "outputs": [
    {
     "data": {
      "image/png": "[encoded data removed]",
      "text/plain": [
       "<Figure size 720x504 with 1 Axes>"
      ]
     },
     "metadata": {
      "needs_background": "light"
     },
     "output_type": "display_data"
    }
   ],
   "source": [
    "light = xml_df['LIGHT'].value_counts()\n",
    "plt.figure(figsize=(10,7))\n",
    "plt.barh(np.arange(len(light.index)), light.values)\n",
    "plt.yticks(np.arange(len(light.index)), light.index)\n",
    "plt.xlabel('Number of Plants')\n",
    "plt.title('Number of plants according to light exposure', fontweight = 'bold')\n",
    "plt.savefig('images/barh.png', bbox_inches=\"tight\")\n",
    "plt.show()"
   ]
  },
  {
   "cell_type": "markdown",
   "metadata": {},
   "source": [
    "**We can also combine categories from the previous bar graph to simply the figure.**"
   ]
  },
  {
   "cell_type": "code",
   "execution_count": 25,
   "metadata": {},
   "outputs": [
    {
     "data": {
      "image/png": "[encoded data removed]",
      "text/plain": [
       "<Figure size 720x504 with 1 Axes>"
      ]
     },
     "metadata": {
      "needs_background": "light"
     },
     "output_type": "display_data"
    }
   ],
   "source": [
    "#initializing new categories\n",
    "count_sun = (xml_df['LIGHT'] == 'Sunny').sum() + (xml_df['LIGHT'] == 'Mostly Sunny').sum() + (xml_df['LIGHT'] == 'Sun').sum()\n",
    "count_SunOrShade = (xml_df['LIGHT'] == 'Sun or Shade').sum()\n",
    "count_shade = (xml_df['LIGHT'] == 'Shade').sum() + (xml_df['LIGHT'] == 'Mostly Shady').sum()\n",
    "\n",
    "\n",
    "categories = ['Shade', 'Sun or Shade', 'Sun']\n",
    "y_pos = np.arange(len(categories))\n",
    "height = [count_shade, count_SunOrShade, count_sun]\n",
    "\n",
    "plt.figure(figsize=(10,7))\n",
    "width = 0.5\n",
    "plt.barh(y_pos, height, width)\n",
    "plt.yticks(y_pos, categories)\n",
    "plt.xlabel('Number of Plants')\n",
    "plt.title('Summary of Light Exposure for Plant Growth')\n",
    "plt.tight_layout\n",
    "plt.show()              \n"
   ]
  },
  {
   "cell_type": "markdown",
   "metadata": {},
   "source": [
    "## F:   **Heatmap**  \n"
   ]
  },
  {
   "cell_type": "code",
   "execution_count": 26,
   "metadata": {},
   "outputs": [
    {
     "data": {
      "image/png": "[encoded data removed]",
      "text/plain": [
       "<Figure size 1080x936 with 2 Axes>"
      ]
     },
     "metadata": {
      "needs_background": "light"
     },
     "output_type": "display_data"
    }
   ],
   "source": [
    "f,ax = plt.subplots(figsize=(15, 13))\n",
    "sns.heatmap(xml_df.corr(), annot=True, ax=ax)\n",
    "plt.show()"
   ]
  },
  {
   "cell_type": "markdown",
   "metadata": {},
   "source": [
    "## I:   **Wordcloud**  \n"
   ]
  },
  {
   "cell_type": "code",
   "execution_count": 28,
   "metadata": {},
   "outputs": [
    {
     "data": {
      "text/plain": [
       "'\\n#WORDCLOUD - creating word cloud to visualize frequency of word used\\n\\n\\nwordcloud = WordCloud().generate(\\' \\'.join(xml_df[\\'LIGHT\\']))\\n#wordcloud = WordCloud().generate(\\' \\'.join(xml_df[\\'BOTANICAL\\']))\\n\\nplt.imshow(wordcloud)\\nplt.axis(\"off\")\\nplt.savefig(\\'wordcloud.png\\', bbox_inches=\"tight\")\\nplt.show()\\n\\n'"
      ]
     },
     "execution_count": 28,
     "metadata": {},
     "output_type": "execute_result"
    }
   ],
   "source": [
    "\"\"\"\n",
    "#WORDCLOUD - creating word cloud to visualize frequency of word used\n",
    "\n",
    "\n",
    "wordcloud = WordCloud().generate(' '.join(xml_df['LIGHT']))\n",
    "#wordcloud = WordCloud().generate(' '.join(xml_df['BOTANICAL']))\n",
    "\n",
    "plt.imshow(wordcloud)\n",
    "plt.axis(\"off\")\n",
    "plt.savefig('wordcloud.png', bbox_inches=\"tight\")\n",
    "plt.show()\n",
    "\n",
    "\"\"\""
   ]
  },
  {
   "cell_type": "markdown",
   "metadata": {},
   "source": [
    "***\n",
    "\n",
    "# 7. Statistical Testing \n",
    "\n",
    "***\n",
    "\n",
    "\n",
    "**There's always independent (eg gender) and dependent variable (eg test scores). If independent variable has more than one outcome, use ANOVA, otherwise use t-test. Testing done to determine to what degree of confidence the difference between means of 2 groups did not occur by chance.**\n",
    "\n",
    "## T-Test\n",
    "\n",
    "**Used to determine if there's significant difference between the mean of 2 groups. infer that dependent variable fits normal distribution so we can always predict what the outcome is.** \n",
    "- **larger t score -> larger difference between both groups**\n",
    "- **smaller p value -> less probability that results were by chance**\n",
    "\n",
    "**ANOVA: similar to t-test but used if comparing means of more than 2 populations**\n",
    "\n"
   ]
  },
  {
   "cell_type": "code",
   "execution_count": null,
   "metadata": {},
   "outputs": [],
   "source": [
    "#t-test\n",
    "#2 independent samples\n",
    "#returns (t-score, two-tailed p-value)\n",
    "\n",
    "\n",
    "cat1 = xml_df['LIGHT_LE']\n",
    "cat2 = xml_df['ZONE_LE']\n",
    "\n",
    "ttest_ind(cat1, cat2)\n",
    "\n",
    "\n",
    "\n",
    "#t-test\n",
    "#2 dependent samples\n",
    "#returns (t-score, two-tailed p-value)\n",
    "\n",
    "#ttest_rel(cat3, cat4)"
   ]
  },
  {
   "cell_type": "markdown",
   "metadata": {},
   "source": [
    "## **Pearson  Correlation**\n",
    "\n",
    "**Gives strongest linear correlation between 2 groups, expressed in terms of r [-1,+1] where 0 means there's no correlation; can be either positively or negatively correlated**"
   ]
  },
  {
   "cell_type": "code",
   "execution_count": null,
   "metadata": {},
   "outputs": [],
   "source": [
    "#gives (Pearson's correlation coefficient, 2-tailed p-value)\n",
    "\n",
    "#data = xml_df[['LIGHT','ZONE_binary']]\n",
    "\n",
    "x = xml_df['ZONE_LE']\n",
    "y = xml_df['PRICE']\n",
    "pearsonr(x, y)\n",
    "#correlation = data.corr(method='pearson')"
   ]
  }
 ],
 "metadata": {
  "kernelspec": {
   "display_name": "Python 3",
   "language": "python",
   "name": "python3"
  },
  "language_info": {
   "codemirror_mode": {
    "name": "ipython",
    "version": 3
   },
   "file_extension": ".py",
   "mimetype": "text/x-python",
   "name": "python",
   "nbconvert_exporter": "python",
   "pygments_lexer": "ipython3",
   "version": "3.7.3"
  }
 },
 "nbformat": 4,
 "nbformat_minor": 2
}
