{
 "cells": [
  {
   "cell_type": "markdown",
   "metadata": {},
   "source": [
    "**Below is the steps we would go through to load, view and visualize any json data.**  \n",
    "  \n",
    "**STEP 1: ADDING PACKAGES**  \n",
    "  \n",
    "**We add python packages we require.**  "
   ]
  },
  {
   "cell_type": "code",
   "execution_count": 1,
   "metadata": {},
   "outputs": [
    {
     "data": {
      "text/html": [
       "<script>requirejs.config({paths: { 'plotly': ['https://cdn.plot.ly/plotly-latest.min']},});if(!window.Plotly) {{require(['plotly'],function(plotly) {window.Plotly=plotly;});}}</script>"
      ],
      "text/vnd.plotly.v1+html": [
       "<script>requirejs.config({paths: { 'plotly': ['https://cdn.plot.ly/plotly-latest.min']},});if(!window.Plotly) {{require(['plotly'],function(plotly) {window.Plotly=plotly;});}}</script>"
      ]
     },
     "metadata": {},
     "output_type": "display_data"
    }
   ],
   "source": [
    "import xml.etree.cElementTree as et   # required to extract data from xml format\n",
    "import numpy  as np                   # easy to play with arrays etc.\n",
    "import pandas as pd                   # required to load and read data and put in dataframe.\n",
    "import matplotlib.pyplot as plt       # required for data visualization purposes.\n",
    "import seaborn as sns                 # required for data visualization purposes.\n",
    "import plotly.plotly as py            # required for data visualization purposes.\n",
    "import plotly.graph_objs as go        # required for data visualization purposes.\n",
    "import re\n",
    "from IPython.display import display, HTML\n",
    "from plotly.offline import init_notebook_mode, iplot\n",
    "init_notebook_mode(connected=True)"
   ]
  },
  {
   "cell_type": "markdown",
   "metadata": {},
   "source": [
    "**STEP 2: READING IN A DATASET**  \n",
    "  \n",
    "**To read data in the form of .xml, you need et.parse()**  \n",
    "**We also need to get the root for this we use .getroot()**\n",
    "\n",
    "**XML files are all strcutured differently, so you need to explore a bit**  \n",
    "\n",
    "**https://catalog.data.gov/dataset/age-adjusted-death-rates-for-the-top-10-leading-causes-of-death-united-states-2013 is source of data**  "
   ]
  },
  {
   "cell_type": "code",
   "execution_count": 56,
   "metadata": {
    "collapsed": true
   },
   "outputs": [],
   "source": [
    "parser=RDF.Parser(name=\"ntriples\") #as name for parser you can use ntriples, turtle, rdfxml, ...\n",
    "model=RDF.Model()\n",
    "stream=parser.parse_into_model(model,\"file://file_path\")\n",
    "for triple in model:\n",
    "    print triple.subject, triple.predicate, triple.objectparsedXML = et.parse( \"data/rows.xml\" )\n",
    "root = parsedXML.getroot()\n",
    "\n",
    "dictionary_to_df = {}\n",
    "\n",
    "for neighbor in root.findall(\"row/row\"):\n",
    "    #print neighbor.tag,neighbor.attrib\n",
    "    for child in neighbor:\n",
    "        #The below two lines should be added to make sure all the arrays in the dictionary stay the same length.\n",
    "        #If you remove those lines and run, make sure to run the last two lines in this cell to see the sizes of arrays.\n",
    "        if child.tag == 'predicted_value' or child.tag == 'footnote':\n",
    "            continue\n",
    "            \n",
    "        if(child.tag not in dictionary_to_df):\n",
    "            dictionary_to_df[child.tag]=[child.text] \n",
    "        else:            \n",
    "            dictionary_to_df[child.tag].append(child.text)\n",
    "        \n",
    "# for key, array in  dictionary_to_df.items():\n",
    "    # print key, len(array)"
   ]
  },
  {
   "cell_type": "markdown",
   "metadata": {},
   "source": [
    "**STEP 3: PUTTING THE DATA IN A PANDAS DATAFRAME**  \n",
    "  \n",
    "\n",
    "**We use pd.DataFrame() to put the data we extracted into a pandas df format**"
   ]
  },
  {
   "cell_type": "code",
   "execution_count": 59,
   "metadata": {},
   "outputs": [
    {
     "data": {
      "text/html": [
       "<table border=\"1\" class=\"dataframe\">\n",
       "  <thead>\n",
       "    <tr style=\"text-align: right;\">\n",
       "      <th></th>\n",
       "      <th>data_value</th>\n",
       "      <th>indicator</th>\n",
       "      <th>month</th>\n",
       "      <th>percent_complete</th>\n",
       "      <th>percent_pending_investigation</th>\n",
       "      <th>state</th>\n",
       "      <th>state_name</th>\n",
       "      <th>year</th>\n",
       "    </tr>\n",
       "  </thead>\n",
       "  <tbody>\n",
       "    <tr>\n",
       "      <th>0</th>\n",
       "      <td>4034</td>\n",
       "      <td>Number of Deaths</td>\n",
       "      <td>January</td>\n",
       "      <td>100</td>\n",
       "      <td>0</td>\n",
       "      <td>AK</td>\n",
       "      <td>AK</td>\n",
       "      <td>2015</td>\n",
       "    </tr>\n",
       "    <tr>\n",
       "      <th>1</th>\n",
       "      <td>4084</td>\n",
       "      <td>Number of Deaths</td>\n",
       "      <td>February</td>\n",
       "      <td>100</td>\n",
       "      <td>0</td>\n",
       "      <td>AK</td>\n",
       "      <td>AK</td>\n",
       "      <td>2015</td>\n",
       "    </tr>\n",
       "    <tr>\n",
       "      <th>2</th>\n",
       "      <td>4101</td>\n",
       "      <td>Number of Deaths</td>\n",
       "      <td>March</td>\n",
       "      <td>100</td>\n",
       "      <td>0</td>\n",
       "      <td>AK</td>\n",
       "      <td>AK</td>\n",
       "      <td>2015</td>\n",
       "    </tr>\n",
       "    <tr>\n",
       "      <th>3</th>\n",
       "      <td>4133</td>\n",
       "      <td>Number of Deaths</td>\n",
       "      <td>April</td>\n",
       "      <td>100</td>\n",
       "      <td>0</td>\n",
       "      <td>AK</td>\n",
       "      <td>AK</td>\n",
       "      <td>2015</td>\n",
       "    </tr>\n",
       "    <tr>\n",
       "      <th>4</th>\n",
       "      <td>4196</td>\n",
       "      <td>Number of Deaths</td>\n",
       "      <td>May</td>\n",
       "      <td>100</td>\n",
       "      <td>0</td>\n",
       "      <td>AK</td>\n",
       "      <td>AK</td>\n",
       "      <td>2015</td>\n",
       "    </tr>\n",
       "  </tbody>\n",
       "</table>"
      ],
      "text/plain": [
       "<IPython.core.display.HTML object>"
      ]
     },
     "metadata": {},
     "output_type": "display_data"
    }
   ],
   "source": [
    "data = pd.DataFrame.from_dict(dictionary_to_df)\n",
    "display(HTML(data.head().to_html()))"
   ]
  },
  {
   "cell_type": "markdown",
   "metadata": {},
   "source": [
    "**STEP 4: DECIDING WHICH COLUMNS MATTER**  \n",
    "  \n",
    "\n",
    "**There are several columns with data that is redundant. Essentially we pick the columns we want, in the order that we want and discard the rest**"
   ]
  },
  {
   "cell_type": "code",
   "execution_count": 60,
   "metadata": {},
   "outputs": [
    {
     "name": "stdout",
     "output_type": "stream",
     "text": [
      "\t\t\t The Final Dataset\n"
     ]
    },
    {
     "data": {
      "text/html": [
       "<table border=\"1\" class=\"dataframe\">\n",
       "  <thead>\n",
       "    <tr style=\"text-align: right;\">\n",
       "      <th></th>\n",
       "      <th>state</th>\n",
       "      <th>year</th>\n",
       "      <th>month</th>\n",
       "      <th>percent_complete</th>\n",
       "      <th>percent_pending_investigation</th>\n",
       "      <th>data_value</th>\n",
       "    </tr>\n",
       "  </thead>\n",
       "  <tbody>\n",
       "    <tr>\n",
       "      <th>0</th>\n",
       "      <td>AK</td>\n",
       "      <td>2015</td>\n",
       "      <td>January</td>\n",
       "      <td>100</td>\n",
       "      <td>0</td>\n",
       "      <td>4034</td>\n",
       "    </tr>\n",
       "    <tr>\n",
       "      <th>1</th>\n",
       "      <td>AK</td>\n",
       "      <td>2015</td>\n",
       "      <td>February</td>\n",
       "      <td>100</td>\n",
       "      <td>0</td>\n",
       "      <td>4084</td>\n",
       "    </tr>\n",
       "    <tr>\n",
       "      <th>2</th>\n",
       "      <td>AK</td>\n",
       "      <td>2015</td>\n",
       "      <td>March</td>\n",
       "      <td>100</td>\n",
       "      <td>0</td>\n",
       "      <td>4101</td>\n",
       "    </tr>\n",
       "    <tr>\n",
       "      <th>3</th>\n",
       "      <td>AK</td>\n",
       "      <td>2015</td>\n",
       "      <td>April</td>\n",
       "      <td>100</td>\n",
       "      <td>0</td>\n",
       "      <td>4133</td>\n",
       "    </tr>\n",
       "    <tr>\n",
       "      <th>4</th>\n",
       "      <td>AK</td>\n",
       "      <td>2015</td>\n",
       "      <td>May</td>\n",
       "      <td>100</td>\n",
       "      <td>0</td>\n",
       "      <td>4196</td>\n",
       "    </tr>\n",
       "  </tbody>\n",
       "</table>"
      ],
      "text/plain": [
       "<IPython.core.display.HTML object>"
      ]
     },
     "metadata": {},
     "output_type": "display_data"
    }
   ],
   "source": [
    "data = data[['state', 'year', 'month', 'percent_complete', 'percent_pending_investigation','data_value']]\n",
    "print \"\\t\\t\\t The Final Dataset\"\n",
    "display(HTML(data.head().to_html()))"
   ]
  },
  {
   "cell_type": "markdown",
   "metadata": {},
   "source": [
    "**STEP 5: VIEWING THE FIRST FEW ROWS**  \n",
    "  \n",
    "\n",
    "**To see the first few rows of the data and make sure we read it in correctly, we use .head()**\n"
   ]
  },
  {
   "cell_type": "code",
   "execution_count": 64,
   "metadata": {},
   "outputs": [
    {
     "data": {
      "text/html": [
       "<table border=\"1\" class=\"dataframe\">\n",
       "  <thead>\n",
       "    <tr style=\"text-align: right;\">\n",
       "      <th></th>\n",
       "      <th>state</th>\n",
       "      <th>year</th>\n",
       "      <th>month</th>\n",
       "      <th>percent_complete</th>\n",
       "      <th>percent_pending_investigation</th>\n",
       "      <th>data_value</th>\n",
       "    </tr>\n",
       "  </thead>\n",
       "  <tbody>\n",
       "    <tr>\n",
       "      <th>0</th>\n",
       "      <td>AK</td>\n",
       "      <td>2015</td>\n",
       "      <td>January</td>\n",
       "      <td>100</td>\n",
       "      <td>0</td>\n",
       "      <td>4034</td>\n",
       "    </tr>\n",
       "    <tr>\n",
       "      <th>1</th>\n",
       "      <td>AK</td>\n",
       "      <td>2015</td>\n",
       "      <td>February</td>\n",
       "      <td>100</td>\n",
       "      <td>0</td>\n",
       "      <td>4084</td>\n",
       "    </tr>\n",
       "    <tr>\n",
       "      <th>2</th>\n",
       "      <td>AK</td>\n",
       "      <td>2015</td>\n",
       "      <td>March</td>\n",
       "      <td>100</td>\n",
       "      <td>0</td>\n",
       "      <td>4101</td>\n",
       "    </tr>\n",
       "    <tr>\n",
       "      <th>3</th>\n",
       "      <td>AK</td>\n",
       "      <td>2015</td>\n",
       "      <td>April</td>\n",
       "      <td>100</td>\n",
       "      <td>0</td>\n",
       "      <td>4133</td>\n",
       "    </tr>\n",
       "    <tr>\n",
       "      <th>4</th>\n",
       "      <td>AK</td>\n",
       "      <td>2015</td>\n",
       "      <td>May</td>\n",
       "      <td>100</td>\n",
       "      <td>0</td>\n",
       "      <td>4196</td>\n",
       "    </tr>\n",
       "    <tr>\n",
       "      <th>5</th>\n",
       "      <td>AK</td>\n",
       "      <td>2015</td>\n",
       "      <td>June</td>\n",
       "      <td>100</td>\n",
       "      <td>0</td>\n",
       "      <td>4201</td>\n",
       "    </tr>\n",
       "    <tr>\n",
       "      <th>6</th>\n",
       "      <td>AK</td>\n",
       "      <td>2015</td>\n",
       "      <td>July</td>\n",
       "      <td>100</td>\n",
       "      <td>0</td>\n",
       "      <td>4220</td>\n",
       "    </tr>\n",
       "    <tr>\n",
       "      <th>7</th>\n",
       "      <td>AK</td>\n",
       "      <td>2015</td>\n",
       "      <td>August</td>\n",
       "      <td>100</td>\n",
       "      <td>0</td>\n",
       "      <td>4222</td>\n",
       "    </tr>\n",
       "    <tr>\n",
       "      <th>8</th>\n",
       "      <td>AK</td>\n",
       "      <td>2015</td>\n",
       "      <td>September</td>\n",
       "      <td>100</td>\n",
       "      <td>0</td>\n",
       "      <td>4242</td>\n",
       "    </tr>\n",
       "    <tr>\n",
       "      <th>9</th>\n",
       "      <td>AK</td>\n",
       "      <td>2015</td>\n",
       "      <td>October</td>\n",
       "      <td>100</td>\n",
       "      <td>0</td>\n",
       "      <td>4241</td>\n",
       "    </tr>\n",
       "    <tr>\n",
       "      <th>10</th>\n",
       "      <td>AK</td>\n",
       "      <td>2015</td>\n",
       "      <td>November</td>\n",
       "      <td>100</td>\n",
       "      <td>0</td>\n",
       "      <td>4219</td>\n",
       "    </tr>\n",
       "    <tr>\n",
       "      <th>11</th>\n",
       "      <td>AK</td>\n",
       "      <td>2015</td>\n",
       "      <td>December</td>\n",
       "      <td>100</td>\n",
       "      <td>0</td>\n",
       "      <td>4193</td>\n",
       "    </tr>\n",
       "    <tr>\n",
       "      <th>12</th>\n",
       "      <td>AK</td>\n",
       "      <td>2016</td>\n",
       "      <td>January</td>\n",
       "      <td>100</td>\n",
       "      <td>0</td>\n",
       "      <td>4213</td>\n",
       "    </tr>\n",
       "    <tr>\n",
       "      <th>13</th>\n",
       "      <td>AK</td>\n",
       "      <td>2016</td>\n",
       "      <td>February</td>\n",
       "      <td>100</td>\n",
       "      <td>0</td>\n",
       "      <td>4198</td>\n",
       "    </tr>\n",
       "    <tr>\n",
       "      <th>14</th>\n",
       "      <td>AK</td>\n",
       "      <td>2016</td>\n",
       "      <td>March</td>\n",
       "      <td>100</td>\n",
       "      <td>0</td>\n",
       "      <td>4230</td>\n",
       "    </tr>\n",
       "  </tbody>\n",
       "</table>"
      ],
      "text/plain": [
       "<IPython.core.display.HTML object>"
      ]
     },
     "metadata": {},
     "output_type": "display_data"
    }
   ],
   "source": [
    "display(HTML(data.head(15).to_html()))"
   ]
  },
  {
   "cell_type": "markdown",
   "metadata": {},
   "source": [
    "**STEP 6: GET BASIC INFORMATION**  \n",
    "  \n",
    "**To get basic info from the dataset, we use .info()**"
   ]
  },
  {
   "cell_type": "code",
   "execution_count": 65,
   "metadata": {},
   "outputs": [
    {
     "name": "stdout",
     "output_type": "stream",
     "text": [
      "<class 'pandas.core.frame.DataFrame'>\n",
      "RangeIndex: 10108 entries, 0 to 10107\n",
      "Data columns (total 6 columns):\n",
      "state                            10108 non-null object\n",
      "year                             10108 non-null object\n",
      "month                            10108 non-null object\n",
      "percent_complete                 10108 non-null object\n",
      "percent_pending_investigation    10108 non-null object\n",
      "data_value                       10108 non-null object\n",
      "dtypes: object(6)\n",
      "memory usage: 473.9+ KB\n"
     ]
    }
   ],
   "source": [
    "data.info()"
   ]
  },
  {
   "cell_type": "markdown",
   "metadata": {},
   "source": [
    "**STEP 7: SEE FURTHER DETAILS**  \n",
    "  \n",
    "**To get datatypes of each column, we can use .dtypes**  \n",
    "\n",
    "**To get more details about each column, we can use .describe()**  \n",
    "  \n",
    "The reason we only get data from 3 columns is because the rest have commas in them which need to be removed\n",
    "We can deal with this later while cleaning."
   ]
  },
  {
   "cell_type": "code",
   "execution_count": 70,
   "metadata": {},
   "outputs": [
    {
     "name": "stdout",
     "output_type": "stream",
     "text": [
      "state                            object\n",
      "year                             object\n",
      "month                            object\n",
      "percent_complete                 object\n",
      "percent_pending_investigation    object\n",
      "data_value                       object\n",
      "dtype: object\n",
      "\n",
      "\n"
     ]
    },
    {
     "data": {
      "text/html": [
       "<table border=\"1\" class=\"dataframe\">\n",
       "  <thead>\n",
       "    <tr style=\"text-align: right;\">\n",
       "      <th></th>\n",
       "      <th>state</th>\n",
       "      <th>year</th>\n",
       "      <th>month</th>\n",
       "      <th>percent_complete</th>\n",
       "      <th>percent_pending_investigation</th>\n",
       "      <th>data_value</th>\n",
       "    </tr>\n",
       "  </thead>\n",
       "  <tbody>\n",
       "    <tr>\n",
       "      <th>count</th>\n",
       "      <td>10108</td>\n",
       "      <td>10108</td>\n",
       "      <td>10108</td>\n",
       "      <td>10108</td>\n",
       "      <td>10108</td>\n",
       "      <td>10108</td>\n",
       "    </tr>\n",
       "    <tr>\n",
       "      <th>unique</th>\n",
       "      <td>53</td>\n",
       "      <td>4</td>\n",
       "      <td>12</td>\n",
       "      <td>2</td>\n",
       "      <td>1787</td>\n",
       "      <td>4628</td>\n",
       "    </tr>\n",
       "    <tr>\n",
       "      <th>top</th>\n",
       "      <td>WA</td>\n",
       "      <td>2016</td>\n",
       "      <td>February</td>\n",
       "      <td>100</td>\n",
       "      <td>0</td>\n",
       "      <td>31</td>\n",
       "    </tr>\n",
       "    <tr>\n",
       "      <th>freq</th>\n",
       "      <td>380</td>\n",
       "      <td>3192</td>\n",
       "      <td>1064</td>\n",
       "      <td>9020</td>\n",
       "      <td>1108</td>\n",
       "      <td>45</td>\n",
       "    </tr>\n",
       "  </tbody>\n",
       "</table>"
      ],
      "text/plain": [
       "<IPython.core.display.HTML object>"
      ]
     },
     "metadata": {},
     "output_type": "display_data"
    }
   ],
   "source": [
    "print data.dtypes\n",
    "print \"\\n\"\n",
    "display(HTML(data.describe().to_html()))"
   ]
  },
  {
   "cell_type": "markdown",
   "metadata": {},
   "source": [
    "**STEP 8: COUNT NUMBER OF EMPTY VALUES IN COLUMN**  \n",
    "   \n",
    "**We can check the number of null values a column has by using .isnull().sum()**  \n",
    "  \n",
    "**For example, here, Climate has the most null values **  "
   ]
  },
  {
   "cell_type": "code",
   "execution_count": 73,
   "metadata": {},
   "outputs": [
    {
     "name": "stdout",
     "output_type": "stream",
     "text": [
      "state                            0\n",
      "year                             0\n",
      "month                            0\n",
      "percent_complete                 0\n",
      "percent_pending_investigation    0\n",
      "data_value                       0\n",
      "dtype: int64\n"
     ]
    }
   ],
   "source": [
    "print data.isnull().sum()"
   ]
  },
  {
   "cell_type": "markdown",
   "metadata": {},
   "source": [
    "**STEP 9: SEE NUMBER OF UNIQUE VALUES IN COLUMN**  \n",
    "  \n",
    "**It is useful to see the number of unique values in each column using .nunique()**  \n",
    "  \n",
    "**Here we see state year and month have a good number of unique values to order by, therefore we can group by these columns and make good visualizations**  "
   ]
  },
  {
   "cell_type": "code",
   "execution_count": 74,
   "metadata": {},
   "outputs": [
    {
     "name": "stdout",
     "output_type": "stream",
     "text": [
      "state                              53\n",
      "year                                4\n",
      "month                              12\n",
      "percent_complete                    2\n",
      "percent_pending_investigation    1787\n",
      "data_value                       4628\n",
      "dtype: int64\n"
     ]
    }
   ],
   "source": [
    "print data.nunique()"
   ]
  },
  {
   "cell_type": "markdown",
   "metadata": {},
   "source": [
    "**STEP 10: NUMBER OF OCCURANCES OF EACH VALUE IN COLUMN**  \n",
    "  \n",
    "**A good way to visualize data of a column you wish to group by is to use .value_counts()**  \n",
    "  \n",
    "**It gives a clear picture of how many would be in each group etc.** "
   ]
  },
  {
   "cell_type": "code",
   "execution_count": 134,
   "metadata": {},
   "outputs": [
    {
     "name": "stdout",
     "output_type": "stream",
     "text": [
      "2017    3192\n",
      "2016    3192\n",
      "2015    3192\n",
      "2018     532\n",
      "Name: year, dtype: int64\n",
      "\n",
      "\n",
      "January      1064\n",
      "February     1064\n",
      "September     798\n",
      "October       798\n",
      "November      798\n",
      "May           798\n",
      "March         798\n",
      "June          798\n",
      "July          798\n",
      "December      798\n",
      "August        798\n",
      "April         798\n",
      "Name: month, dtype: int64\n",
      "\n",
      "\n",
      "YC    380\n",
      "RI    380\n",
      "MD    380\n",
      "ME    380\n",
      "NC    380\n",
      "NH    380\n",
      "DC    380\n",
      "NM    380\n",
      "NV    380\n",
      "NY    380\n",
      "OK    380\n",
      "OR    380\n",
      "CT    380\n",
      "SC    380\n",
      "WV    380\n",
      "Name: state, dtype: int64\n"
     ]
    }
   ],
   "source": [
    "year = data.year.value_counts()\n",
    "print year\n",
    "print \"\\n\"\n",
    "\n",
    "month = data.month.value_counts()\n",
    "print month\n",
    "print \"\\n\"\n",
    "\n",
    "state = data.state.value_counts()\n",
    "print state.head(15)"
   ]
  }
 ],
 "metadata": {
  "kernelspec": {
   "display_name": "Python 2",
   "language": "python",
   "name": "python2"
  },
  "language_info": {
   "codemirror_mode": {
    "name": "ipython",
    "version": 2
   },
   "file_extension": ".py",
   "mimetype": "text/x-python",
   "name": "python",
   "nbconvert_exporter": "python",
   "pygments_lexer": "ipython2",
   "version": "2.7.15"
  }
 },
 "nbformat": 4,
 "nbformat_minor": 2
}
