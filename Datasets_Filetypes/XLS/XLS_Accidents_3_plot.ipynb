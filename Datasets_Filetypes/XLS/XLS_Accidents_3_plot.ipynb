{
 "cells": [
  {
   "cell_type": "markdown",
   "metadata": {},
   "source": [
    "**Below is the steps we would go through to load, view and visualize any csv data.**  \n",
    "  \n",
    "**STEP 1: ADDING PACKAGES**  \n",
    "  \n",
    "**We add python packages we require.**  "
   ]
  },
  {
   "cell_type": "code",
   "execution_count": 2,
   "metadata": {},
   "outputs": [
    {
     "data": {
      "text/html": [
       "<script>requirejs.config({paths: { 'plotly': ['https://cdn.plot.ly/plotly-latest.min']},});if(!window.Plotly) {{require(['plotly'],function(plotly) {window.Plotly=plotly;});}}</script>"
      ],
      "text/vnd.plotly.v1+html": [
       "<script>requirejs.config({paths: { 'plotly': ['https://cdn.plot.ly/plotly-latest.min']},});if(!window.Plotly) {{require(['plotly'],function(plotly) {window.Plotly=plotly;});}}</script>"
      ]
     },
     "metadata": {},
     "output_type": "display_data"
    }
   ],
   "source": [
    "import numpy  as np             # easy to play with arrays etc.\n",
    "import pandas as pd             # required to load and read data and put in dataframe.\n",
    "import matplotlib.pyplot as plt # required for data visualization purposes.\n",
    "import seaborn as sns           # required for data visualization purposes.\n",
    "import plotly.plotly as py      # required for data visualization purposes.\n",
    "import plotly.graph_objs as go  # required for data visualization purposes.\n",
    "from IPython.display import display, HTML\n",
    "from plotly.offline import init_notebook_mode, iplot\n",
    "init_notebook_mode(connected=True)"
   ]
  },
  {
   "cell_type": "markdown",
   "metadata": {},
   "source": [
    "**STEP 2: READING IN A DATASET**  \n",
    "  \n",
    "**To read data in the form of .xls or comma seperated file, you need pd.read_excel()**  \n",
    "\n",
    "**Delimiter can be set as well whether header or index column is required.**  \n",
    "\n",
    "**http://gsociology.icaap.org/dataupload.html is source of data**  \n",
    "    \n",
    "\n",
    "****\n",
    "\n",
    "\n",
    "**STEP 3: VIEWING THE FIRST FEW ROWS**  \n",
    "  \n",
    "\n",
    "**To see the first few rows of the data and make sure we read it in correctly, we use .head()**\n"
   ]
  },
  {
   "cell_type": "code",
   "execution_count": 3,
   "metadata": {},
   "outputs": [
    {
     "data": {
      "text/html": [
       "<div>\n",
       "<style scoped>\n",
       "    .dataframe tbody tr th:only-of-type {\n",
       "        vertical-align: middle;\n",
       "    }\n",
       "\n",
       "    .dataframe tbody tr th {\n",
       "        vertical-align: top;\n",
       "    }\n",
       "\n",
       "    .dataframe thead th {\n",
       "        text-align: right;\n",
       "    }\n",
       "</style>\n",
       "<table border=\"1\" class=\"dataframe\">\n",
       "  <thead>\n",
       "    <tr style=\"text-align: right;\">\n",
       "      <th></th>\n",
       "      <th>Births, Deaths, Net Migration, 1950 to 2100</th>\n",
       "      <th>Unnamed: 1</th>\n",
       "      <th>Unnamed: 2</th>\n",
       "      <th>Unnamed: 3</th>\n",
       "      <th>Unnamed: 4</th>\n",
       "      <th>Unnamed: 5</th>\n",
       "      <th>Unnamed: 6</th>\n",
       "      <th>Unnamed: 7</th>\n",
       "      <th>Unnamed: 8</th>\n",
       "      <th>Unnamed: 9</th>\n",
       "      <th>...</th>\n",
       "      <th>Unnamed: 87</th>\n",
       "      <th>Unnamed: 88</th>\n",
       "      <th>Unnamed: 89</th>\n",
       "      <th>Unnamed: 90</th>\n",
       "      <th>Unnamed: 91</th>\n",
       "      <th>Unnamed: 92</th>\n",
       "      <th>Unnamed: 93</th>\n",
       "      <th>Unnamed: 94</th>\n",
       "      <th>Unnamed: 95</th>\n",
       "      <th>Unnamed: 96</th>\n",
       "    </tr>\n",
       "  </thead>\n",
       "  <tbody>\n",
       "    <tr>\n",
       "      <th>0</th>\n",
       "      <td>NaN</td>\n",
       "      <td>b50-55</td>\n",
       "      <td>b55-60</td>\n",
       "      <td>b60-65</td>\n",
       "      <td>b65-70</td>\n",
       "      <td>b70-75</td>\n",
       "      <td>b75-80</td>\n",
       "      <td>b80-85</td>\n",
       "      <td>b85-90</td>\n",
       "      <td>b90-95</td>\n",
       "      <td>...</td>\n",
       "      <td>m50-55</td>\n",
       "      <td>m55-60</td>\n",
       "      <td>m60-65</td>\n",
       "      <td>m65-70</td>\n",
       "      <td>m70-75</td>\n",
       "      <td>m75-80</td>\n",
       "      <td>m80-85</td>\n",
       "      <td>m85-90</td>\n",
       "      <td>m90-95</td>\n",
       "      <td>m95-00</td>\n",
       "    </tr>\n",
       "    <tr>\n",
       "      <th>1</th>\n",
       "      <td>Country or Area</td>\n",
       "      <td>1950-1955</td>\n",
       "      <td>1955-1960</td>\n",
       "      <td>1960-1965</td>\n",
       "      <td>1965-1970</td>\n",
       "      <td>1970-1975</td>\n",
       "      <td>1975-1980</td>\n",
       "      <td>1980-1985</td>\n",
       "      <td>1985-1990</td>\n",
       "      <td>1990-1995</td>\n",
       "      <td>...</td>\n",
       "      <td>2050-2055</td>\n",
       "      <td>2055-2060</td>\n",
       "      <td>2060-2065</td>\n",
       "      <td>2065-2070</td>\n",
       "      <td>2070-2075</td>\n",
       "      <td>2075-2080</td>\n",
       "      <td>2080-2085</td>\n",
       "      <td>2085-2090</td>\n",
       "      <td>2090-2095</td>\n",
       "      <td>2095-2100</td>\n",
       "    </tr>\n",
       "    <tr>\n",
       "      <th>2</th>\n",
       "      <td>Africa</td>\n",
       "      <td>1.15858e+07</td>\n",
       "      <td>12920715</td>\n",
       "      <td>14460425</td>\n",
       "      <td>1.61173e+07</td>\n",
       "      <td>1.81833e+07</td>\n",
       "      <td>2.0536e+07</td>\n",
       "      <td>2.3008e+07</td>\n",
       "      <td>2.53157e+07</td>\n",
       "      <td>2.72664e+07</td>\n",
       "      <td>...</td>\n",
       "      <td>-344302</td>\n",
       "      <td>-293260</td>\n",
       "      <td>-250468</td>\n",
       "      <td>-212156</td>\n",
       "      <td>-175463</td>\n",
       "      <td>-138985</td>\n",
       "      <td>-104560</td>\n",
       "      <td>-70112.6</td>\n",
       "      <td>-36388</td>\n",
       "      <td>-3801.2</td>\n",
       "    </tr>\n",
       "    <tr>\n",
       "      <th>3</th>\n",
       "      <td>Asia</td>\n",
       "      <td>6.17152e+07</td>\n",
       "      <td>6.39118e+07</td>\n",
       "      <td>6.91948e+07</td>\n",
       "      <td>76666011</td>\n",
       "      <td>7.82249e+07</td>\n",
       "      <td>7.45254e+07</td>\n",
       "      <td>79797062</td>\n",
       "      <td>8.55579e+07</td>\n",
       "      <td>82732165</td>\n",
       "      <td>...</td>\n",
       "      <td>-893029</td>\n",
       "      <td>-842434</td>\n",
       "      <td>-769528</td>\n",
       "      <td>-682964</td>\n",
       "      <td>-587950</td>\n",
       "      <td>-494655</td>\n",
       "      <td>-392600</td>\n",
       "      <td>-292060</td>\n",
       "      <td>-192290</td>\n",
       "      <td>-92607</td>\n",
       "    </tr>\n",
       "    <tr>\n",
       "      <th>4</th>\n",
       "      <td>Australia/New Zealand</td>\n",
       "      <td>252077</td>\n",
       "      <td>279659</td>\n",
       "      <td>301107</td>\n",
       "      <td>299319</td>\n",
       "      <td>321580</td>\n",
       "      <td>281855</td>\n",
       "      <td>287261</td>\n",
       "      <td>302604</td>\n",
       "      <td>317138</td>\n",
       "      <td>...</td>\n",
       "      <td>50629.2</td>\n",
       "      <td>42928.6</td>\n",
       "      <td>36621.6</td>\n",
       "      <td>31028.4</td>\n",
       "      <td>25867.2</td>\n",
       "      <td>20755.4</td>\n",
       "      <td>15983</td>\n",
       "      <td>11188.2</td>\n",
       "      <td>6272.4</td>\n",
       "      <td>0</td>\n",
       "    </tr>\n",
       "  </tbody>\n",
       "</table>\n",
       "<p>5 rows × 97 columns</p>\n",
       "</div>"
      ],
      "text/plain": [
       "  Births, Deaths, Net Migration, 1950 to 2100   Unnamed: 1   Unnamed: 2  \\\n",
       "0                                         NaN       b50-55       b55-60   \n",
       "1                             Country or Area    1950-1955    1955-1960   \n",
       "2                                      Africa  1.15858e+07     12920715   \n",
       "3                                        Asia  6.17152e+07  6.39118e+07   \n",
       "4                       Australia/New Zealand       252077       279659   \n",
       "\n",
       "    Unnamed: 3   Unnamed: 4   Unnamed: 5   Unnamed: 6  Unnamed: 7  \\\n",
       "0       b60-65       b65-70       b70-75       b75-80      b80-85   \n",
       "1    1960-1965    1965-1970    1970-1975    1975-1980   1980-1985   \n",
       "2     14460425  1.61173e+07  1.81833e+07   2.0536e+07  2.3008e+07   \n",
       "3  6.91948e+07     76666011  7.82249e+07  7.45254e+07    79797062   \n",
       "4       301107       299319       321580       281855      287261   \n",
       "\n",
       "    Unnamed: 8   Unnamed: 9     ...     Unnamed: 87 Unnamed: 88 Unnamed: 89  \\\n",
       "0       b85-90       b90-95     ...          m50-55      m55-60      m60-65   \n",
       "1    1985-1990    1990-1995     ...       2050-2055   2055-2060   2060-2065   \n",
       "2  2.53157e+07  2.72664e+07     ...         -344302     -293260     -250468   \n",
       "3  8.55579e+07     82732165     ...         -893029     -842434     -769528   \n",
       "4       302604       317138     ...         50629.2     42928.6     36621.6   \n",
       "\n",
       "  Unnamed: 90 Unnamed: 91 Unnamed: 92 Unnamed: 93 Unnamed: 94 Unnamed: 95  \\\n",
       "0      m65-70      m70-75      m75-80      m80-85      m85-90      m90-95   \n",
       "1   2065-2070   2070-2075   2075-2080   2080-2085   2085-2090   2090-2095   \n",
       "2     -212156     -175463     -138985     -104560    -70112.6      -36388   \n",
       "3     -682964     -587950     -494655     -392600     -292060     -192290   \n",
       "4     31028.4     25867.2     20755.4       15983     11188.2      6272.4   \n",
       "\n",
       "  Unnamed: 96  \n",
       "0      m95-00  \n",
       "1   2095-2100  \n",
       "2     -3801.2  \n",
       "3      -92607  \n",
       "4           0  \n",
       "\n",
       "[5 rows x 97 columns]"
      ]
     },
     "execution_count": 3,
     "metadata": {},
     "output_type": "execute_result"
    }
   ],
   "source": [
    "#excel_file = \"http://gsociology.icaap.org/data/UN_BirthDeathMigration.xlsx\"\n",
    "excel_file = \"causes_of_death2.xlsx\"\n",
    "data = pd.read_excel(excel_file)\n",
    "data.head()"
   ]
  },
  {
   "cell_type": "markdown",
   "metadata": {},
   "source": [
    "**STEP 4: GET BASIC INFORMATION**  \n",
    "  \n",
    "**To get basic info from the dataset, we use .info()**"
   ]
  },
  {
   "cell_type": "code",
   "execution_count": null,
   "metadata": {},
   "outputs": [],
   "source": [
    "data.info()"
   ]
  },
  {
   "cell_type": "markdown",
   "metadata": {},
   "source": [
    "**STEP 5: SEE FURTHER DETAILS**  \n",
    "  \n",
    "**To get datatypes of each column, we can use .dtypes**  \n",
    "\n",
    "**To get more details about each column, we can use .describe()**  \n",
    "  \n",
    "The reason we only get data from 3 columns is because the rest have commas in them which need to be removed\n",
    "We can deal with this later while cleaning."
   ]
  },
  {
   "cell_type": "code",
   "execution_count": null,
   "metadata": {},
   "outputs": [],
   "source": [
    "print data.dtypes\n",
    "print \"\\n\"\n",
    "display(HTML(data.describe().to_html()))"
   ]
  },
  {
   "cell_type": "markdown",
   "metadata": {},
   "source": [
    "\n",
    "**STEP 6: COUNT NUMBER OF EMPTY VALUES IN COLUMN**  \n",
    "   \n",
    "**We can check the number of null values a column has by using .isnull().sum()**  \n",
    "  \n",
    "**For example, here, Climate has the most null values **  "
   ]
  },
  {
   "cell_type": "code",
   "execution_count": null,
   "metadata": {},
   "outputs": [],
   "source": [
    "print data.isnull().sum()"
   ]
  },
  {
   "cell_type": "markdown",
   "metadata": {},
   "source": [
    "**STEP 7: SEE NUMBER OF UNIQUE VALUES IN COLUMN**  \n",
    "  \n",
    "**It is useful to see the number of unique values in each column using .nunique()**  \n",
    "  \n",
    "**Here we see region and climate have a good number of unique values to order by, therefore we can group by these columns and make good visualizations**  "
   ]
  },
  {
   "cell_type": "code",
   "execution_count": null,
   "metadata": {},
   "outputs": [],
   "source": [
    "print data.nunique()\n",
    "group1 = data.groupby(\"Cause Name\")['Age-adjusted Death Rate'].agg(np.mean)\n",
    "print group1\n",
    "print \"\\n\"\n",
    "group2 = data.groupby(\"Year\")\n",
    "display(HTML(group2.head().to_html()))\n",
    "print \"\\n\"\n",
    "group3 = data.groupby(\"State\")\n",
    "display(HTML(group3.head().to_html()))"
   ]
  },
  {
   "cell_type": "markdown",
   "metadata": {},
   "source": [
    "**STEP 8: PLOT WHOLE DATESET**  \n",
    "  \n",
    "**Let us try to visualize all the data at once**  \n",
    "  \n",
    "**After that, we count the number of countries in each region and plot it and do the same for climate. **  "
   ]
  },
  {
   "cell_type": "code",
   "execution_count": null,
   "metadata": {},
   "outputs": [],
   "source": [
    "a = data.plot()\n",
    "plt.show()"
   ]
  },
  {
   "cell_type": "markdown",
   "metadata": {},
   "source": [
    "**STEP 9: NUMBER OF OCCURANCES OF EACH VALUE IN COLUMN**  \n",
    "  \n",
    "**A good way to visualize data of a column you wish to group by is to use .value_counts()**  \n",
    "  \n",
    "**It gives a clear picture of how many would be in each group etc.**  "
   ]
  },
  {
   "cell_type": "code",
   "execution_count": null,
   "metadata": {},
   "outputs": [],
   "source": [
    "data['Cause_Name']=data['Cause Name']\n",
    "print data.Cause_Name.head()\n",
    "region = data.Cause_Name.value_counts()\n",
    "print region\n",
    "climate = data.Year.value_counts()\n",
    "print climate"
   ]
  },
  {
   "cell_type": "markdown",
   "metadata": {},
   "source": [
    "**STEP 10: VISUALIZATION**  \n",
    "  \n",
    "**Using matplotlib.pyplot to make bar charts**"
   ]
  },
  {
   "cell_type": "code",
   "execution_count": null,
   "metadata": {},
   "outputs": [],
   "source": [
    "plt.figure(figsize=(10,7))\n",
    "plt.bar(np.arange(len(region.index)),group1.values)\n",
    "plt.xticks(np.arange(len(region.index)), group1.index)\n",
    "plt.xticks(rotation=90)\n",
    "plt.ylabel('Average Age')\n",
    "plt.xlabel('Cause Of Death')\n",
    "plt.show()"
   ]
  },
  {
   "cell_type": "markdown",
   "metadata": {
    "collapsed": true
   },
   "source": [
    "**STEP 10: CLEANING DATA**  \n",
    "  \n",
    "**To see more from the data it has to be cleaned. Cleaning data is usally unique to each dataset.**  \n",
    "\n",
    "**In this instance, we can see that many of the columns have commas where periods should be. To go about changing our data to a desirable format, we need to access the columns. Specifically, we need to remove spaces, brackets, symbols etc. \n",
    "Here, seems unnecessary \n",
    "**"
   ]
  },
  {
   "cell_type": "code",
   "execution_count": null,
   "metadata": {},
   "outputs": [],
   "source": [
    "print data.dtypes\n",
    "print \"\\n\"\n",
    "display(HTML(data.describe().to_html()))"
   ]
  },
  {
   "cell_type": "markdown",
   "metadata": {},
   "source": [
    "**STEP 11: HEATMAP OF CORRELATION BETWEEN COLUMNS**  \n",
    "  \n",
    "**When two sets of data are strongly linked together we say they have a High Correlation. To see corr between all the columns, we use .corr()**"
   ]
  },
  {
   "cell_type": "code",
   "execution_count": null,
   "metadata": {},
   "outputs": [],
   "source": [
    "f,ax = plt.subplots(figsize=(15, 13))\n",
    "sns.heatmap(data.corr(), annot=True, ax=ax)\n",
    "plt.show()"
   ]
  },
  {
   "cell_type": "code",
   "execution_count": null,
   "metadata": {},
   "outputs": [],
   "source": []
  }
 ],
 "metadata": {
  "kernelspec": {
   "display_name": "Python 2",
   "language": "python",
   "name": "python2"
  },
  "language_info": {
   "codemirror_mode": {
    "name": "ipython",
    "version": 2
   },
   "file_extension": ".py",
   "mimetype": "text/x-python",
   "name": "python",
   "nbconvert_exporter": "python",
   "pygments_lexer": "ipython2",
   "version": "2.7.15"
  }
 },
 "nbformat": 4,
 "nbformat_minor": 2
}
