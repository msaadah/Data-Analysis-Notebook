{
 "cells": [
  {
   "cell_type": "markdown",
   "metadata": {},
   "source": [
    "**Below is the steps we would go through to load, view and visualize any json data.**  \n",
    "  \n",
    "**STEP 1: ADDING PACKAGES**  \n",
    "  \n",
    "**We add python packages we require.**  "
   ]
  },
  {
   "cell_type": "code",
   "execution_count": 81,
   "metadata": {},
   "outputs": [
    {
     "data": {
      "text/html": [
       "<script>requirejs.config({paths: { 'plotly': ['https://cdn.plot.ly/plotly-latest.min']},});if(!window.Plotly) {{require(['plotly'],function(plotly) {window.Plotly=plotly;});}}</script>"
      ],
      "text/vnd.plotly.v1+html": [
       "<script>requirejs.config({paths: { 'plotly': ['https://cdn.plot.ly/plotly-latest.min']},});if(!window.Plotly) {{require(['plotly'],function(plotly) {window.Plotly=plotly;});}}</script>"
      ]
     },
     "metadata": {},
     "output_type": "display_data"
    }
   ],
   "source": [
    "import xml.etree.cElementTree as et   # required to extract data from xml format\n",
    "import numpy  as np                   # easy to play with arrays etc.\n",
    "import pandas as pd                   # required to load and read data and put in dataframe.\n",
    "import matplotlib.pyplot as plt       # required for data visualization purposes.\n",
    "import seaborn as sns                 # required for data visualization purposes.\n",
    "import plotly.plotly as py            # required for data visualization purposes.\n",
    "import plotly.graph_objs as go        # required for data visualization purposes.\n",
    "import re\n",
    "from IPython.display import display, HTML\n",
    "from plotly.offline import init_notebook_mode, iplot\n",
    "init_notebook_mode(connected=True)"
   ]
  },
  {
   "cell_type": "markdown",
   "metadata": {},
   "source": [
    "**STEP 2: READING IN A DATASET**  \n",
    "  \n",
    "**To read data in the form of .xml, you need et.parse()**  \n",
    "**We also need to get the root for this we use .getroot()**\n",
    "\n",
    "**XML files are all strcutured differently, so you need to explore a bit**  \n",
    "\n",
    "**https://catalog.data.gov/dataset/age-adjusted-death-rates-for-the-top-10-leading-causes-of-death-united-states-2013 is source of data**  "
   ]
  },
  {
   "cell_type": "code",
   "execution_count": 56,
   "metadata": {
    "collapsed": true
   },
   "outputs": [],
   "source": [
    "parsedXML = et.parse( \"data/rows.xml\" )\n",
    "root = parsedXML.getroot()\n",
    "\n",
    "dictionary_to_df = {}\n",
    "\n",
    "for neighbor in root.findall(\"row/row\"):\n",
    "    #print neighbor.tag,neighbor.attrib\n",
    "    for child in neighbor:\n",
    "        #The below two lines should be added to make sure all the arrays in the dictionary stay the same length.\n",
    "        #If you remove those lines and run, make sure to run the last two lines in this cell to see the sizes of arrays.\n",
    "        if child.tag == 'predicted_value' or child.tag == 'footnote':\n",
    "            continue\n",
    "            \n",
    "        if(child.tag not in dictionary_to_df):\n",
    "            dictionary_to_df[child.tag]=[child.text] \n",
    "        else:            \n",
    "            dictionary_to_df[child.tag].append(child.text)\n",
    "        \n",
    "# for key, array in  dictionary_to_df.items():\n",
    "    # print key, len(array)"
   ]
  },
  {
   "cell_type": "markdown",
   "metadata": {},
   "source": [
    "**STEP 3: PUTTING THE DATA IN A PANDAS DATAFRAME**  \n",
    "  \n",
    "\n",
    "**We use pd.DataFrame() to put the data we extracted into a pandas df format**"
   ]
  },
  {
   "cell_type": "code",
   "execution_count": 59,
   "metadata": {},
   "outputs": [
    {
     "data": {
      "text/html": [
       "<table border=\"1\" class=\"dataframe\">\n",
       "  <thead>\n",
       "    <tr style=\"text-align: right;\">\n",
       "      <th></th>\n",
       "      <th>data_value</th>\n",
       "      <th>indicator</th>\n",
       "      <th>month</th>\n",
       "      <th>percent_complete</th>\n",
       "      <th>percent_pending_investigation</th>\n",
       "      <th>state</th>\n",
       "      <th>state_name</th>\n",
       "      <th>year</th>\n",
       "    </tr>\n",
       "  </thead>\n",
       "  <tbody>\n",
       "    <tr>\n",
       "      <th>0</th>\n",
       "      <td>4034</td>\n",
       "      <td>Number of Deaths</td>\n",
       "      <td>January</td>\n",
       "      <td>100</td>\n",
       "      <td>0</td>\n",
       "      <td>AK</td>\n",
       "      <td>AK</td>\n",
       "      <td>2015</td>\n",
       "    </tr>\n",
       "    <tr>\n",
       "      <th>1</th>\n",
       "      <td>4084</td>\n",
       "      <td>Number of Deaths</td>\n",
       "      <td>February</td>\n",
       "      <td>100</td>\n",
       "      <td>0</td>\n",
       "      <td>AK</td>\n",
       "      <td>AK</td>\n",
       "      <td>2015</td>\n",
       "    </tr>\n",
       "    <tr>\n",
       "      <th>2</th>\n",
       "      <td>4101</td>\n",
       "      <td>Number of Deaths</td>\n",
       "      <td>March</td>\n",
       "      <td>100</td>\n",
       "      <td>0</td>\n",
       "      <td>AK</td>\n",
       "      <td>AK</td>\n",
       "      <td>2015</td>\n",
       "    </tr>\n",
       "    <tr>\n",
       "      <th>3</th>\n",
       "      <td>4133</td>\n",
       "      <td>Number of Deaths</td>\n",
       "      <td>April</td>\n",
       "      <td>100</td>\n",
       "      <td>0</td>\n",
       "      <td>AK</td>\n",
       "      <td>AK</td>\n",
       "      <td>2015</td>\n",
       "    </tr>\n",
       "    <tr>\n",
       "      <th>4</th>\n",
       "      <td>4196</td>\n",
       "      <td>Number of Deaths</td>\n",
       "      <td>May</td>\n",
       "      <td>100</td>\n",
       "      <td>0</td>\n",
       "      <td>AK</td>\n",
       "      <td>AK</td>\n",
       "      <td>2015</td>\n",
       "    </tr>\n",
       "  </tbody>\n",
       "</table>"
      ],
      "text/plain": [
       "<IPython.core.display.HTML object>"
      ]
     },
     "metadata": {},
     "output_type": "display_data"
    }
   ],
   "source": [
    "data = pd.DataFrame.from_dict(dictionary_to_df)\n",
    "display(HTML(data.head().to_html()))"
   ]
  },
  {
   "cell_type": "markdown",
   "metadata": {},
   "source": [
    "**STEP 4: DECIDING WHICH COLUMNS MATTER**  \n",
    "  \n",
    "\n",
    "**There are several columns with data that is redundant. Essentially we pick the columns we want, in the order that we want and discard the rest**"
   ]
  },
  {
   "cell_type": "code",
   "execution_count": 60,
   "metadata": {},
   "outputs": [
    {
     "name": "stdout",
     "output_type": "stream",
     "text": [
      "\t\t\t The Final Dataset\n"
     ]
    },
    {
     "data": {
      "text/html": [
       "<table border=\"1\" class=\"dataframe\">\n",
       "  <thead>\n",
       "    <tr style=\"text-align: right;\">\n",
       "      <th></th>\n",
       "      <th>state</th>\n",
       "      <th>year</th>\n",
       "      <th>month</th>\n",
       "      <th>percent_complete</th>\n",
       "      <th>percent_pending_investigation</th>\n",
       "      <th>data_value</th>\n",
       "    </tr>\n",
       "  </thead>\n",
       "  <tbody>\n",
       "    <tr>\n",
       "      <th>0</th>\n",
       "      <td>AK</td>\n",
       "      <td>2015</td>\n",
       "      <td>January</td>\n",
       "      <td>100</td>\n",
       "      <td>0</td>\n",
       "      <td>4034</td>\n",
       "    </tr>\n",
       "    <tr>\n",
       "      <th>1</th>\n",
       "      <td>AK</td>\n",
       "      <td>2015</td>\n",
       "      <td>February</td>\n",
       "      <td>100</td>\n",
       "      <td>0</td>\n",
       "      <td>4084</td>\n",
       "    </tr>\n",
       "    <tr>\n",
       "      <th>2</th>\n",
       "      <td>AK</td>\n",
       "      <td>2015</td>\n",
       "      <td>March</td>\n",
       "      <td>100</td>\n",
       "      <td>0</td>\n",
       "      <td>4101</td>\n",
       "    </tr>\n",
       "    <tr>\n",
       "      <th>3</th>\n",
       "      <td>AK</td>\n",
       "      <td>2015</td>\n",
       "      <td>April</td>\n",
       "      <td>100</td>\n",
       "      <td>0</td>\n",
       "      <td>4133</td>\n",
       "    </tr>\n",
       "    <tr>\n",
       "      <th>4</th>\n",
       "      <td>AK</td>\n",
       "      <td>2015</td>\n",
       "      <td>May</td>\n",
       "      <td>100</td>\n",
       "      <td>0</td>\n",
       "      <td>4196</td>\n",
       "    </tr>\n",
       "  </tbody>\n",
       "</table>"
      ],
      "text/plain": [
       "<IPython.core.display.HTML object>"
      ]
     },
     "metadata": {},
     "output_type": "display_data"
    }
   ],
   "source": [
    "data = data[['state', 'year', 'month', 'percent_complete', 'percent_pending_investigation','data_value']]\n",
    "print \"\\t\\t\\t The Final Dataset\"\n",
    "display(HTML(data.head().to_html()))"
   ]
  },
  {
   "cell_type": "markdown",
   "metadata": {},
   "source": [
    "**STEP 5: VIEWING THE FIRST FEW ROWS**  \n",
    "  \n",
    "\n",
    "**To see the first few rows of the data and make sure we read it in correctly, we use .head()**\n"
   ]
  },
  {
   "cell_type": "code",
   "execution_count": 64,
   "metadata": {},
   "outputs": [
    {
     "data": {
      "text/html": [
       "<table border=\"1\" class=\"dataframe\">\n",
       "  <thead>\n",
       "    <tr style=\"text-align: right;\">\n",
       "      <th></th>\n",
       "      <th>state</th>\n",
       "      <th>year</th>\n",
       "      <th>month</th>\n",
       "      <th>percent_complete</th>\n",
       "      <th>percent_pending_investigation</th>\n",
       "      <th>data_value</th>\n",
       "    </tr>\n",
       "  </thead>\n",
       "  <tbody>\n",
       "    <tr>\n",
       "      <th>0</th>\n",
       "      <td>AK</td>\n",
       "      <td>2015</td>\n",
       "      <td>January</td>\n",
       "      <td>100</td>\n",
       "      <td>0</td>\n",
       "      <td>4034</td>\n",
       "    </tr>\n",
       "    <tr>\n",
       "      <th>1</th>\n",
       "      <td>AK</td>\n",
       "      <td>2015</td>\n",
       "      <td>February</td>\n",
       "      <td>100</td>\n",
       "      <td>0</td>\n",
       "      <td>4084</td>\n",
       "    </tr>\n",
       "    <tr>\n",
       "      <th>2</th>\n",
       "      <td>AK</td>\n",
       "      <td>2015</td>\n",
       "      <td>March</td>\n",
       "      <td>100</td>\n",
       "      <td>0</td>\n",
       "      <td>4101</td>\n",
       "    </tr>\n",
       "    <tr>\n",
       "      <th>3</th>\n",
       "      <td>AK</td>\n",
       "      <td>2015</td>\n",
       "      <td>April</td>\n",
       "      <td>100</td>\n",
       "      <td>0</td>\n",
       "      <td>4133</td>\n",
       "    </tr>\n",
       "    <tr>\n",
       "      <th>4</th>\n",
       "      <td>AK</td>\n",
       "      <td>2015</td>\n",
       "      <td>May</td>\n",
       "      <td>100</td>\n",
       "      <td>0</td>\n",
       "      <td>4196</td>\n",
       "    </tr>\n",
       "    <tr>\n",
       "      <th>5</th>\n",
       "      <td>AK</td>\n",
       "      <td>2015</td>\n",
       "      <td>June</td>\n",
       "      <td>100</td>\n",
       "      <td>0</td>\n",
       "      <td>4201</td>\n",
       "    </tr>\n",
       "    <tr>\n",
       "      <th>6</th>\n",
       "      <td>AK</td>\n",
       "      <td>2015</td>\n",
       "      <td>July</td>\n",
       "      <td>100</td>\n",
       "      <td>0</td>\n",
       "      <td>4220</td>\n",
       "    </tr>\n",
       "    <tr>\n",
       "      <th>7</th>\n",
       "      <td>AK</td>\n",
       "      <td>2015</td>\n",
       "      <td>August</td>\n",
       "      <td>100</td>\n",
       "      <td>0</td>\n",
       "      <td>4222</td>\n",
       "    </tr>\n",
       "    <tr>\n",
       "      <th>8</th>\n",
       "      <td>AK</td>\n",
       "      <td>2015</td>\n",
       "      <td>September</td>\n",
       "      <td>100</td>\n",
       "      <td>0</td>\n",
       "      <td>4242</td>\n",
       "    </tr>\n",
       "    <tr>\n",
       "      <th>9</th>\n",
       "      <td>AK</td>\n",
       "      <td>2015</td>\n",
       "      <td>October</td>\n",
       "      <td>100</td>\n",
       "      <td>0</td>\n",
       "      <td>4241</td>\n",
       "    </tr>\n",
       "    <tr>\n",
       "      <th>10</th>\n",
       "      <td>AK</td>\n",
       "      <td>2015</td>\n",
       "      <td>November</td>\n",
       "      <td>100</td>\n",
       "      <td>0</td>\n",
       "      <td>4219</td>\n",
       "    </tr>\n",
       "    <tr>\n",
       "      <th>11</th>\n",
       "      <td>AK</td>\n",
       "      <td>2015</td>\n",
       "      <td>December</td>\n",
       "      <td>100</td>\n",
       "      <td>0</td>\n",
       "      <td>4193</td>\n",
       "    </tr>\n",
       "    <tr>\n",
       "      <th>12</th>\n",
       "      <td>AK</td>\n",
       "      <td>2016</td>\n",
       "      <td>January</td>\n",
       "      <td>100</td>\n",
       "      <td>0</td>\n",
       "      <td>4213</td>\n",
       "    </tr>\n",
       "    <tr>\n",
       "      <th>13</th>\n",
       "      <td>AK</td>\n",
       "      <td>2016</td>\n",
       "      <td>February</td>\n",
       "      <td>100</td>\n",
       "      <td>0</td>\n",
       "      <td>4198</td>\n",
       "    </tr>\n",
       "    <tr>\n",
       "      <th>14</th>\n",
       "      <td>AK</td>\n",
       "      <td>2016</td>\n",
       "      <td>March</td>\n",
       "      <td>100</td>\n",
       "      <td>0</td>\n",
       "      <td>4230</td>\n",
       "    </tr>\n",
       "  </tbody>\n",
       "</table>"
      ],
      "text/plain": [
       "<IPython.core.display.HTML object>"
      ]
     },
     "metadata": {},
     "output_type": "display_data"
    }
   ],
   "source": [
    "display(HTML(data.head(15).to_html()))"
   ]
  },
  {
   "cell_type": "markdown",
   "metadata": {},
   "source": [
    "**STEP 6: GET BASIC INFORMATION**  \n",
    "  \n",
    "**To get basic info from the dataset, we use .info()**"
   ]
  },
  {
   "cell_type": "code",
   "execution_count": 65,
   "metadata": {},
   "outputs": [
    {
     "name": "stdout",
     "output_type": "stream",
     "text": [
      "<class 'pandas.core.frame.DataFrame'>\n",
      "RangeIndex: 10108 entries, 0 to 10107\n",
      "Data columns (total 6 columns):\n",
      "state                            10108 non-null object\n",
      "year                             10108 non-null object\n",
      "month                            10108 non-null object\n",
      "percent_complete                 10108 non-null object\n",
      "percent_pending_investigation    10108 non-null object\n",
      "data_value                       10108 non-null object\n",
      "dtypes: object(6)\n",
      "memory usage: 473.9+ KB\n"
     ]
    }
   ],
   "source": [
    "data.info()"
   ]
  },
  {
   "cell_type": "markdown",
   "metadata": {},
   "source": [
    "**STEP 7: SEE FURTHER DETAILS**  \n",
    "  \n",
    "**To get datatypes of each column, we can use .dtypes**  \n",
    "\n",
    "**To get more details about each column, we can use .describe()**  \n",
    "  \n",
    "The reason we only get data from 3 columns is because the rest have commas in them which need to be removed\n",
    "We can deal with this later while cleaning."
   ]
  },
  {
   "cell_type": "code",
   "execution_count": 70,
   "metadata": {},
   "outputs": [
    {
     "name": "stdout",
     "output_type": "stream",
     "text": [
      "state                            object\n",
      "year                             object\n",
      "month                            object\n",
      "percent_complete                 object\n",
      "percent_pending_investigation    object\n",
      "data_value                       object\n",
      "dtype: object\n",
      "\n",
      "\n"
     ]
    },
    {
     "data": {
      "text/html": [
       "<table border=\"1\" class=\"dataframe\">\n",
       "  <thead>\n",
       "    <tr style=\"text-align: right;\">\n",
       "      <th></th>\n",
       "      <th>state</th>\n",
       "      <th>year</th>\n",
       "      <th>month</th>\n",
       "      <th>percent_complete</th>\n",
       "      <th>percent_pending_investigation</th>\n",
       "      <th>data_value</th>\n",
       "    </tr>\n",
       "  </thead>\n",
       "  <tbody>\n",
       "    <tr>\n",
       "      <th>count</th>\n",
       "      <td>10108</td>\n",
       "      <td>10108</td>\n",
       "      <td>10108</td>\n",
       "      <td>10108</td>\n",
       "      <td>10108</td>\n",
       "      <td>10108</td>\n",
       "    </tr>\n",
       "    <tr>\n",
       "      <th>unique</th>\n",
       "      <td>53</td>\n",
       "      <td>4</td>\n",
       "      <td>12</td>\n",
       "      <td>2</td>\n",
       "      <td>1787</td>\n",
       "      <td>4628</td>\n",
       "    </tr>\n",
       "    <tr>\n",
       "      <th>top</th>\n",
       "      <td>WA</td>\n",
       "      <td>2016</td>\n",
       "      <td>February</td>\n",
       "      <td>100</td>\n",
       "      <td>0</td>\n",
       "      <td>31</td>\n",
       "    </tr>\n",
       "    <tr>\n",
       "      <th>freq</th>\n",
       "      <td>380</td>\n",
       "      <td>3192</td>\n",
       "      <td>1064</td>\n",
       "      <td>9020</td>\n",
       "      <td>1108</td>\n",
       "      <td>45</td>\n",
       "    </tr>\n",
       "  </tbody>\n",
       "</table>"
      ],
      "text/plain": [
       "<IPython.core.display.HTML object>"
      ]
     },
     "metadata": {},
     "output_type": "display_data"
    }
   ],
   "source": [
    "print data.dtypes\n",
    "print \"\\n\"\n",
    "display(HTML(data.describe().to_html()))"
   ]
  },
  {
   "cell_type": "markdown",
   "metadata": {},
   "source": [
    "**STEP 8: COUNT NUMBER OF EMPTY VALUES IN COLUMN**  \n",
    "   \n",
    "**We can check the number of null values a column has by using .isnull().sum()**  \n",
    "  \n",
    "**For example, here, Climate has the most null values **  "
   ]
  },
  {
   "cell_type": "code",
   "execution_count": 73,
   "metadata": {},
   "outputs": [
    {
     "name": "stdout",
     "output_type": "stream",
     "text": [
      "state                            0\n",
      "year                             0\n",
      "month                            0\n",
      "percent_complete                 0\n",
      "percent_pending_investigation    0\n",
      "data_value                       0\n",
      "dtype: int64\n"
     ]
    }
   ],
   "source": [
    "print data.isnull().sum()"
   ]
  },
  {
   "cell_type": "markdown",
   "metadata": {},
   "source": [
    "**STEP 9: SEE NUMBER OF UNIQUE VALUES IN COLUMN**  \n",
    "  \n",
    "**It is useful to see the number of unique values in each column using .nunique()**  \n",
    "  \n",
    "**Here we see state year and month have a good number of unique values to order by, therefore we can group by these columns and make good visualizations**  "
   ]
  },
  {
   "cell_type": "code",
   "execution_count": 74,
   "metadata": {},
   "outputs": [
    {
     "name": "stdout",
     "output_type": "stream",
     "text": [
      "state                              53\n",
      "year                                4\n",
      "month                              12\n",
      "percent_complete                    2\n",
      "percent_pending_investigation    1787\n",
      "data_value                       4628\n",
      "dtype: int64\n"
     ]
    }
   ],
   "source": [
    "print data.nunique()"
   ]
  },
  {
   "cell_type": "markdown",
   "metadata": {},
   "source": [
    "**STEP 10: NUMBER OF OCCURANCES OF EACH VALUE IN COLUMN**  \n",
    "  \n",
    "**A good way to visualize data of a column you wish to group by is to use .value_counts()**  \n",
    "  \n",
    "**It gives a clear picture of how many would be in each group etc.** "
   ]
  },
  {
   "cell_type": "code",
   "execution_count": 134,
   "metadata": {},
   "outputs": [
    {
     "name": "stdout",
     "output_type": "stream",
     "text": [
      "2017    3192\n",
      "2016    3192\n",
      "2015    3192\n",
      "2018     532\n",
      "Name: year, dtype: int64\n",
      "\n",
      "\n",
      "January      1064\n",
      "February     1064\n",
      "September     798\n",
      "October       798\n",
      "November      798\n",
      "May           798\n",
      "March         798\n",
      "June          798\n",
      "July          798\n",
      "December      798\n",
      "August        798\n",
      "April         798\n",
      "Name: month, dtype: int64\n",
      "\n",
      "\n",
      "YC    380\n",
      "RI    380\n",
      "MD    380\n",
      "ME    380\n",
      "NC    380\n",
      "NH    380\n",
      "DC    380\n",
      "NM    380\n",
      "NV    380\n",
      "NY    380\n",
      "OK    380\n",
      "OR    380\n",
      "CT    380\n",
      "SC    380\n",
      "WV    380\n",
      "Name: state, dtype: int64\n"
     ]
    }
   ],
   "source": [
    "year = data.year.value_counts()\n",
    "print year\n",
    "print \"\\n\"\n",
    "\n",
    "month = data.month.value_counts()\n",
    "print month\n",
    "print \"\\n\"\n",
    "\n",
    "state = data.state.value_counts()\n",
    "print state.head(15)"
   ]
  },
  {
   "cell_type": "markdown",
   "metadata": {},
   "source": [
    "**STEP 10: CLEANING DATA**  \n",
    "  \n",
    "**To see more from the data it has to be cleaned. Cleaning data is usally unique to each dataset.**  \n",
    "\n",
    "**In this instance, we change column dtypes **"
   ]
  },
  {
   "cell_type": "code",
   "execution_count": 85,
   "metadata": {
    "collapsed": true
   },
   "outputs": [],
   "source": [
    "for i in data.columns:\n",
    "    if i== 'state' or i=='year' or i=='month':\n",
    "        \n",
    "        data[i] = data[i].str.strip().astype('category')\n",
    "    else:      \n",
    "        data[i] = data[i].str.strip('+-').astype(float)"
   ]
  },
  {
   "cell_type": "markdown",
   "metadata": {},
   "source": [
    "**Now after cleaning, lets look at the new data types and the mean, std, min, max etc. of all the columns again**"
   ]
  },
  {
   "cell_type": "code",
   "execution_count": 87,
   "metadata": {},
   "outputs": [
    {
     "name": "stdout",
     "output_type": "stream",
     "text": [
      "state                            category\n",
      "year                             category\n",
      "month                            category\n",
      "percent_complete                  float64\n",
      "percent_pending_investigation     float64\n",
      "data_value                        float64\n",
      "dtype: object\n",
      "\n",
      "\n"
     ]
    },
    {
     "data": {
      "text/html": [
       "<table border=\"1\" class=\"dataframe\">\n",
       "  <thead>\n",
       "    <tr style=\"text-align: right;\">\n",
       "      <th></th>\n",
       "      <th>percent_complete</th>\n",
       "      <th>percent_pending_investigation</th>\n",
       "      <th>data_value</th>\n",
       "    </tr>\n",
       "  </thead>\n",
       "  <tbody>\n",
       "    <tr>\n",
       "      <th>count</th>\n",
       "      <td>10108.000000</td>\n",
       "      <td>10108.000000</td>\n",
       "      <td>1.010800e+04</td>\n",
       "    </tr>\n",
       "    <tr>\n",
       "      <th>mean</th>\n",
       "      <td>99.946181</td>\n",
       "      <td>0.111717</td>\n",
       "      <td>2.158789e+04</td>\n",
       "    </tr>\n",
       "    <tr>\n",
       "      <th>std</th>\n",
       "      <td>0.154969</td>\n",
       "      <td>0.165046</td>\n",
       "      <td>1.700487e+05</td>\n",
       "    </tr>\n",
       "    <tr>\n",
       "      <th>min</th>\n",
       "      <td>99.500000</td>\n",
       "      <td>0.000000</td>\n",
       "      <td>0.000000e+00</td>\n",
       "    </tr>\n",
       "    <tr>\n",
       "      <th>25%</th>\n",
       "      <td>100.000000</td>\n",
       "      <td>0.016456</td>\n",
       "      <td>9.797695e+01</td>\n",
       "    </tr>\n",
       "    <tr>\n",
       "      <th>50%</th>\n",
       "      <td>100.000000</td>\n",
       "      <td>0.041147</td>\n",
       "      <td>3.270000e+02</td>\n",
       "    </tr>\n",
       "    <tr>\n",
       "      <th>75%</th>\n",
       "      <td>100.000000</td>\n",
       "      <td>0.148720</td>\n",
       "      <td>2.544750e+03</td>\n",
       "    </tr>\n",
       "    <tr>\n",
       "      <th>max</th>\n",
       "      <td>100.000000</td>\n",
       "      <td>1.411568</td>\n",
       "      <td>2.845988e+06</td>\n",
       "    </tr>\n",
       "  </tbody>\n",
       "</table>"
      ],
      "text/plain": [
       "<IPython.core.display.HTML object>"
      ]
     },
     "metadata": {},
     "output_type": "display_data"
    }
   ],
   "source": [
    "print data.dtypes\n",
    "print \"\\n\"\n",
    "display(HTML(data.describe().to_html()))"
   ]
  },
  {
   "cell_type": "markdown",
   "metadata": {},
   "source": [
    "**STEP 11: PLOT WHOLE DATESET**  \n",
    "  \n",
    "**Let us try to visualize all the data at once**  "
   ]
  },
  {
   "cell_type": "code",
   "execution_count": 88,
   "metadata": {},
   "outputs": [
    {
     "data": {
      "image/png": "[encoded data removed]",
      "text/plain": [
       "<matplotlib.figure.Figure at 0x11844efd0>"
      ]
     },
     "metadata": {},
     "output_type": "display_data"
    }
   ],
   "source": [
    "a = data.plot()\n",
    "plt.show()"
   ]
  },
  {
   "cell_type": "markdown",
   "metadata": {},
   "source": [
    "**STEP 12: REARRANGING DATA**  \n",
    "  \n",
    "**Given that the data we are using is structured differently. It would make sense to group data by the state and month.**\n",
    "**Therefore we create 2 new dataframes.**  \n",
    "The second i simply an aveage of all the columns in the first one.  \n",
    "**This makes it easier to visualize and analyze the data.**"
   ]
  },
  {
   "cell_type": "code",
   "execution_count": 130,
   "metadata": {},
   "outputs": [
    {
     "data": {
      "text/html": [
       "<table border=\"1\" class=\"dataframe\">\n",
       "  <thead>\n",
       "    <tr style=\"text-align: right;\">\n",
       "      <th>month</th>\n",
       "      <th>January</th>\n",
       "      <th>February</th>\n",
       "      <th>March</th>\n",
       "      <th>April</th>\n",
       "      <th>May</th>\n",
       "      <th>June</th>\n",
       "      <th>July</th>\n",
       "      <th>August</th>\n",
       "      <th>September</th>\n",
       "      <th>October</th>\n",
       "      <th>November</th>\n",
       "      <th>December</th>\n",
       "    </tr>\n",
       "    <tr>\n",
       "      <th>state</th>\n",
       "      <th></th>\n",
       "      <th></th>\n",
       "      <th></th>\n",
       "      <th></th>\n",
       "      <th></th>\n",
       "      <th></th>\n",
       "      <th></th>\n",
       "      <th></th>\n",
       "      <th></th>\n",
       "      <th></th>\n",
       "      <th></th>\n",
       "      <th></th>\n",
       "    </tr>\n",
       "  </thead>\n",
       "  <tbody>\n",
       "    <tr>\n",
       "      <th>AK</th>\n",
       "      <td>2173.125</td>\n",
       "      <td>2179.750</td>\n",
       "      <td>2177.333333</td>\n",
       "      <td>2182.000000</td>\n",
       "      <td>2182.333333</td>\n",
       "      <td>2185.666667</td>\n",
       "      <td>2184.500000</td>\n",
       "      <td>2187.333333</td>\n",
       "      <td>2199.0</td>\n",
       "      <td>2200.333333</td>\n",
       "      <td>2198.666667</td>\n",
       "      <td>2201.333333</td>\n",
       "    </tr>\n",
       "    <tr>\n",
       "      <th>AL</th>\n",
       "      <td>25971.125</td>\n",
       "      <td>26038.875</td>\n",
       "      <td>25783.833333</td>\n",
       "      <td>25825.000000</td>\n",
       "      <td>25863.000000</td>\n",
       "      <td>25915.000000</td>\n",
       "      <td>25962.666667</td>\n",
       "      <td>25995.000000</td>\n",
       "      <td>26050.5</td>\n",
       "      <td>26072.833333</td>\n",
       "      <td>26112.333333</td>\n",
       "      <td>26141.166667</td>\n",
       "    </tr>\n",
       "    <tr>\n",
       "      <th>AR</th>\n",
       "      <td>15709.875</td>\n",
       "      <td>15727.250</td>\n",
       "      <td>15540.666667</td>\n",
       "      <td>15572.666667</td>\n",
       "      <td>15598.166667</td>\n",
       "      <td>15642.500000</td>\n",
       "      <td>15662.833333</td>\n",
       "      <td>15689.500000</td>\n",
       "      <td>15725.5</td>\n",
       "      <td>15730.666667</td>\n",
       "      <td>15752.166667</td>\n",
       "      <td>15834.000000</td>\n",
       "    </tr>\n",
       "    <tr>\n",
       "      <th>AZ</th>\n",
       "      <td>28685.250</td>\n",
       "      <td>28755.125</td>\n",
       "      <td>28219.666667</td>\n",
       "      <td>28304.333333</td>\n",
       "      <td>28403.500000</td>\n",
       "      <td>28522.333333</td>\n",
       "      <td>28634.500000</td>\n",
       "      <td>28710.166667</td>\n",
       "      <td>28789.5</td>\n",
       "      <td>28870.333333</td>\n",
       "      <td>28943.666667</td>\n",
       "      <td>29111.833333</td>\n",
       "    </tr>\n",
       "    <tr>\n",
       "      <th>CA</th>\n",
       "      <td>132917.375</td>\n",
       "      <td>133247.250</td>\n",
       "      <td>131969.666667</td>\n",
       "      <td>132307.166667</td>\n",
       "      <td>132590.166667</td>\n",
       "      <td>132908.666667</td>\n",
       "      <td>133116.333333</td>\n",
       "      <td>133324.666667</td>\n",
       "      <td>133621.0</td>\n",
       "      <td>133897.333333</td>\n",
       "      <td>134009.000000</td>\n",
       "      <td>134549.833333</td>\n",
       "    </tr>\n",
       "  </tbody>\n",
       "</table>"
      ],
      "text/plain": [
       "<IPython.core.display.HTML object>"
      ]
     },
     "metadata": {},
     "output_type": "display_data"
    },
    {
     "data": {
      "text/html": [
       "<table border=\"1\" class=\"dataframe\">\n",
       "  <thead>\n",
       "    <tr style=\"text-align: right;\">\n",
       "      <th></th>\n",
       "      <th>All_Month_Average</th>\n",
       "    </tr>\n",
       "    <tr>\n",
       "      <th>state</th>\n",
       "      <th></th>\n",
       "    </tr>\n",
       "  </thead>\n",
       "  <tbody>\n",
       "    <tr>\n",
       "      <th>AK</th>\n",
       "      <td>2187.614583</td>\n",
       "    </tr>\n",
       "    <tr>\n",
       "      <th>AL</th>\n",
       "      <td>25977.611111</td>\n",
       "    </tr>\n",
       "    <tr>\n",
       "      <th>AR</th>\n",
       "      <td>15682.149306</td>\n",
       "    </tr>\n",
       "    <tr>\n",
       "      <th>AZ</th>\n",
       "      <td>28662.517361</td>\n",
       "    </tr>\n",
       "    <tr>\n",
       "      <th>CA</th>\n",
       "      <td>133204.871528</td>\n",
       "    </tr>\n",
       "  </tbody>\n",
       "</table>"
      ],
      "text/plain": [
       "<IPython.core.display.HTML object>"
      ]
     },
     "metadata": {},
     "output_type": "display_data"
    },
    {
     "data": {
      "text/html": [
       "<table border=\"1\" class=\"dataframe\">\n",
       "  <thead>\n",
       "    <tr style=\"text-align: right;\">\n",
       "      <th></th>\n",
       "      <th>All_Month_Average</th>\n",
       "    </tr>\n",
       "  </thead>\n",
       "  <tbody>\n",
       "    <tr>\n",
       "      <th>count</th>\n",
       "      <td>52.000000</td>\n",
       "    </tr>\n",
       "    <tr>\n",
       "      <th>mean</th>\n",
       "      <td>21546.142009</td>\n",
       "    </tr>\n",
       "    <tr>\n",
       "      <th>std</th>\n",
       "      <td>28163.246415</td>\n",
       "    </tr>\n",
       "    <tr>\n",
       "      <th>min</th>\n",
       "      <td>620.788345</td>\n",
       "    </tr>\n",
       "    <tr>\n",
       "      <th>25%</th>\n",
       "      <td>3671.500040</td>\n",
       "    </tr>\n",
       "    <tr>\n",
       "      <th>50%</th>\n",
       "      <td>9043.254954</td>\n",
       "    </tr>\n",
       "    <tr>\n",
       "      <th>75%</th>\n",
       "      <td>29031.632812</td>\n",
       "    </tr>\n",
       "    <tr>\n",
       "      <th>max</th>\n",
       "      <td>133204.871528</td>\n",
       "    </tr>\n",
       "  </tbody>\n",
       "</table>"
      ],
      "text/plain": [
       "<IPython.core.display.HTML object>"
      ]
     },
     "metadata": {},
     "output_type": "display_data"
    }
   ],
   "source": [
    "grouped = data.groupby([\"state\",\"month\"], sort=False)\n",
    "new_data= grouped['data_value'].agg(np.mean)   \n",
    "new_data = new_data.unstack(level=-1)\n",
    "display(HTML(new_data.head().to_html()))\n",
    "\n",
    "col = new_data.loc[: , \"January\":\"December\"]\n",
    "new_stateavg_data=pd.DataFrame()\n",
    "new_stateavg_data['All_Month_Average'] =  col.mean(axis=1)\n",
    "new_stateavg_data = new_stateavg_data.drop(['US'])\n",
    "display(HTML(new_stateavg_data.head().to_html()))\n",
    "display(HTML(new_stateavg_data.describe().to_html()))"
   ]
  },
  {
   "cell_type": "markdown",
   "metadata": {},
   "source": [
    "**STEP 13: HEATMAP OF CORRELATION BETWEEN COLUMNS**  \n",
    "  \n",
    "**When two sets of data are strongly linked together we say they have a High Correlation. To see corr between all the columns, we use .corr()**"
   ]
  },
  {
   "cell_type": "code",
   "execution_count": 131,
   "metadata": {},
   "outputs": [
    {
     "data": {
      "image/png": "[encoded data removed]",
      "text/plain": [
       "<matplotlib.figure.Figure at 0x11ae58b50>"
      ]
     },
     "metadata": {},
     "output_type": "display_data"
    }
   ],
   "source": [
    "f,ax = plt.subplots(figsize=(15, 13))\n",
    "sns.heatmap(new_data.corr(), annot=True, ax=ax)\n",
    "plt.show()"
   ]
  },
  {
   "cell_type": "markdown",
   "metadata": {},
   "source": [
    "**STEP 14: COMPLEX VISUALIZATION**  \n",
    "  \n",
    "**Next we want to be able to make more complex visualizations to better understand code** \n",
    "  \n",
    "**To start with, lets use plotly.graph_objs to visualize data on a USA map.**  \n",
    "   \n",
    "This can be repeated for the other dataframes."
   ]
  },
  {
   "cell_type": "code",
   "execution_count": 132,
   "metadata": {},
   "outputs": [
    {
     "data": {
      "application/vnd.plotly.v1+json": {
       "data": [
        {
         "colorbar": {
          "tickmode": "array",
          "title": "Total Deaths"
         },
         "locationmode": "USA-states",
         "locations": [
          "AK",
          "AL",
          "AR",
          "AZ",
          "CA",
          "CO",
          "CT",
          "DC",
          "DE",
          "FL",
          "GA",
          "HI",
          "IA",
          "ID",
          "IL",
          "IN",
          "KS",
          "KY",
          "LA",
          "MA",
          "MD",
          "ME",
          "MI",
          "MN",
          "MO",
          "MS",
          "NC",
          "MT",
          "ND",
          "NE",
          "NH",
          "NJ",
          "NM",
          "NV",
          "NY",
          "OH",
          "OK",
          "OR",
          "RI",
          "PA",
          "SC",
          "TX",
          "SD",
          "TN",
          "UT",
          "VA",
          "VT",
          "WA",
          "WI",
          "WV",
          "WY",
          "YC"
         ],
         "text": [
          "AK",
          "AL",
          "AR",
          "AZ",
          "CA",
          "CO",
          "CT",
          "DC",
          "DE",
          "FL",
          "GA",
          "HI",
          "IA",
          "ID",
          "IL",
          "IN",
          "KS",
          "KY",
          "LA",
          "MA",
          "MD",
          "ME",
          "MI",
          "MN",
          "MO",
          "MS",
          "NC",
          "MT",
          "ND",
          "NE",
          "NH",
          "NJ",
          "NM",
          "NV",
          "NY",
          "OH",
          "OK",
          "OR",
          "RI",
          "PA",
          "SC",
          "TX",
          "SD",
          "TN",
          "UT",
          "VA",
          "VT",
          "WA",
          "WI",
          "WV",
          "WY",
          "YC"
         ],
         "type": "choropleth",
         "uid": "ded3949c-cd5f-11e8-88eb-9801a7b07cb3",
         "z": [
          2187.6145833333335,
          25977.61111111111,
          15682.149305555553,
          28662.51736111111,
          133204.87152777775,
          19318.048611111113,
          3379.772641276355,
          680.4756539614699,
          4527.173611111111,
          101182.82638888888,
          41340.309027777774,
          5665.510416666667,
          14920.781250000002,
          6734.864583333332,
          53430.51388888888,
          32773.92013888889,
          13022.104166666666,
          24139.06944444444,
          22701.99652777778,
          30138.979166666668,
          5389.2918408085525,
          1529.933672469564,
          48530.55208333334,
          21884.045138888887,
          31827.583333333332,
          15608.57638888889,
          9655.596712988407,
          5036.781249999999,
          3484.21875,
          8430.913194444443,
          1329.4034217804349,
          36920.07986111111,
          1909.3081167206356,
          2623.0080680144297,
          10525.42610171555,
          61888.354166666664,
          4039.96079492982,
          3733.927136526921,
          1136.4313336679463,
          69269.35416666667,
          4936.098064075787,
          98423.30208333336,
          4009.0104166666665,
          36386.35069444445,
          2019.5336405618953,
          6935.5917775808075,
          620.7883453068781,
          5808.257864634957,
          26280.562500000004,
          2499.391332402071,
          2248.517361111111,
          5808.125455724757
         ]
        }
       ],
       "layout": {
        "geo": {
         "projection": {
          "type": "albers usa"
         }
        },
        "title": "Location Projections"
       }
      },
      "text/html": [
       "<div id=\"f0c91e50-c14b-4c3d-988a-03c0d3b5a8f0\" style=\"height: 525px; width: 100%;\" class=\"plotly-graph-div\"></div><script type=\"text/javascript\">require([\"plotly\"], function(Plotly) { window.PLOTLYENV=window.PLOTLYENV || {};window.PLOTLYENV.BASE_URL=\"https://plot.ly\";Plotly.newPlot(\"f0c91e50-c14b-4c3d-988a-03c0d3b5a8f0\", [{\"uid\": \"ded84491-cd5f-11e8-b279-9801a7b07cb3\", \"text\": [\"AK\", \"AL\", \"AR\", \"AZ\", \"CA\", \"CO\", \"CT\", \"DC\", \"DE\", \"FL\", \"GA\", \"HI\", \"IA\", \"ID\", \"IL\", \"IN\", \"KS\", \"KY\", \"LA\", \"MA\", \"MD\", \"ME\", \"MI\", \"MN\", \"MO\", \"MS\", \"NC\", \"MT\", \"ND\", \"NE\", \"NH\", \"NJ\", \"NM\", \"NV\", \"NY\", \"OH\", \"OK\", \"OR\", \"RI\", \"PA\", \"SC\", \"TX\", \"SD\", \"TN\", \"UT\", \"VA\", \"VT\", \"WA\", \"WI\", \"WV\", \"WY\", \"YC\"], \"locations\": [\"AK\", \"AL\", \"AR\", \"AZ\", \"CA\", \"CO\", \"CT\", \"DC\", \"DE\", \"FL\", \"GA\", \"HI\", \"IA\", \"ID\", \"IL\", \"IN\", \"KS\", \"KY\", \"LA\", \"MA\", \"MD\", \"ME\", \"MI\", \"MN\", \"MO\", \"MS\", \"NC\", \"MT\", \"ND\", \"NE\", \"NH\", \"NJ\", \"NM\", \"NV\", \"NY\", \"OH\", \"OK\", \"OR\", \"RI\", \"PA\", \"SC\", \"TX\", \"SD\", \"TN\", \"UT\", \"VA\", \"VT\", \"WA\", \"WI\", \"WV\", \"WY\", \"YC\"], \"colorbar\": {\"tickmode\": \"array\", \"title\": \"Total Deaths\"}, \"locationmode\": \"USA-states\", \"z\": [2187.6145833333335, 25977.61111111111, 15682.149305555553, 28662.51736111111, 133204.87152777775, 19318.048611111113, 3379.772641276355, 680.4756539614699, 4527.173611111111, 101182.82638888888, 41340.309027777774, 5665.510416666667, 14920.781250000002, 6734.864583333332, 53430.51388888888, 32773.92013888889, 13022.104166666666, 24139.06944444444, 22701.99652777778, 30138.979166666668, 5389.2918408085525, 1529.933672469564, 48530.55208333334, 21884.045138888887, 31827.583333333332, 15608.57638888889, 9655.596712988407, 5036.781249999999, 3484.21875, 8430.913194444443, 1329.4034217804349, 36920.07986111111, 1909.3081167206356, 2623.0080680144297, 10525.42610171555, 61888.354166666664, 4039.96079492982, 3733.927136526921, 1136.4313336679463, 69269.35416666667, 4936.098064075787, 98423.30208333336, 4009.0104166666665, 36386.35069444445, 2019.5336405618953, 6935.5917775808075, 620.7883453068781, 5808.257864634957, 26280.562500000004, 2499.391332402071, 2248.517361111111, 5808.125455724757], \"type\": \"choropleth\"}], {\"geo\": {\"projection\": {\"type\": \"albers usa\"}}, \"title\": \"Location Projections\"}, {\"linkText\": \"Export to plot.ly\", \"showLink\": true})});</script>"
      ],
      "text/vnd.plotly.v1+html": [
       "<div id=\"f0c91e50-c14b-4c3d-988a-03c0d3b5a8f0\" style=\"height: 525px; width: 100%;\" class=\"plotly-graph-div\"></div><script type=\"text/javascript\">require([\"plotly\"], function(Plotly) { window.PLOTLYENV=window.PLOTLYENV || {};window.PLOTLYENV.BASE_URL=\"https://plot.ly\";Plotly.newPlot(\"f0c91e50-c14b-4c3d-988a-03c0d3b5a8f0\", [{\"uid\": \"ded84491-cd5f-11e8-b279-9801a7b07cb3\", \"text\": [\"AK\", \"AL\", \"AR\", \"AZ\", \"CA\", \"CO\", \"CT\", \"DC\", \"DE\", \"FL\", \"GA\", \"HI\", \"IA\", \"ID\", \"IL\", \"IN\", \"KS\", \"KY\", \"LA\", \"MA\", \"MD\", \"ME\", \"MI\", \"MN\", \"MO\", \"MS\", \"NC\", \"MT\", \"ND\", \"NE\", \"NH\", \"NJ\", \"NM\", \"NV\", \"NY\", \"OH\", \"OK\", \"OR\", \"RI\", \"PA\", \"SC\", \"TX\", \"SD\", \"TN\", \"UT\", \"VA\", \"VT\", \"WA\", \"WI\", \"WV\", \"WY\", \"YC\"], \"locations\": [\"AK\", \"AL\", \"AR\", \"AZ\", \"CA\", \"CO\", \"CT\", \"DC\", \"DE\", \"FL\", \"GA\", \"HI\", \"IA\", \"ID\", \"IL\", \"IN\", \"KS\", \"KY\", \"LA\", \"MA\", \"MD\", \"ME\", \"MI\", \"MN\", \"MO\", \"MS\", \"NC\", \"MT\", \"ND\", \"NE\", \"NH\", \"NJ\", \"NM\", \"NV\", \"NY\", \"OH\", \"OK\", \"OR\", \"RI\", \"PA\", \"SC\", \"TX\", \"SD\", \"TN\", \"UT\", \"VA\", \"VT\", \"WA\", \"WI\", \"WV\", \"WY\", \"YC\"], \"colorbar\": {\"tickmode\": \"array\", \"title\": \"Total Deaths\"}, \"locationmode\": \"USA-states\", \"z\": [2187.6145833333335, 25977.61111111111, 15682.149305555553, 28662.51736111111, 133204.87152777775, 19318.048611111113, 3379.772641276355, 680.4756539614699, 4527.173611111111, 101182.82638888888, 41340.309027777774, 5665.510416666667, 14920.781250000002, 6734.864583333332, 53430.51388888888, 32773.92013888889, 13022.104166666666, 24139.06944444444, 22701.99652777778, 30138.979166666668, 5389.2918408085525, 1529.933672469564, 48530.55208333334, 21884.045138888887, 31827.583333333332, 15608.57638888889, 9655.596712988407, 5036.781249999999, 3484.21875, 8430.913194444443, 1329.4034217804349, 36920.07986111111, 1909.3081167206356, 2623.0080680144297, 10525.42610171555, 61888.354166666664, 4039.96079492982, 3733.927136526921, 1136.4313336679463, 69269.35416666667, 4936.098064075787, 98423.30208333336, 4009.0104166666665, 36386.35069444445, 2019.5336405618953, 6935.5917775808075, 620.7883453068781, 5808.257864634957, 26280.562500000004, 2499.391332402071, 2248.517361111111, 5808.125455724757], \"type\": \"choropleth\"}], {\"geo\": {\"projection\": {\"type\": \"albers usa\"}}, \"title\": \"Location Projections\"}, {\"linkText\": \"Export to plot.ly\", \"showLink\": true})});</script>"
      ]
     },
     "metadata": {},
     "output_type": "display_data"
    }
   ],
   "source": [
    "data2 = dict(\n",
    "        type='choropleth',\n",
    "        locations = list(new_stateavg_data.index),\n",
    "        z = new_stateavg_data.All_Month_Average,\n",
    "        locationmode = 'USA-states',\n",
    "        text = list(new_stateavg_data.index),colorbar = {'title':'Total Deaths', 'tickmode' : 'array',},\n",
    "    )\n",
    "\n",
    "layout = dict(title='Location Projections',\n",
    "    geo = dict(projection={'type':'albers usa'}))\n",
    "    \n",
    "fig = dict( data=[data2], layout=layout )\n",
    "iplot( fig )"
   ]
  },
  {
   "cell_type": "code",
   "execution_count": null,
   "metadata": {
    "collapsed": true
   },
   "outputs": [],
   "source": []
  }
 ],
 "metadata": {
  "kernelspec": {
   "display_name": "Python 2",
   "language": "python",
   "name": "python2"
  },
  "language_info": {
   "codemirror_mode": {
    "name": "ipython",
    "version": 2
   },
   "file_extension": ".py",
   "mimetype": "text/x-python",
   "name": "python",
   "nbconvert_exporter": "python",
   "pygments_lexer": "ipython2",
   "version": "2.7.13"
  }
 },
 "nbformat": 4,
 "nbformat_minor": 2
}
