{
 "cells": [
  {
   "cell_type": "markdown",
   "metadata": {},
   "source": [
    "**Below is the steps we would go through to load, view and visualize any json data.**  \n",
    "  \n",
    "**STEP 1: ADDING PACKAGES**  \n",
    "  \n",
    "**We add python packages we require.**  "
   ]
  },
  {
   "cell_type": "code",
   "execution_count": 2,
   "metadata": {},
   "outputs": [
    {
     "data": {
      "text/html": [
       "<script>requirejs.config({paths: { 'plotly': ['https://cdn.plot.ly/plotly-latest.min']},});if(!window.Plotly) {{require(['plotly'],function(plotly) {window.Plotly=plotly;});}}</script>"
      ],
      "text/vnd.plotly.v1+html": [
       "<script>requirejs.config({paths: { 'plotly': ['https://cdn.plot.ly/plotly-latest.min']},});if(!window.Plotly) {{require(['plotly'],function(plotly) {window.Plotly=plotly;});}}</script>"
      ]
     },
     "metadata": {},
     "output_type": "display_data"
    }
   ],
   "source": [
    "import ijson                    # required to extract data from json format\n",
    "import numpy  as np             # easy to play with arrays etc.\n",
    "import pandas as pd             # required to load and read data and put in dataframe.\n",
    "import matplotlib.pyplot as plt # required for data visualization purposes.\n",
    "import seaborn as sns           # required for data visualization purposes.\n",
    "import plotly.plotly as py      # required for data visualization purposes.\n",
    "import plotly.graph_objs as go  # required for data visualization purposes.\n",
    "from IPython.display import display, HTML\n",
    "from plotly.offline import init_notebook_mode, iplot\n",
    "init_notebook_mode(connected=True)"
   ]
  },
  {
   "cell_type": "markdown",
   "metadata": {},
   "source": [
    "**STEP 2: READING IN A DATASET**  \n",
    "  \n",
    "**To read data in the form of .json, you need ijson.items()**  \n",
    "**This time the parameter we use is meta.view.columns.item**\n",
    "\n",
    "**Most json files use a similar structure therefore the code looks pretty similar for any json data**  \n",
    "\n",
    "**https://catalog.data.gov/dataset/nutrition-physical-activity-and-obesity-women-infant-and-child-dfe5d is source of data**  "
   ]
  },
  {
   "cell_type": "code",
   "execution_count": 3,
   "metadata": {},
   "outputs": [
    {
     "name": "stdout",
     "output_type": "stream",
     "text": [
      "[u':sid', u':id', u':position', u':created_at', u':created_meta', u':updated_at', u':updated_meta', u':meta', u'yearstart', u'yearend', u'locationabbr', u'locationdesc', u'datasource', u'class', u'topic', u'question', u'data_value_unit', u'data_value_type', u'data_value', u'data_value_alt', u'data_value_footnote_symbol', u'data_value_footnote', u'low_confidence_limit', u'high_confidence_limit', u'sample_size', u'total', u'age_months', u'gender', u'race_ethnicity', u'geolocation', u'classid', u'topicid', u'questionid', u'datavaluetypeid', u'locationid', u'stratificationcategory1', u'stratification1', u'stratificationcategoryid1', u'stratificationid1']\n"
     ]
    }
   ],
   "source": [
    "filename = \"data/healthdata.json\"\n",
    "with open(filename, 'r') as f:\n",
    "    objects = ijson.items(f, 'meta.view.columns.item')\n",
    "    columns = list(objects)\n",
    "column_names = [col[\"fieldName\"] for col in columns]\n",
    "print column_names"
   ]
  },
  {
   "cell_type": "markdown",
   "metadata": {},
   "source": [
    "**STEP 3: DECIDING WHICH COLUMNS MATTER**  \n",
    "  \n",
    "\n",
    "**There are several columns with data that is either not required or has ':' symbols. Essentially we make a list of the columns we want and discard the rest**"
   ]
  },
  {
   "cell_type": "code",
   "execution_count": 4,
   "metadata": {
    "collapsed": true
   },
   "outputs": [],
   "source": [
    "final_columns=[u'yearstart', u'locationabbr', u'data_value', u'low_confidence_limit', u'high_confidence_limit', u'sample_size', u'stratificationcategory1', u'stratification1']"
   ]
  },
  {
   "cell_type": "markdown",
   "metadata": {},
   "source": [
    "**STEP 4: EXTRACT DATA FROM EACH SELECTED COLUMN**  \n",
    "  \n",
    "**Once again to get the data for each column we use ijson.items()**\n",
    "**This time the parameter we use is .item**"
   ]
  },
  {
   "cell_type": "code",
   "execution_count": 5,
   "metadata": {},
   "outputs": [
    {
     "name": "stdout",
     "output_type": "stream",
     "text": [
      "[u'2008', u'AL', u'25.0', u'19.3', u'30.7', u'228', u'Race/Ethnicity', u'American Indian/Alaska Native']\n"
     ]
    }
   ],
   "source": [
    "data = []\n",
    "with open(filename, 'r') as f:\n",
    "    objects = ijson.items(f, 'data.item')\n",
    "    for row in objects:\n",
    "        selected_row = []\n",
    "        for item in final_columns:\n",
    "            selected_row.append(row[column_names.index(item)])\n",
    "        data.append(selected_row)\n",
    "print data[9]"
   ]
  },
  {
   "cell_type": "markdown",
   "metadata": {},
   "source": [
    "**STEP 5: PUTTING THE DATA IN A PANDAS DATAFRAME**  \n",
    "  \n",
    "\n",
    "**We use pd.DataFrame() to put the data we extracted into a pandas df format**"
   ]
  },
  {
   "cell_type": "code",
   "execution_count": 6,
   "metadata": {
    "collapsed": true
   },
   "outputs": [],
   "source": [
    "data = pd.DataFrame(data, columns=final_columns)"
   ]
  },
  {
   "cell_type": "markdown",
   "metadata": {},
   "source": [
    "**STEP 6: VIEWING THE FIRST FEW ROWS**  \n",
    "  \n",
    "\n",
    "**To see the first few rows of the data and make sure we read it in correctly, we use .head()**\n"
   ]
  },
  {
   "cell_type": "code",
   "execution_count": 7,
   "metadata": {},
   "outputs": [
    {
     "data": {
      "text/html": [
       "<div>\n",
       "<style>\n",
       "    .dataframe thead tr:only-child th {\n",
       "        text-align: right;\n",
       "    }\n",
       "\n",
       "    .dataframe thead th {\n",
       "        text-align: left;\n",
       "    }\n",
       "\n",
       "    .dataframe tbody tr th {\n",
       "        vertical-align: top;\n",
       "    }\n",
       "</style>\n",
       "<table border=\"1\" class=\"dataframe\">\n",
       "  <thead>\n",
       "    <tr style=\"text-align: right;\">\n",
       "      <th></th>\n",
       "      <th>yearstart</th>\n",
       "      <th>locationabbr</th>\n",
       "      <th>data_value</th>\n",
       "      <th>low_confidence_limit</th>\n",
       "      <th>high_confidence_limit</th>\n",
       "      <th>sample_size</th>\n",
       "      <th>stratificationcategory1</th>\n",
       "      <th>stratification1</th>\n",
       "    </tr>\n",
       "  </thead>\n",
       "  <tbody>\n",
       "    <tr>\n",
       "      <th>0</th>\n",
       "      <td>2008</td>\n",
       "      <td>AL</td>\n",
       "      <td>15.4</td>\n",
       "      <td>15.1</td>\n",
       "      <td>15.8</td>\n",
       "      <td>43287</td>\n",
       "      <td>Total</td>\n",
       "      <td>Total</td>\n",
       "    </tr>\n",
       "    <tr>\n",
       "      <th>1</th>\n",
       "      <td>2008</td>\n",
       "      <td>AL</td>\n",
       "      <td>15.5</td>\n",
       "      <td>15.0</td>\n",
       "      <td>16.0</td>\n",
       "      <td>21912</td>\n",
       "      <td>Gender</td>\n",
       "      <td>Male</td>\n",
       "    </tr>\n",
       "    <tr>\n",
       "      <th>2</th>\n",
       "      <td>2008</td>\n",
       "      <td>AL</td>\n",
       "      <td>15.3</td>\n",
       "      <td>14.9</td>\n",
       "      <td>15.8</td>\n",
       "      <td>21375</td>\n",
       "      <td>Gender</td>\n",
       "      <td>Female</td>\n",
       "    </tr>\n",
       "    <tr>\n",
       "      <th>3</th>\n",
       "      <td>2008</td>\n",
       "      <td>AL</td>\n",
       "      <td>15.3</td>\n",
       "      <td>14.7</td>\n",
       "      <td>15.8</td>\n",
       "      <td>18219</td>\n",
       "      <td>Age (months)</td>\n",
       "      <td>24 - 35</td>\n",
       "    </tr>\n",
       "    <tr>\n",
       "      <th>4</th>\n",
       "      <td>2008</td>\n",
       "      <td>AL</td>\n",
       "      <td>14.9</td>\n",
       "      <td>14.4</td>\n",
       "      <td>15.5</td>\n",
       "      <td>14796</td>\n",
       "      <td>Age (months)</td>\n",
       "      <td>36 - 47</td>\n",
       "    </tr>\n",
       "    <tr>\n",
       "      <th>5</th>\n",
       "      <td>2008</td>\n",
       "      <td>AL</td>\n",
       "      <td>16.4</td>\n",
       "      <td>15.6</td>\n",
       "      <td>17.1</td>\n",
       "      <td>10272</td>\n",
       "      <td>Age (months)</td>\n",
       "      <td>48 - 59</td>\n",
       "    </tr>\n",
       "    <tr>\n",
       "      <th>6</th>\n",
       "      <td>2008</td>\n",
       "      <td>AL</td>\n",
       "      <td>15.8</td>\n",
       "      <td>15.2</td>\n",
       "      <td>16.3</td>\n",
       "      <td>17833</td>\n",
       "      <td>Race/Ethnicity</td>\n",
       "      <td>Non-Hispanic White</td>\n",
       "    </tr>\n",
       "    <tr>\n",
       "      <th>7</th>\n",
       "      <td>2008</td>\n",
       "      <td>AL</td>\n",
       "      <td>13.9</td>\n",
       "      <td>13.4</td>\n",
       "      <td>14.4</td>\n",
       "      <td>19170</td>\n",
       "      <td>Race/Ethnicity</td>\n",
       "      <td>Non-Hispanic Black</td>\n",
       "    </tr>\n",
       "    <tr>\n",
       "      <th>8</th>\n",
       "      <td>2008</td>\n",
       "      <td>AL</td>\n",
       "      <td>19.3</td>\n",
       "      <td>18.3</td>\n",
       "      <td>20.3</td>\n",
       "      <td>5731</td>\n",
       "      <td>Race/Ethnicity</td>\n",
       "      <td>Hispanic</td>\n",
       "    </tr>\n",
       "    <tr>\n",
       "      <th>9</th>\n",
       "      <td>2008</td>\n",
       "      <td>AL</td>\n",
       "      <td>25.0</td>\n",
       "      <td>19.3</td>\n",
       "      <td>30.7</td>\n",
       "      <td>228</td>\n",
       "      <td>Race/Ethnicity</td>\n",
       "      <td>American Indian/Alaska Native</td>\n",
       "    </tr>\n",
       "    <tr>\n",
       "      <th>10</th>\n",
       "      <td>2008</td>\n",
       "      <td>AL</td>\n",
       "      <td>8.8</td>\n",
       "      <td>5.4</td>\n",
       "      <td>12.2</td>\n",
       "      <td>273</td>\n",
       "      <td>Race/Ethnicity</td>\n",
       "      <td>Asian/Pacific Islander</td>\n",
       "    </tr>\n",
       "    <tr>\n",
       "      <th>11</th>\n",
       "      <td>2010</td>\n",
       "      <td>AL</td>\n",
       "      <td>16.0</td>\n",
       "      <td>15.7</td>\n",
       "      <td>16.4</td>\n",
       "      <td>45753</td>\n",
       "      <td>Total</td>\n",
       "      <td>Total</td>\n",
       "    </tr>\n",
       "    <tr>\n",
       "      <th>12</th>\n",
       "      <td>2010</td>\n",
       "      <td>AL</td>\n",
       "      <td>16.3</td>\n",
       "      <td>15.8</td>\n",
       "      <td>16.8</td>\n",
       "      <td>23112</td>\n",
       "      <td>Gender</td>\n",
       "      <td>Male</td>\n",
       "    </tr>\n",
       "    <tr>\n",
       "      <th>13</th>\n",
       "      <td>2010</td>\n",
       "      <td>AL</td>\n",
       "      <td>15.8</td>\n",
       "      <td>15.3</td>\n",
       "      <td>16.2</td>\n",
       "      <td>22641</td>\n",
       "      <td>Gender</td>\n",
       "      <td>Female</td>\n",
       "    </tr>\n",
       "    <tr>\n",
       "      <th>14</th>\n",
       "      <td>2010</td>\n",
       "      <td>AL</td>\n",
       "      <td>15.5</td>\n",
       "      <td>15.0</td>\n",
       "      <td>16.0</td>\n",
       "      <td>19294</td>\n",
       "      <td>Age (months)</td>\n",
       "      <td>24 - 35</td>\n",
       "    </tr>\n",
       "  </tbody>\n",
       "</table>\n",
       "</div>"
      ],
      "text/plain": [
       "   yearstart locationabbr data_value low_confidence_limit  \\\n",
       "0       2008           AL       15.4                 15.1   \n",
       "1       2008           AL       15.5                 15.0   \n",
       "2       2008           AL       15.3                 14.9   \n",
       "3       2008           AL       15.3                 14.7   \n",
       "4       2008           AL       14.9                 14.4   \n",
       "5       2008           AL       16.4                 15.6   \n",
       "6       2008           AL       15.8                 15.2   \n",
       "7       2008           AL       13.9                 13.4   \n",
       "8       2008           AL       19.3                 18.3   \n",
       "9       2008           AL       25.0                 19.3   \n",
       "10      2008           AL        8.8                  5.4   \n",
       "11      2010           AL       16.0                 15.7   \n",
       "12      2010           AL       16.3                 15.8   \n",
       "13      2010           AL       15.8                 15.3   \n",
       "14      2010           AL       15.5                 15.0   \n",
       "\n",
       "   high_confidence_limit sample_size stratificationcategory1  \\\n",
       "0                   15.8       43287                   Total   \n",
       "1                   16.0       21912                  Gender   \n",
       "2                   15.8       21375                  Gender   \n",
       "3                   15.8       18219            Age (months)   \n",
       "4                   15.5       14796            Age (months)   \n",
       "5                   17.1       10272            Age (months)   \n",
       "6                   16.3       17833          Race/Ethnicity   \n",
       "7                   14.4       19170          Race/Ethnicity   \n",
       "8                   20.3        5731          Race/Ethnicity   \n",
       "9                   30.7         228          Race/Ethnicity   \n",
       "10                  12.2         273          Race/Ethnicity   \n",
       "11                  16.4       45753                   Total   \n",
       "12                  16.8       23112                  Gender   \n",
       "13                  16.2       22641                  Gender   \n",
       "14                  16.0       19294            Age (months)   \n",
       "\n",
       "                  stratification1  \n",
       "0                           Total  \n",
       "1                            Male  \n",
       "2                          Female  \n",
       "3                         24 - 35  \n",
       "4                         36 - 47  \n",
       "5                         48 - 59  \n",
       "6              Non-Hispanic White  \n",
       "7              Non-Hispanic Black  \n",
       "8                        Hispanic  \n",
       "9   American Indian/Alaska Native  \n",
       "10         Asian/Pacific Islander  \n",
       "11                          Total  \n",
       "12                           Male  \n",
       "13                         Female  \n",
       "14                        24 - 35  "
      ]
     },
     "execution_count": 7,
     "metadata": {},
     "output_type": "execute_result"
    }
   ],
   "source": [
    "data.head(15)"
   ]
  },
  {
   "cell_type": "markdown",
   "metadata": {},
   "source": [
    "**STEP 7: GET BASIC INFORMATION**  \n",
    "  \n",
    "**To get basic info from the dataset, we use .info()**"
   ]
  },
  {
   "cell_type": "code",
   "execution_count": 8,
   "metadata": {},
   "outputs": [
    {
     "name": "stdout",
     "output_type": "stream",
     "text": [
      "<class 'pandas.core.frame.DataFrame'>\n",
      "RangeIndex: 7344 entries, 0 to 7343\n",
      "Data columns (total 8 columns):\n",
      "yearstart                  7344 non-null object\n",
      "locationabbr               7344 non-null object\n",
      "data_value                 7153 non-null object\n",
      "low_confidence_limit       7153 non-null object\n",
      "high_confidence_limit      7153 non-null object\n",
      "sample_size                7153 non-null object\n",
      "stratificationcategory1    7344 non-null object\n",
      "stratification1            7344 non-null object\n",
      "dtypes: object(8)\n",
      "memory usage: 459.1+ KB\n"
     ]
    }
   ],
   "source": [
    "data.info()"
   ]
  },
  {
   "cell_type": "markdown",
   "metadata": {},
   "source": [
    "**STEP 8: SEE FURTHER DETAILS**  \n",
    "  \n",
    "**To get datatypes of each column, we can use .dtypes**  \n",
    "\n",
    "**To get more details about each column, we can use .describe()**  \n",
    "  \n",
    "The reason we only get data from 3 columns is because the rest have commas in them which need to be removed\n",
    "We can deal with this later while cleaning."
   ]
  },
  {
   "cell_type": "code",
   "execution_count": 9,
   "metadata": {},
   "outputs": [
    {
     "name": "stdout",
     "output_type": "stream",
     "text": [
      "yearstart                  object\n",
      "locationabbr               object\n",
      "data_value                 object\n",
      "low_confidence_limit       object\n",
      "high_confidence_limit      object\n",
      "sample_size                object\n",
      "stratificationcategory1    object\n",
      "stratification1            object\n",
      "dtype: object\n",
      "\n",
      "\n"
     ]
    },
    {
     "data": {
      "text/html": [
       "<table border=\"1\" class=\"dataframe\">\n",
       "  <thead>\n",
       "    <tr style=\"text-align: right;\">\n",
       "      <th></th>\n",
       "      <th>yearstart</th>\n",
       "      <th>locationabbr</th>\n",
       "      <th>data_value</th>\n",
       "      <th>low_confidence_limit</th>\n",
       "      <th>high_confidence_limit</th>\n",
       "      <th>sample_size</th>\n",
       "      <th>stratificationcategory1</th>\n",
       "      <th>stratification1</th>\n",
       "    </tr>\n",
       "  </thead>\n",
       "  <tbody>\n",
       "    <tr>\n",
       "      <th>count</th>\n",
       "      <td>7344</td>\n",
       "      <td>7344</td>\n",
       "      <td>7153</td>\n",
       "      <td>7153</td>\n",
       "      <td>7153</td>\n",
       "      <td>7153</td>\n",
       "      <td>7344</td>\n",
       "      <td>7344</td>\n",
       "    </tr>\n",
       "    <tr>\n",
       "      <th>unique</th>\n",
       "      <td>4</td>\n",
       "      <td>54</td>\n",
       "      <td>247</td>\n",
       "      <td>251</td>\n",
       "      <td>284</td>\n",
       "      <td>4190</td>\n",
       "      <td>4</td>\n",
       "      <td>15</td>\n",
       "    </tr>\n",
       "    <tr>\n",
       "      <th>top</th>\n",
       "      <td>2008</td>\n",
       "      <td>AZ</td>\n",
       "      <td>16.0</td>\n",
       "      <td>15.7</td>\n",
       "      <td>16.3</td>\n",
       "      <td>72</td>\n",
       "      <td>Race/Ethnicity</td>\n",
       "      <td>Non-Hispanic White</td>\n",
       "    </tr>\n",
       "    <tr>\n",
       "      <th>freq</th>\n",
       "      <td>1836</td>\n",
       "      <td>136</td>\n",
       "      <td>105</td>\n",
       "      <td>93</td>\n",
       "      <td>117</td>\n",
       "      <td>12</td>\n",
       "      <td>3240</td>\n",
       "      <td>648</td>\n",
       "    </tr>\n",
       "  </tbody>\n",
       "</table>"
      ],
      "text/plain": [
       "<IPython.core.display.HTML object>"
      ]
     },
     "metadata": {},
     "output_type": "display_data"
    }
   ],
   "source": [
    "print data.dtypes\n",
    "print \"\\n\"\n",
    "display(HTML(data.describe().to_html()))"
   ]
  },
  {
   "cell_type": "markdown",
   "metadata": {},
   "source": [
    "**STEP 6: COUNT NUMBER OF EMPTY VALUES IN COLUMN**  \n",
    "   \n",
    "**We can check the number of null values a column has by using .isnull().sum()**  \n",
    "  \n",
    "**For example, here, Climate has the most null values **  "
   ]
  },
  {
   "cell_type": "code",
   "execution_count": 10,
   "metadata": {},
   "outputs": [
    {
     "name": "stdout",
     "output_type": "stream",
     "text": [
      "yearstart                    0\n",
      "locationabbr                 0\n",
      "data_value                 191\n",
      "low_confidence_limit       191\n",
      "high_confidence_limit      191\n",
      "sample_size                191\n",
      "stratificationcategory1      0\n",
      "stratification1              0\n",
      "dtype: int64\n"
     ]
    }
   ],
   "source": [
    "print data.isnull().sum()"
   ]
  },
  {
   "cell_type": "markdown",
   "metadata": {},
   "source": [
    "**STEP 7: SEE NUMBER OF UNIQUE VALUES IN COLUMN**  \n",
    "  \n",
    "**It is useful to see the number of unique values in each column using .nunique()**  \n",
    "  \n",
    "**Here we see region and climate have a good number of unique values to order by, therefore we can group by these columns and make good visualizations**  "
   ]
  },
  {
   "cell_type": "code",
   "execution_count": 11,
   "metadata": {},
   "outputs": [
    {
     "name": "stdout",
     "output_type": "stream",
     "text": [
      "yearstart                     4\n",
      "locationabbr                 54\n",
      "data_value                  247\n",
      "low_confidence_limit        251\n",
      "high_confidence_limit       284\n",
      "sample_size                4190\n",
      "stratificationcategory1       4\n",
      "stratification1              15\n",
      "dtype: int64\n"
     ]
    }
   ],
   "source": [
    "print data.nunique()"
   ]
  },
  {
   "cell_type": "markdown",
   "metadata": {},
   "source": [
    "**STEP 9: NUMBER OF OCCURANCES OF EACH VALUE IN COLUMN**  \n",
    "  \n",
    "**A good way to visualize data of a column you wish to group by is to use .value_counts()**  \n",
    "  \n",
    "**It gives a clear picture of how many would be in each group etc.** "
   ]
  },
  {
   "cell_type": "code",
   "execution_count": 14,
   "metadata": {},
   "outputs": [
    {
     "name": "stdout",
     "output_type": "stream",
     "text": [
      "Race/Ethnicity    3240\n",
      "Age (months)      2160\n",
      "Gender            1296\n",
      "Total              648\n",
      "Name: stratificationcategory1, dtype: int64\n",
      "Non-Hispanic White               648\n",
      "Hispanic                         648\n",
      "Male                             648\n",
      "Total                            648\n",
      "Asian/Pacific Islander           648\n",
      "American Indian/Alaska Native    648\n",
      "Female                           648\n",
      "Non-Hispanic Black               648\n",
      "36 - 47                          432\n",
      "48 - 59                          432\n",
      "24 - 35                          432\n",
      "12 - 17                          216\n",
      "6 - 11                           216\n",
      "18 - 23                          216\n",
      "3 - 5                            216\n",
      "Name: stratification1, dtype: int64\n",
      "AZ    136\n",
      "MI    136\n",
      "VI    136\n",
      "VA    136\n",
      "LA    136\n",
      "SD    136\n",
      "SC    136\n",
      "CT    136\n",
      "CA    136\n",
      "CO    136\n",
      "FL    136\n",
      "MS    136\n",
      "MT    136\n",
      "MN    136\n",
      "AR    136\n",
      "Name: locationabbr, dtype: int64\n"
     ]
    }
   ],
   "source": [
    "stratifications = data.stratificationcategory1.value_counts()\n",
    "print stratifications\n",
    "stratifications1 = data.stratification1.value_counts()\n",
    "print stratifications1\n",
    "locations = data.locationabbr.value_counts()\n",
    "print locations.head(15)"
   ]
  },
  {
   "cell_type": "markdown",
   "metadata": {},
   "source": [
    "**STEP 10: CLEANING DATA**  \n",
    "  \n",
    "**To see more from the data it has to be cleaned. Cleaning data is usally unique to each dataset.**  \n",
    "\n",
    "**In this instance, we change column dtypes **"
   ]
  },
  {
   "cell_type": "code",
   "execution_count": 15,
   "metadata": {
    "collapsed": true
   },
   "outputs": [],
   "source": [
    "for i in data.columns:\n",
    "    if i== 'locationabbr' or i=='stratificationcategory1' or i=='stratification1':        \n",
    "        data[i] = data[i].str.strip().astype('category')\n",
    "    else:\n",
    "        data[i] = data[i].astype(float)"
   ]
  },
  {
   "cell_type": "markdown",
   "metadata": {},
   "source": [
    "**Now after cleaning, lets look at the new data types and the mean, std, min, max etc. of all the columns again**"
   ]
  },
  {
   "cell_type": "code",
   "execution_count": 16,
   "metadata": {},
   "outputs": [
    {
     "name": "stdout",
     "output_type": "stream",
     "text": [
      "yearstart                   float64\n",
      "locationabbr               category\n",
      "data_value                  float64\n",
      "low_confidence_limit        float64\n",
      "high_confidence_limit       float64\n",
      "sample_size                 float64\n",
      "stratificationcategory1    category\n",
      "stratification1            category\n",
      "dtype: object\n",
      "\n",
      "\n"
     ]
    },
    {
     "data": {
      "text/html": [
       "<table border=\"1\" class=\"dataframe\">\n",
       "  <thead>\n",
       "    <tr style=\"text-align: right;\">\n",
       "      <th></th>\n",
       "      <th>yearstart</th>\n",
       "      <th>data_value</th>\n",
       "      <th>low_confidence_limit</th>\n",
       "      <th>high_confidence_limit</th>\n",
       "      <th>sample_size</th>\n",
       "    </tr>\n",
       "  </thead>\n",
       "  <tbody>\n",
       "    <tr>\n",
       "      <th>count</th>\n",
       "      <td>7344.00000</td>\n",
       "      <td>7153.000000</td>\n",
       "      <td>7153.000000</td>\n",
       "      <td>7153.000000</td>\n",
       "      <td>7153.000000</td>\n",
       "    </tr>\n",
       "    <tr>\n",
       "      <th>mean</th>\n",
       "      <td>2011.00000</td>\n",
       "      <td>14.249490</td>\n",
       "      <td>12.872571</td>\n",
       "      <td>15.627387</td>\n",
       "      <td>19027.823571</td>\n",
       "    </tr>\n",
       "    <tr>\n",
       "      <th>std</th>\n",
       "      <td>2.23622</td>\n",
       "      <td>3.737871</td>\n",
       "      <td>4.065295</td>\n",
       "      <td>4.057627</td>\n",
       "      <td>41023.632114</td>\n",
       "    </tr>\n",
       "    <tr>\n",
       "      <th>min</th>\n",
       "      <td>2008.00000</td>\n",
       "      <td>1.500000</td>\n",
       "      <td>0.000000</td>\n",
       "      <td>3.700000</td>\n",
       "      <td>50.000000</td>\n",
       "    </tr>\n",
       "    <tr>\n",
       "      <th>25%</th>\n",
       "      <td>2009.50000</td>\n",
       "      <td>11.900000</td>\n",
       "      <td>10.500000</td>\n",
       "      <td>13.100000</td>\n",
       "      <td>1816.000000</td>\n",
       "    </tr>\n",
       "    <tr>\n",
       "      <th>50%</th>\n",
       "      <td>2011.00000</td>\n",
       "      <td>14.400000</td>\n",
       "      <td>13.300000</td>\n",
       "      <td>15.500000</td>\n",
       "      <td>7968.000000</td>\n",
       "    </tr>\n",
       "    <tr>\n",
       "      <th>75%</th>\n",
       "      <td>2012.50000</td>\n",
       "      <td>16.500000</td>\n",
       "      <td>15.600000</td>\n",
       "      <td>17.600000</td>\n",
       "      <td>20861.000000</td>\n",
       "    </tr>\n",
       "    <tr>\n",
       "      <th>max</th>\n",
       "      <td>2014.00000</td>\n",
       "      <td>36.100000</td>\n",
       "      <td>34.500000</td>\n",
       "      <td>37.700000</td>\n",
       "      <td>620016.000000</td>\n",
       "    </tr>\n",
       "  </tbody>\n",
       "</table>"
      ],
      "text/plain": [
       "<IPython.core.display.HTML object>"
      ]
     },
     "metadata": {},
     "output_type": "display_data"
    }
   ],
   "source": [
    "print data.dtypes\n",
    "print \"\\n\"\n",
    "display(HTML(data.describe().to_html()))"
   ]
  }
 ],
 "metadata": {
  "kernelspec": {
   "display_name": "Python 2",
   "language": "python",
   "name": "python2"
  },
  "language_info": {
   "codemirror_mode": {
    "name": "ipython",
    "version": 2
   },
   "file_extension": ".py",
   "mimetype": "text/x-python",
   "name": "python",
   "nbconvert_exporter": "python",
   "pygments_lexer": "ipython2",
   "version": "2.7.15"
  }
 },
 "nbformat": 4,
 "nbformat_minor": 2
}
