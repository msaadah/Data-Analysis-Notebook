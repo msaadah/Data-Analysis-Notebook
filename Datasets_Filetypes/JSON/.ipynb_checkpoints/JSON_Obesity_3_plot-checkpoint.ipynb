{
 "cells": [
  {
   "cell_type": "markdown",
   "metadata": {},
   "source": [
    "**Below is the steps we would go through to load, view and visualize any json data.**  \n",
    "  \n",
    "**STEP 1: ADDING PACKAGES**  \n",
    "  \n",
    "**We add python packages we require.**  "
   ]
  },
  {
   "cell_type": "code",
   "execution_count": 2,
   "metadata": {},
   "outputs": [
    {
     "data": {
      "text/html": [
       "<script>requirejs.config({paths: { 'plotly': ['https://cdn.plot.ly/plotly-latest.min']},});if(!window.Plotly) {{require(['plotly'],function(plotly) {window.Plotly=plotly;});}}</script>"
      ],
      "text/vnd.plotly.v1+html": [
       "<script>requirejs.config({paths: { 'plotly': ['https://cdn.plot.ly/plotly-latest.min']},});if(!window.Plotly) {{require(['plotly'],function(plotly) {window.Plotly=plotly;});}}</script>"
      ]
     },
     "metadata": {},
     "output_type": "display_data"
    }
   ],
   "source": [
    "import ijson                    # required to extract data from json format\n",
    "import numpy  as np             # easy to play with arrays etc.\n",
    "import pandas as pd             # required to load and read data and put in dataframe.\n",
    "import matplotlib.pyplot as plt # required for data visualization purposes.\n",
    "import seaborn as sns           # required for data visualization purposes.\n",
    "import plotly.plotly as py      # required for data visualization purposes.\n",
    "import plotly.graph_objs as go  # required for data visualization purposes.\n",
    "from IPython.display import display, HTML\n",
    "from plotly.offline import init_notebook_mode, iplot\n",
    "init_notebook_mode(connected=True)"
   ]
  },
  {
   "cell_type": "markdown",
   "metadata": {},
   "source": [
    "**STEP 2: READING IN A DATASET**  \n",
    "  \n",
    "**To read data in the form of .json, you need ijson.items()**  \n",
    "**This time the parameter we use is meta.view.columns.item**\n",
    "\n",
    "**Most json files use a similar structure therefore the code looks pretty similar for any json data**  \n",
    "\n",
    "**https://catalog.data.gov/dataset/nutrition-physical-activity-and-obesity-women-infant-and-child-dfe5d is source of data**  "
   ]
  },
  {
   "cell_type": "code",
   "execution_count": 3,
   "metadata": {},
   "outputs": [
    {
     "name": "stdout",
     "output_type": "stream",
     "text": [
      "[u':sid', u':id', u':position', u':created_at', u':created_meta', u':updated_at', u':updated_meta', u':meta', u'yearstart', u'yearend', u'locationabbr', u'locationdesc', u'datasource', u'class', u'topic', u'question', u'data_value_unit', u'data_value_type', u'data_value', u'data_value_alt', u'data_value_footnote_symbol', u'data_value_footnote', u'low_confidence_limit', u'high_confidence_limit', u'sample_size', u'total', u'age_months', u'gender', u'race_ethnicity', u'geolocation', u'classid', u'topicid', u'questionid', u'datavaluetypeid', u'locationid', u'stratificationcategory1', u'stratification1', u'stratificationcategoryid1', u'stratificationid1']\n"
     ]
    }
   ],
   "source": [
    "filename = \"data/healthdata.json\"\n",
    "with open(filename, 'r') as f:\n",
    "    objects = ijson.items(f, 'meta.view.columns.item')\n",
    "    columns = list(objects)\n",
    "column_names = [col[\"fieldName\"] for col in columns]\n",
    "print column_names"
   ]
  },
  {
   "cell_type": "markdown",
   "metadata": {},
   "source": [
    "**STEP 3: DECIDING WHICH COLUMNS MATTER**  \n",
    "  \n",
    "\n",
    "**There are several columns with data that is either not required or has ':' symbols. Essentially we make a list of the columns we want and discard the rest**"
   ]
  },
  {
   "cell_type": "code",
   "execution_count": 4,
   "metadata": {
    "collapsed": true
   },
   "outputs": [],
   "source": [
    "final_columns=[u'yearstart', u'locationabbr', u'data_value', u'low_confidence_limit', u'high_confidence_limit', u'sample_size', u'stratificationcategory1', u'stratification1']"
   ]
  },
  {
   "cell_type": "markdown",
   "metadata": {},
   "source": [
    "**STEP 4: EXTRACT DATA FROM EACH SELECTED COLUMN**  \n",
    "  \n",
    "**Once again to get the data for each column we use ijson.items()**\n",
    "**This time the parameter we use is .item**"
   ]
  },
  {
   "cell_type": "code",
   "execution_count": 5,
   "metadata": {},
   "outputs": [
    {
     "name": "stdout",
     "output_type": "stream",
     "text": [
      "[u'2008', u'AL', u'25.0', u'19.3', u'30.7', u'228', u'Race/Ethnicity', u'American Indian/Alaska Native']\n"
     ]
    }
   ],
   "source": [
    "data = []\n",
    "with open(filename, 'r') as f:\n",
    "    objects = ijson.items(f, 'data.item')\n",
    "    for row in objects:\n",
    "        selected_row = []\n",
    "        for item in final_columns:\n",
    "            selected_row.append(row[column_names.index(item)])\n",
    "        data.append(selected_row)\n",
    "print data[9]"
   ]
  },
  {
   "cell_type": "markdown",
   "metadata": {},
   "source": [
    "**STEP 5: PUTTING THE DATA IN A PANDAS DATAFRAME**  \n",
    "  \n",
    "\n",
    "**We use pd.DataFrame() to put the data we extracted into a pandas df format**"
   ]
  },
  {
   "cell_type": "code",
   "execution_count": 6,
   "metadata": {
    "collapsed": true
   },
   "outputs": [],
   "source": [
    "data = pd.DataFrame(data, columns=final_columns)"
   ]
  },
  {
   "cell_type": "markdown",
   "metadata": {},
   "source": [
    "**STEP 6: VIEWING THE FIRST FEW ROWS**  \n",
    "  \n",
    "\n",
    "**To see the first few rows of the data and make sure we read it in correctly, we use .head()**\n"
   ]
  },
  {
   "cell_type": "code",
   "execution_count": 7,
   "metadata": {},
   "outputs": [
    {
     "data": {
      "text/html": [
       "<div>\n",
       "<style>\n",
       "    .dataframe thead tr:only-child th {\n",
       "        text-align: right;\n",
       "    }\n",
       "\n",
       "    .dataframe thead th {\n",
       "        text-align: left;\n",
       "    }\n",
       "\n",
       "    .dataframe tbody tr th {\n",
       "        vertical-align: top;\n",
       "    }\n",
       "</style>\n",
       "<table border=\"1\" class=\"dataframe\">\n",
       "  <thead>\n",
       "    <tr style=\"text-align: right;\">\n",
       "      <th></th>\n",
       "      <th>yearstart</th>\n",
       "      <th>locationabbr</th>\n",
       "      <th>data_value</th>\n",
       "      <th>low_confidence_limit</th>\n",
       "      <th>high_confidence_limit</th>\n",
       "      <th>sample_size</th>\n",
       "      <th>stratificationcategory1</th>\n",
       "      <th>stratification1</th>\n",
       "    </tr>\n",
       "  </thead>\n",
       "  <tbody>\n",
       "    <tr>\n",
       "      <th>0</th>\n",
       "      <td>2008</td>\n",
       "      <td>AL</td>\n",
       "      <td>15.4</td>\n",
       "      <td>15.1</td>\n",
       "      <td>15.8</td>\n",
       "      <td>43287</td>\n",
       "      <td>Total</td>\n",
       "      <td>Total</td>\n",
       "    </tr>\n",
       "    <tr>\n",
       "      <th>1</th>\n",
       "      <td>2008</td>\n",
       "      <td>AL</td>\n",
       "      <td>15.5</td>\n",
       "      <td>15.0</td>\n",
       "      <td>16.0</td>\n",
       "      <td>21912</td>\n",
       "      <td>Gender</td>\n",
       "      <td>Male</td>\n",
       "    </tr>\n",
       "    <tr>\n",
       "      <th>2</th>\n",
       "      <td>2008</td>\n",
       "      <td>AL</td>\n",
       "      <td>15.3</td>\n",
       "      <td>14.9</td>\n",
       "      <td>15.8</td>\n",
       "      <td>21375</td>\n",
       "      <td>Gender</td>\n",
       "      <td>Female</td>\n",
       "    </tr>\n",
       "    <tr>\n",
       "      <th>3</th>\n",
       "      <td>2008</td>\n",
       "      <td>AL</td>\n",
       "      <td>15.3</td>\n",
       "      <td>14.7</td>\n",
       "      <td>15.8</td>\n",
       "      <td>18219</td>\n",
       "      <td>Age (months)</td>\n",
       "      <td>24 - 35</td>\n",
       "    </tr>\n",
       "    <tr>\n",
       "      <th>4</th>\n",
       "      <td>2008</td>\n",
       "      <td>AL</td>\n",
       "      <td>14.9</td>\n",
       "      <td>14.4</td>\n",
       "      <td>15.5</td>\n",
       "      <td>14796</td>\n",
       "      <td>Age (months)</td>\n",
       "      <td>36 - 47</td>\n",
       "    </tr>\n",
       "    <tr>\n",
       "      <th>5</th>\n",
       "      <td>2008</td>\n",
       "      <td>AL</td>\n",
       "      <td>16.4</td>\n",
       "      <td>15.6</td>\n",
       "      <td>17.1</td>\n",
       "      <td>10272</td>\n",
       "      <td>Age (months)</td>\n",
       "      <td>48 - 59</td>\n",
       "    </tr>\n",
       "    <tr>\n",
       "      <th>6</th>\n",
       "      <td>2008</td>\n",
       "      <td>AL</td>\n",
       "      <td>15.8</td>\n",
       "      <td>15.2</td>\n",
       "      <td>16.3</td>\n",
       "      <td>17833</td>\n",
       "      <td>Race/Ethnicity</td>\n",
       "      <td>Non-Hispanic White</td>\n",
       "    </tr>\n",
       "    <tr>\n",
       "      <th>7</th>\n",
       "      <td>2008</td>\n",
       "      <td>AL</td>\n",
       "      <td>13.9</td>\n",
       "      <td>13.4</td>\n",
       "      <td>14.4</td>\n",
       "      <td>19170</td>\n",
       "      <td>Race/Ethnicity</td>\n",
       "      <td>Non-Hispanic Black</td>\n",
       "    </tr>\n",
       "    <tr>\n",
       "      <th>8</th>\n",
       "      <td>2008</td>\n",
       "      <td>AL</td>\n",
       "      <td>19.3</td>\n",
       "      <td>18.3</td>\n",
       "      <td>20.3</td>\n",
       "      <td>5731</td>\n",
       "      <td>Race/Ethnicity</td>\n",
       "      <td>Hispanic</td>\n",
       "    </tr>\n",
       "    <tr>\n",
       "      <th>9</th>\n",
       "      <td>2008</td>\n",
       "      <td>AL</td>\n",
       "      <td>25.0</td>\n",
       "      <td>19.3</td>\n",
       "      <td>30.7</td>\n",
       "      <td>228</td>\n",
       "      <td>Race/Ethnicity</td>\n",
       "      <td>American Indian/Alaska Native</td>\n",
       "    </tr>\n",
       "    <tr>\n",
       "      <th>10</th>\n",
       "      <td>2008</td>\n",
       "      <td>AL</td>\n",
       "      <td>8.8</td>\n",
       "      <td>5.4</td>\n",
       "      <td>12.2</td>\n",
       "      <td>273</td>\n",
       "      <td>Race/Ethnicity</td>\n",
       "      <td>Asian/Pacific Islander</td>\n",
       "    </tr>\n",
       "    <tr>\n",
       "      <th>11</th>\n",
       "      <td>2010</td>\n",
       "      <td>AL</td>\n",
       "      <td>16.0</td>\n",
       "      <td>15.7</td>\n",
       "      <td>16.4</td>\n",
       "      <td>45753</td>\n",
       "      <td>Total</td>\n",
       "      <td>Total</td>\n",
       "    </tr>\n",
       "    <tr>\n",
       "      <th>12</th>\n",
       "      <td>2010</td>\n",
       "      <td>AL</td>\n",
       "      <td>16.3</td>\n",
       "      <td>15.8</td>\n",
       "      <td>16.8</td>\n",
       "      <td>23112</td>\n",
       "      <td>Gender</td>\n",
       "      <td>Male</td>\n",
       "    </tr>\n",
       "    <tr>\n",
       "      <th>13</th>\n",
       "      <td>2010</td>\n",
       "      <td>AL</td>\n",
       "      <td>15.8</td>\n",
       "      <td>15.3</td>\n",
       "      <td>16.2</td>\n",
       "      <td>22641</td>\n",
       "      <td>Gender</td>\n",
       "      <td>Female</td>\n",
       "    </tr>\n",
       "    <tr>\n",
       "      <th>14</th>\n",
       "      <td>2010</td>\n",
       "      <td>AL</td>\n",
       "      <td>15.5</td>\n",
       "      <td>15.0</td>\n",
       "      <td>16.0</td>\n",
       "      <td>19294</td>\n",
       "      <td>Age (months)</td>\n",
       "      <td>24 - 35</td>\n",
       "    </tr>\n",
       "  </tbody>\n",
       "</table>\n",
       "</div>"
      ],
      "text/plain": [
       "   yearstart locationabbr data_value low_confidence_limit  \\\n",
       "0       2008           AL       15.4                 15.1   \n",
       "1       2008           AL       15.5                 15.0   \n",
       "2       2008           AL       15.3                 14.9   \n",
       "3       2008           AL       15.3                 14.7   \n",
       "4       2008           AL       14.9                 14.4   \n",
       "5       2008           AL       16.4                 15.6   \n",
       "6       2008           AL       15.8                 15.2   \n",
       "7       2008           AL       13.9                 13.4   \n",
       "8       2008           AL       19.3                 18.3   \n",
       "9       2008           AL       25.0                 19.3   \n",
       "10      2008           AL        8.8                  5.4   \n",
       "11      2010           AL       16.0                 15.7   \n",
       "12      2010           AL       16.3                 15.8   \n",
       "13      2010           AL       15.8                 15.3   \n",
       "14      2010           AL       15.5                 15.0   \n",
       "\n",
       "   high_confidence_limit sample_size stratificationcategory1  \\\n",
       "0                   15.8       43287                   Total   \n",
       "1                   16.0       21912                  Gender   \n",
       "2                   15.8       21375                  Gender   \n",
       "3                   15.8       18219            Age (months)   \n",
       "4                   15.5       14796            Age (months)   \n",
       "5                   17.1       10272            Age (months)   \n",
       "6                   16.3       17833          Race/Ethnicity   \n",
       "7                   14.4       19170          Race/Ethnicity   \n",
       "8                   20.3        5731          Race/Ethnicity   \n",
       "9                   30.7         228          Race/Ethnicity   \n",
       "10                  12.2         273          Race/Ethnicity   \n",
       "11                  16.4       45753                   Total   \n",
       "12                  16.8       23112                  Gender   \n",
       "13                  16.2       22641                  Gender   \n",
       "14                  16.0       19294            Age (months)   \n",
       "\n",
       "                  stratification1  \n",
       "0                           Total  \n",
       "1                            Male  \n",
       "2                          Female  \n",
       "3                         24 - 35  \n",
       "4                         36 - 47  \n",
       "5                         48 - 59  \n",
       "6              Non-Hispanic White  \n",
       "7              Non-Hispanic Black  \n",
       "8                        Hispanic  \n",
       "9   American Indian/Alaska Native  \n",
       "10         Asian/Pacific Islander  \n",
       "11                          Total  \n",
       "12                           Male  \n",
       "13                         Female  \n",
       "14                        24 - 35  "
      ]
     },
     "execution_count": 7,
     "metadata": {},
     "output_type": "execute_result"
    }
   ],
   "source": [
    "data.head(15)"
   ]
  },
  {
   "cell_type": "markdown",
   "metadata": {},
   "source": [
    "**STEP 7: GET BASIC INFORMATION**  \n",
    "  \n",
    "**To get basic info from the dataset, we use .info()**"
   ]
  },
  {
   "cell_type": "code",
   "execution_count": 8,
   "metadata": {},
   "outputs": [
    {
     "name": "stdout",
     "output_type": "stream",
     "text": [
      "<class 'pandas.core.frame.DataFrame'>\n",
      "RangeIndex: 7344 entries, 0 to 7343\n",
      "Data columns (total 8 columns):\n",
      "yearstart                  7344 non-null object\n",
      "locationabbr               7344 non-null object\n",
      "data_value                 7153 non-null object\n",
      "low_confidence_limit       7153 non-null object\n",
      "high_confidence_limit      7153 non-null object\n",
      "sample_size                7153 non-null object\n",
      "stratificationcategory1    7344 non-null object\n",
      "stratification1            7344 non-null object\n",
      "dtypes: object(8)\n",
      "memory usage: 459.1+ KB\n"
     ]
    }
   ],
   "source": [
    "data.info()"
   ]
  },
  {
   "cell_type": "markdown",
   "metadata": {},
   "source": [
    "**STEP 8: SEE FURTHER DETAILS**  \n",
    "  \n",
    "**To get datatypes of each column, we can use .dtypes**  \n",
    "\n",
    "**To get more details about each column, we can use .describe()**  \n",
    "  \n",
    "The reason we only get data from 3 columns is because the rest have commas in them which need to be removed\n",
    "We can deal with this later while cleaning."
   ]
  },
  {
   "cell_type": "code",
   "execution_count": 9,
   "metadata": {},
   "outputs": [
    {
     "name": "stdout",
     "output_type": "stream",
     "text": [
      "yearstart                  object\n",
      "locationabbr               object\n",
      "data_value                 object\n",
      "low_confidence_limit       object\n",
      "high_confidence_limit      object\n",
      "sample_size                object\n",
      "stratificationcategory1    object\n",
      "stratification1            object\n",
      "dtype: object\n",
      "\n",
      "\n"
     ]
    },
    {
     "data": {
      "text/html": [
       "<table border=\"1\" class=\"dataframe\">\n",
       "  <thead>\n",
       "    <tr style=\"text-align: right;\">\n",
       "      <th></th>\n",
       "      <th>yearstart</th>\n",
       "      <th>locationabbr</th>\n",
       "      <th>data_value</th>\n",
       "      <th>low_confidence_limit</th>\n",
       "      <th>high_confidence_limit</th>\n",
       "      <th>sample_size</th>\n",
       "      <th>stratificationcategory1</th>\n",
       "      <th>stratification1</th>\n",
       "    </tr>\n",
       "  </thead>\n",
       "  <tbody>\n",
       "    <tr>\n",
       "      <th>count</th>\n",
       "      <td>7344</td>\n",
       "      <td>7344</td>\n",
       "      <td>7153</td>\n",
       "      <td>7153</td>\n",
       "      <td>7153</td>\n",
       "      <td>7153</td>\n",
       "      <td>7344</td>\n",
       "      <td>7344</td>\n",
       "    </tr>\n",
       "    <tr>\n",
       "      <th>unique</th>\n",
       "      <td>4</td>\n",
       "      <td>54</td>\n",
       "      <td>247</td>\n",
       "      <td>251</td>\n",
       "      <td>284</td>\n",
       "      <td>4190</td>\n",
       "      <td>4</td>\n",
       "      <td>15</td>\n",
       "    </tr>\n",
       "    <tr>\n",
       "      <th>top</th>\n",
       "      <td>2008</td>\n",
       "      <td>AZ</td>\n",
       "      <td>16.0</td>\n",
       "      <td>15.7</td>\n",
       "      <td>16.3</td>\n",
       "      <td>72</td>\n",
       "      <td>Race/Ethnicity</td>\n",
       "      <td>Non-Hispanic White</td>\n",
       "    </tr>\n",
       "    <tr>\n",
       "      <th>freq</th>\n",
       "      <td>1836</td>\n",
       "      <td>136</td>\n",
       "      <td>105</td>\n",
       "      <td>93</td>\n",
       "      <td>117</td>\n",
       "      <td>12</td>\n",
       "      <td>3240</td>\n",
       "      <td>648</td>\n",
       "    </tr>\n",
       "  </tbody>\n",
       "</table>"
      ],
      "text/plain": [
       "<IPython.core.display.HTML object>"
      ]
     },
     "metadata": {},
     "output_type": "display_data"
    }
   ],
   "source": [
    "print data.dtypes\n",
    "print \"\\n\"\n",
    "display(HTML(data.describe().to_html()))"
   ]
  },
  {
   "cell_type": "markdown",
   "metadata": {},
   "source": [
    "**STEP 6: COUNT NUMBER OF EMPTY VALUES IN COLUMN**  \n",
    "   \n",
    "**We can check the number of null values a column has by using .isnull().sum()**  \n",
    "  \n",
    "**For example, here, Climate has the most null values **  "
   ]
  },
  {
   "cell_type": "code",
   "execution_count": 10,
   "metadata": {},
   "outputs": [
    {
     "name": "stdout",
     "output_type": "stream",
     "text": [
      "yearstart                    0\n",
      "locationabbr                 0\n",
      "data_value                 191\n",
      "low_confidence_limit       191\n",
      "high_confidence_limit      191\n",
      "sample_size                191\n",
      "stratificationcategory1      0\n",
      "stratification1              0\n",
      "dtype: int64\n"
     ]
    }
   ],
   "source": [
    "print data.isnull().sum()"
   ]
  },
  {
   "cell_type": "markdown",
   "metadata": {},
   "source": [
    "**STEP 7: SEE NUMBER OF UNIQUE VALUES IN COLUMN**  \n",
    "  \n",
    "**It is useful to see the number of unique values in each column using .nunique()**  \n",
    "  \n",
    "**Here we see region and climate have a good number of unique values to order by, therefore we can group by these columns and make good visualizations**  "
   ]
  },
  {
   "cell_type": "code",
   "execution_count": 11,
   "metadata": {},
   "outputs": [
    {
     "name": "stdout",
     "output_type": "stream",
     "text": [
      "yearstart                     4\n",
      "locationabbr                 54\n",
      "data_value                  247\n",
      "low_confidence_limit        251\n",
      "high_confidence_limit       284\n",
      "sample_size                4190\n",
      "stratificationcategory1       4\n",
      "stratification1              15\n",
      "dtype: int64\n"
     ]
    }
   ],
   "source": [
    "print data.nunique()"
   ]
  },
  {
   "cell_type": "markdown",
   "metadata": {},
   "source": [
    "**STEP 9: NUMBER OF OCCURANCES OF EACH VALUE IN COLUMN**  \n",
    "  \n",
    "**A good way to visualize data of a column you wish to group by is to use .value_counts()**  \n",
    "  \n",
    "**It gives a clear picture of how many would be in each group etc.** "
   ]
  },
  {
   "cell_type": "code",
   "execution_count": 14,
   "metadata": {},
   "outputs": [
    {
     "name": "stdout",
     "output_type": "stream",
     "text": [
      "Race/Ethnicity    3240\n",
      "Age (months)      2160\n",
      "Gender            1296\n",
      "Total              648\n",
      "Name: stratificationcategory1, dtype: int64\n",
      "Non-Hispanic White               648\n",
      "Hispanic                         648\n",
      "Male                             648\n",
      "Total                            648\n",
      "Asian/Pacific Islander           648\n",
      "American Indian/Alaska Native    648\n",
      "Female                           648\n",
      "Non-Hispanic Black               648\n",
      "36 - 47                          432\n",
      "48 - 59                          432\n",
      "24 - 35                          432\n",
      "12 - 17                          216\n",
      "6 - 11                           216\n",
      "18 - 23                          216\n",
      "3 - 5                            216\n",
      "Name: stratification1, dtype: int64\n",
      "AZ    136\n",
      "MI    136\n",
      "VI    136\n",
      "VA    136\n",
      "LA    136\n",
      "SD    136\n",
      "SC    136\n",
      "CT    136\n",
      "CA    136\n",
      "CO    136\n",
      "FL    136\n",
      "MS    136\n",
      "MT    136\n",
      "MN    136\n",
      "AR    136\n",
      "Name: locationabbr, dtype: int64\n"
     ]
    }
   ],
   "source": [
    "stratifications = data.stratificationcategory1.value_counts()\n",
    "print stratifications\n",
    "stratifications1 = data.stratification1.value_counts()\n",
    "print stratifications1\n",
    "locations = data.locationabbr.value_counts()\n",
    "print locations.head(15)"
   ]
  },
  {
   "cell_type": "markdown",
   "metadata": {},
   "source": [
    "**STEP 10: CLEANING DATA**  \n",
    "  \n",
    "**To see more from the data it has to be cleaned. Cleaning data is usally unique to each dataset.**  \n",
    "\n",
    "**In this instance, we change column dtypes **"
   ]
  },
  {
   "cell_type": "code",
   "execution_count": 15,
   "metadata": {
    "collapsed": true
   },
   "outputs": [],
   "source": [
    "for i in data.columns:\n",
    "    if i== 'locationabbr' or i=='stratificationcategory1' or i=='stratification1':        \n",
    "        data[i] = data[i].str.strip().astype('category')\n",
    "    else:\n",
    "        data[i] = data[i].astype(float)"
   ]
  },
  {
   "cell_type": "markdown",
   "metadata": {},
   "source": [
    "**Now after cleaning, lets look at the new data types and the mean, std, min, max etc. of all the columns again**"
   ]
  },
  {
   "cell_type": "code",
   "execution_count": 16,
   "metadata": {},
   "outputs": [
    {
     "name": "stdout",
     "output_type": "stream",
     "text": [
      "yearstart                   float64\n",
      "locationabbr               category\n",
      "data_value                  float64\n",
      "low_confidence_limit        float64\n",
      "high_confidence_limit       float64\n",
      "sample_size                 float64\n",
      "stratificationcategory1    category\n",
      "stratification1            category\n",
      "dtype: object\n",
      "\n",
      "\n"
     ]
    },
    {
     "data": {
      "text/html": [
       "<table border=\"1\" class=\"dataframe\">\n",
       "  <thead>\n",
       "    <tr style=\"text-align: right;\">\n",
       "      <th></th>\n",
       "      <th>yearstart</th>\n",
       "      <th>data_value</th>\n",
       "      <th>low_confidence_limit</th>\n",
       "      <th>high_confidence_limit</th>\n",
       "      <th>sample_size</th>\n",
       "    </tr>\n",
       "  </thead>\n",
       "  <tbody>\n",
       "    <tr>\n",
       "      <th>count</th>\n",
       "      <td>7344.00000</td>\n",
       "      <td>7153.000000</td>\n",
       "      <td>7153.000000</td>\n",
       "      <td>7153.000000</td>\n",
       "      <td>7153.000000</td>\n",
       "    </tr>\n",
       "    <tr>\n",
       "      <th>mean</th>\n",
       "      <td>2011.00000</td>\n",
       "      <td>14.249490</td>\n",
       "      <td>12.872571</td>\n",
       "      <td>15.627387</td>\n",
       "      <td>19027.823571</td>\n",
       "    </tr>\n",
       "    <tr>\n",
       "      <th>std</th>\n",
       "      <td>2.23622</td>\n",
       "      <td>3.737871</td>\n",
       "      <td>4.065295</td>\n",
       "      <td>4.057627</td>\n",
       "      <td>41023.632114</td>\n",
       "    </tr>\n",
       "    <tr>\n",
       "      <th>min</th>\n",
       "      <td>2008.00000</td>\n",
       "      <td>1.500000</td>\n",
       "      <td>0.000000</td>\n",
       "      <td>3.700000</td>\n",
       "      <td>50.000000</td>\n",
       "    </tr>\n",
       "    <tr>\n",
       "      <th>25%</th>\n",
       "      <td>2009.50000</td>\n",
       "      <td>11.900000</td>\n",
       "      <td>10.500000</td>\n",
       "      <td>13.100000</td>\n",
       "      <td>1816.000000</td>\n",
       "    </tr>\n",
       "    <tr>\n",
       "      <th>50%</th>\n",
       "      <td>2011.00000</td>\n",
       "      <td>14.400000</td>\n",
       "      <td>13.300000</td>\n",
       "      <td>15.500000</td>\n",
       "      <td>7968.000000</td>\n",
       "    </tr>\n",
       "    <tr>\n",
       "      <th>75%</th>\n",
       "      <td>2012.50000</td>\n",
       "      <td>16.500000</td>\n",
       "      <td>15.600000</td>\n",
       "      <td>17.600000</td>\n",
       "      <td>20861.000000</td>\n",
       "    </tr>\n",
       "    <tr>\n",
       "      <th>max</th>\n",
       "      <td>2014.00000</td>\n",
       "      <td>36.100000</td>\n",
       "      <td>34.500000</td>\n",
       "      <td>37.700000</td>\n",
       "      <td>620016.000000</td>\n",
       "    </tr>\n",
       "  </tbody>\n",
       "</table>"
      ],
      "text/plain": [
       "<IPython.core.display.HTML object>"
      ]
     },
     "metadata": {},
     "output_type": "display_data"
    }
   ],
   "source": [
    "print data.dtypes\n",
    "print \"\\n\"\n",
    "display(HTML(data.describe().to_html()))"
   ]
  },
  {
   "cell_type": "markdown",
   "metadata": {},
   "source": [
    "**STEP 11: PLOT WHOLE DATESET**  \n",
    "  \n",
    "**Let us try to visualize all the data at once**  "
   ]
  },
  {
   "cell_type": "code",
   "execution_count": 17,
   "metadata": {},
   "outputs": [
    {
     "data": {
      "image/png": "[encoded data removed]",
      "text/plain": [
       "<matplotlib.figure.Figure at 0x112d650d0>"
      ]
     },
     "metadata": {},
     "output_type": "display_data"
    }
   ],
   "source": [
    "a = data.plot()\n",
    "plt.show()"
   ]
  },
  {
   "cell_type": "markdown",
   "metadata": {},
   "source": [
    "**STEP 12: REARRANGING DATA**  \n",
    "  \n",
    "**Given that the data we are using is structured differently. It would make sense to group data by the location and the startification.**\n",
    "**Therefore we create three new dataframes each with one value:low_confidence_limit, data_value, high_confidence_limit **\n",
    "**This makes it easier to visualize and analyze the data**"
   ]
  },
  {
   "cell_type": "code",
   "execution_count": 24,
   "metadata": {},
   "outputs": [
    {
     "name": "stdout",
     "output_type": "stream",
     "text": [
      "locationabbr  stratificationcategory1\n",
      "AK            Age (months)               15.872500\n",
      "              Gender                     17.254167\n",
      "              Race/Ethnicity             15.101667\n",
      "              Total                      17.666667\n",
      "AL            Age (months)               14.000000\n",
      "              Gender                     14.404167\n",
      "              Race/Ethnicity             12.921667\n",
      "              Total                      14.558333\n",
      "AR            Age (months)               11.882500\n",
      "              Gender                     13.275000\n",
      "              Race/Ethnicity             11.760000\n",
      "              Total                      13.441667\n",
      "AZ            Age (months)               13.897500\n",
      "              Gender                     14.558333\n",
      "              Race/Ethnicity             13.148333\n",
      "              Total                      14.675000\n",
      "CA            Age (months)               16.297500\n",
      "              Gender                     16.620833\n",
      "              Race/Ethnicity             14.066667\n",
      "              Total                      16.675000\n",
      "CO            Age (months)                9.150000\n",
      "              Gender                      9.720833\n",
      "              Race/Ethnicity              8.100000\n",
      "              Total                       9.858333\n",
      "CT            Age (months)               12.820000\n",
      "              Gender                     13.675000\n",
      "              Race/Ethnicity             10.470000\n",
      "              Total                      13.908333\n",
      "DC            Age (months)               10.807500\n",
      "              Gender                     12.179167\n",
      "                                           ...    \n",
      "UT            Race/Ethnicity             11.725000\n",
      "              Total                      10.900000\n",
      "VA            Age (months)               20.602500\n",
      "              Gender                     20.741667\n",
      "              Race/Ethnicity             18.776667\n",
      "              Total                      20.900000\n",
      "VI            Age (months)                9.191429\n",
      "              Gender                      9.870833\n",
      "              Race/Ethnicity             10.050000\n",
      "              Total                      10.533333\n",
      "VT            Age (months)               11.040000\n",
      "              Gender                     11.833333\n",
      "              Race/Ethnicity              7.877358\n",
      "              Total                      12.191667\n",
      "WA            Age (months)               14.255000\n",
      "              Gender                     14.612500\n",
      "              Race/Ethnicity             14.451667\n",
      "              Total                      14.725000\n",
      "WI            Age (months)               13.965000\n",
      "              Gender                     14.887500\n",
      "              Race/Ethnicity             15.683333\n",
      "              Total                      15.066667\n",
      "WV            Age (months)               11.880000\n",
      "              Gender                     12.645833\n",
      "              Race/Ethnicity              9.367241\n",
      "              Total                      12.883333\n",
      "WY            Age (months)                8.852500\n",
      "              Gender                      9.800000\n",
      "              Race/Ethnicity              8.072727\n",
      "              Total                      10.233333\n",
      "Name: low_confidence_limit, Length: 216, dtype: float64\n"
     ]
    },
    {
     "data": {
      "text/html": [
       "<table border=\"1\" class=\"dataframe\">\n",
       "  <thead>\n",
       "    <tr style=\"text-align: right;\">\n",
       "      <th>stratificationcategory1</th>\n",
       "      <th>Age (months)</th>\n",
       "      <th>Gender</th>\n",
       "      <th>Race/Ethnicity</th>\n",
       "      <th>Total</th>\n",
       "    </tr>\n",
       "    <tr>\n",
       "      <th>locationabbr</th>\n",
       "      <th></th>\n",
       "      <th></th>\n",
       "      <th></th>\n",
       "      <th></th>\n",
       "    </tr>\n",
       "  </thead>\n",
       "  <tbody>\n",
       "    <tr>\n",
       "      <th>AK</th>\n",
       "      <td>15.8725</td>\n",
       "      <td>17.254167</td>\n",
       "      <td>15.101667</td>\n",
       "      <td>17.666667</td>\n",
       "    </tr>\n",
       "    <tr>\n",
       "      <th>AL</th>\n",
       "      <td>14.0000</td>\n",
       "      <td>14.404167</td>\n",
       "      <td>12.921667</td>\n",
       "      <td>14.558333</td>\n",
       "    </tr>\n",
       "    <tr>\n",
       "      <th>AR</th>\n",
       "      <td>11.8825</td>\n",
       "      <td>13.275000</td>\n",
       "      <td>11.760000</td>\n",
       "      <td>13.441667</td>\n",
       "    </tr>\n",
       "    <tr>\n",
       "      <th>AZ</th>\n",
       "      <td>13.8975</td>\n",
       "      <td>14.558333</td>\n",
       "      <td>13.148333</td>\n",
       "      <td>14.675000</td>\n",
       "    </tr>\n",
       "    <tr>\n",
       "      <th>CA</th>\n",
       "      <td>16.2975</td>\n",
       "      <td>16.620833</td>\n",
       "      <td>14.066667</td>\n",
       "      <td>16.675000</td>\n",
       "    </tr>\n",
       "    <tr>\n",
       "      <th>CO</th>\n",
       "      <td>9.1500</td>\n",
       "      <td>9.720833</td>\n",
       "      <td>8.100000</td>\n",
       "      <td>9.858333</td>\n",
       "    </tr>\n",
       "    <tr>\n",
       "      <th>CT</th>\n",
       "      <td>12.8200</td>\n",
       "      <td>13.675000</td>\n",
       "      <td>10.470000</td>\n",
       "      <td>13.908333</td>\n",
       "    </tr>\n",
       "    <tr>\n",
       "      <th>DC</th>\n",
       "      <td>10.8075</td>\n",
       "      <td>12.179167</td>\n",
       "      <td>9.797826</td>\n",
       "      <td>12.600000</td>\n",
       "    </tr>\n",
       "    <tr>\n",
       "      <th>DE</th>\n",
       "      <td>13.7425</td>\n",
       "      <td>14.825000</td>\n",
       "      <td>12.033333</td>\n",
       "      <td>15.200000</td>\n",
       "    </tr>\n",
       "    <tr>\n",
       "      <th>FL</th>\n",
       "      <td>13.4400</td>\n",
       "      <td>13.766667</td>\n",
       "      <td>11.071667</td>\n",
       "      <td>13.850000</td>\n",
       "    </tr>\n",
       "    <tr>\n",
       "      <th>GA</th>\n",
       "      <td>13.0125</td>\n",
       "      <td>13.254167</td>\n",
       "      <td>12.328333</td>\n",
       "      <td>13.341667</td>\n",
       "    </tr>\n",
       "    <tr>\n",
       "      <th>GU</th>\n",
       "      <td>8.4800</td>\n",
       "      <td>9.429167</td>\n",
       "      <td>7.015789</td>\n",
       "      <td>9.941667</td>\n",
       "    </tr>\n",
       "    <tr>\n",
       "      <th>HI</th>\n",
       "      <td>10.4125</td>\n",
       "      <td>10.641667</td>\n",
       "      <td>7.532143</td>\n",
       "      <td>10.875000</td>\n",
       "    </tr>\n",
       "    <tr>\n",
       "      <th>IA</th>\n",
       "      <td>14.1900</td>\n",
       "      <td>14.716667</td>\n",
       "      <td>13.251667</td>\n",
       "      <td>14.916667</td>\n",
       "    </tr>\n",
       "    <tr>\n",
       "      <th>ID</th>\n",
       "      <td>10.7150</td>\n",
       "      <td>11.529167</td>\n",
       "      <td>11.360000</td>\n",
       "      <td>11.783333</td>\n",
       "    </tr>\n",
       "  </tbody>\n",
       "</table>"
      ],
      "text/plain": [
       "<IPython.core.display.HTML object>"
      ]
     },
     "metadata": {},
     "output_type": "display_data"
    }
   ],
   "source": [
    "grouped1 = data.groupby([\"locationabbr\",\"stratificationcategory1\"])\n",
    "new_data= grouped1['low_confidence_limit'].agg(np.mean)\n",
    "print new_data\n",
    "new_data = new_data.unstack(level=-1)\n",
    "display(HTML(new_data.head(15).to_html()))\n",
    "\n",
    "\n",
    "grouped3 = data.groupby([\"locationabbr\",\"stratificationcategory1\"])\n",
    "new_data3= grouped3['data_value'].agg(np.mean)\n",
    "data_rearranged = new_data3.unstack(level=-1)\n",
    "\n",
    "grouped2 = data.groupby([\"locationabbr\",\"stratificationcategory1\"])\n",
    "new_data2= grouped2['high_confidence_limit'].agg(np.mean)   \n",
    "new_data2 = new_data2.unstack(level=-1)"
   ]
  },
  {
   "cell_type": "markdown",
   "metadata": {},
   "source": [
    "**STEP 13: HEATMAP OF CORRELATION BETWEEN COLUMNS**  \n",
    "  \n",
    "**When two sets of data are strongly linked together we say they have a High Correlation. To see corr between all the columns, we use .corr()**"
   ]
  },
  {
   "cell_type": "code",
   "execution_count": 19,
   "metadata": {},
   "outputs": [
    {
     "data": {
      "image/png": "[encoded data removed]",
      "text/plain": [
       "<matplotlib.figure.Figure at 0x1175b9610>"
      ]
     },
     "metadata": {},
     "output_type": "display_data"
    }
   ],
   "source": [
    "f,ax = plt.subplots(figsize=(15, 13))\n",
    "sns.heatmap(data_rearranged.corr(), annot=True, ax=ax)\n",
    "plt.show()"
   ]
  },
  {
   "cell_type": "markdown",
   "metadata": {},
   "source": [
    "**STEP 14: COMPLEX VISUALIZATION**  \n",
    "  \n",
    "**Next we want to be able to make more complex visualizations to better understand code** \n",
    "  \n",
    "**To start with, lets use plotly.graph_objs to visualize data on a USA map.**  \n",
    "   \n",
    "This can be repeated for the other dataframes."
   ]
  },
  {
   "cell_type": "code",
   "execution_count": 20,
   "metadata": {},
   "outputs": [
    {
     "data": {
      "application/vnd.plotly.v1+json": {
       "data": [
        {
         "colorbar": {
          "tickmode": "array",
          "title": "Total Obesity Value"
         },
         "locationmode": "USA-states",
         "locations": [
          "AK",
          "AL",
          "AR",
          "AZ",
          "CA",
          "CO",
          "CT",
          "DC",
          "DE",
          "FL",
          "GA",
          "GU",
          "HI",
          "IA",
          "ID",
          "IL",
          "IN",
          "KS",
          "KY",
          "LA",
          "MA",
          "MD",
          "ME",
          "MI",
          "MN",
          "MO",
          "MS",
          "MT",
          "NC",
          "ND",
          "NE",
          "NH",
          "NJ",
          "NM",
          "NV",
          "NY",
          "OH",
          "OK",
          "OR",
          "PA",
          "PR",
          "RI",
          "SC",
          "SD",
          "TN",
          "TX",
          "UT",
          "VA",
          "VI",
          "VT",
          "WA",
          "WI",
          "WV",
          "WY"
         ],
         "text": [
          "AK",
          "AL",
          "AR",
          "AZ",
          "CA",
          "CO",
          "CT",
          "DC",
          "DE",
          "FL",
          "GA",
          "GU",
          "HI",
          "IA",
          "ID",
          "IL",
          "IN",
          "KS",
          "KY",
          "LA",
          "MA",
          "MD",
          "ME",
          "MI",
          "MN",
          "MO",
          "MS",
          "MT",
          "NC",
          "ND",
          "NE",
          "NH",
          "NJ",
          "NM",
          "NV",
          "NY",
          "OH",
          "OK",
          "OR",
          "PA",
          "PR",
          "RI",
          "SC",
          "SD",
          "TN",
          "TX",
          "UT",
          "VA",
          "VI",
          "VT",
          "WA",
          "WI",
          "WV",
          "WY"
         ],
         "type": "choropleth",
         "uid": "cda0af87-d21f-11e8-834c-9801a7b07cb3",
         "z": [
          18.566666666666666,
          14.875,
          13.875,
          14.991666666666667,
          16.78333333333333,
          10.183333333333332,
          14.425000000000002,
          13.608333333333336,
          16.116666666666664,
          14.016666666666666,
          13.550000000000002,
          11.166666666666666,
          11.416666666666666,
          15.358333333333333,
          12.274999999999999,
          14.324999999999998,
          14.616666666666669,
          14.041666666666666,
          15.35,
          15.091666666666669,
          16.450000000000003,
          15.941666666666668,
          14.466666666666663,
          14.225000000000001,
          13.408333333333333,
          13.991666666666667,
          15.766666666666666,
          12.858333333333333,
          13.450000000000001,
          14.750000000000002,
          15.966666666666667,
          15.208333333333334,
          16.408333333333335,
          13.225000000000001,
          13.558333333333335,
          14.975,
          13.599999999999996,
          14.533333333333337,
          14.749999999999998,
          13.383333333333331,
          15.758333333333333,
          16.141666666666666,
          13.658333333333331,
          16.858333333333334,
          14.774999999999999,
          16.241666666666667,
          11.316666666666668,
          21.291666666666664,
          12.16666666666667,
          13.058333333333332,
          15.008333333333335,
          15.399999999999999,
          13.41666666666667,
          11.241666666666665
         ]
        }
       ],
       "layout": {
        "geo": {
         "projection": {
          "type": "albers usa"
         }
        },
        "title": "Location Projections"
       }
      },
      "text/html": [
       "<div id=\"04b6b428-2634-4d0e-be51-aad2da996a6a\" style=\"height: 525px; width: 100%;\" class=\"plotly-graph-div\"></div><script type=\"text/javascript\">require([\"plotly\"], function(Plotly) { window.PLOTLYENV=window.PLOTLYENV || {};window.PLOTLYENV.BASE_URL=\"https://plot.ly\";Plotly.newPlot(\"04b6b428-2634-4d0e-be51-aad2da996a6a\", [{\"uid\": \"cdeab6e3-d21f-11e8-8aee-9801a7b07cb3\", \"text\": [\"AK\", \"AL\", \"AR\", \"AZ\", \"CA\", \"CO\", \"CT\", \"DC\", \"DE\", \"FL\", \"GA\", \"GU\", \"HI\", \"IA\", \"ID\", \"IL\", \"IN\", \"KS\", \"KY\", \"LA\", \"MA\", \"MD\", \"ME\", \"MI\", \"MN\", \"MO\", \"MS\", \"MT\", \"NC\", \"ND\", \"NE\", \"NH\", \"NJ\", \"NM\", \"NV\", \"NY\", \"OH\", \"OK\", \"OR\", \"PA\", \"PR\", \"RI\", \"SC\", \"SD\", \"TN\", \"TX\", \"UT\", \"VA\", \"VI\", \"VT\", \"WA\", \"WI\", \"WV\", \"WY\"], \"locations\": [\"AK\", \"AL\", \"AR\", \"AZ\", \"CA\", \"CO\", \"CT\", \"DC\", \"DE\", \"FL\", \"GA\", \"GU\", \"HI\", \"IA\", \"ID\", \"IL\", \"IN\", \"KS\", \"KY\", \"LA\", \"MA\", \"MD\", \"ME\", \"MI\", \"MN\", \"MO\", \"MS\", \"MT\", \"NC\", \"ND\", \"NE\", \"NH\", \"NJ\", \"NM\", \"NV\", \"NY\", \"OH\", \"OK\", \"OR\", \"PA\", \"PR\", \"RI\", \"SC\", \"SD\", \"TN\", \"TX\", \"UT\", \"VA\", \"VI\", \"VT\", \"WA\", \"WI\", \"WV\", \"WY\"], \"colorbar\": {\"tickmode\": \"array\", \"title\": \"Total Obesity Value\"}, \"locationmode\": \"USA-states\", \"z\": [18.566666666666666, 14.875, 13.875, 14.991666666666667, 16.78333333333333, 10.183333333333332, 14.425000000000002, 13.608333333333336, 16.116666666666664, 14.016666666666666, 13.550000000000002, 11.166666666666666, 11.416666666666666, 15.358333333333333, 12.274999999999999, 14.324999999999998, 14.616666666666669, 14.041666666666666, 15.35, 15.091666666666669, 16.450000000000003, 15.941666666666668, 14.466666666666663, 14.225000000000001, 13.408333333333333, 13.991666666666667, 15.766666666666666, 12.858333333333333, 13.450000000000001, 14.750000000000002, 15.966666666666667, 15.208333333333334, 16.408333333333335, 13.225000000000001, 13.558333333333335, 14.975, 13.599999999999996, 14.533333333333337, 14.749999999999998, 13.383333333333331, 15.758333333333333, 16.141666666666666, 13.658333333333331, 16.858333333333334, 14.774999999999999, 16.241666666666667, 11.316666666666668, 21.291666666666664, 12.16666666666667, 13.058333333333332, 15.008333333333335, 15.399999999999999, 13.41666666666667, 11.241666666666665], \"type\": \"choropleth\"}], {\"geo\": {\"projection\": {\"type\": \"albers usa\"}}, \"title\": \"Location Projections\"}, {\"linkText\": \"Export to plot.ly\", \"showLink\": true})});</script>"
      ],
      "text/vnd.plotly.v1+html": [
       "<div id=\"04b6b428-2634-4d0e-be51-aad2da996a6a\" style=\"height: 525px; width: 100%;\" class=\"plotly-graph-div\"></div><script type=\"text/javascript\">require([\"plotly\"], function(Plotly) { window.PLOTLYENV=window.PLOTLYENV || {};window.PLOTLYENV.BASE_URL=\"https://plot.ly\";Plotly.newPlot(\"04b6b428-2634-4d0e-be51-aad2da996a6a\", [{\"uid\": \"cdeab6e3-d21f-11e8-8aee-9801a7b07cb3\", \"text\": [\"AK\", \"AL\", \"AR\", \"AZ\", \"CA\", \"CO\", \"CT\", \"DC\", \"DE\", \"FL\", \"GA\", \"GU\", \"HI\", \"IA\", \"ID\", \"IL\", \"IN\", \"KS\", \"KY\", \"LA\", \"MA\", \"MD\", \"ME\", \"MI\", \"MN\", \"MO\", \"MS\", \"MT\", \"NC\", \"ND\", \"NE\", \"NH\", \"NJ\", \"NM\", \"NV\", \"NY\", \"OH\", \"OK\", \"OR\", \"PA\", \"PR\", \"RI\", \"SC\", \"SD\", \"TN\", \"TX\", \"UT\", \"VA\", \"VI\", \"VT\", \"WA\", \"WI\", \"WV\", \"WY\"], \"locations\": [\"AK\", \"AL\", \"AR\", \"AZ\", \"CA\", \"CO\", \"CT\", \"DC\", \"DE\", \"FL\", \"GA\", \"GU\", \"HI\", \"IA\", \"ID\", \"IL\", \"IN\", \"KS\", \"KY\", \"LA\", \"MA\", \"MD\", \"ME\", \"MI\", \"MN\", \"MO\", \"MS\", \"MT\", \"NC\", \"ND\", \"NE\", \"NH\", \"NJ\", \"NM\", \"NV\", \"NY\", \"OH\", \"OK\", \"OR\", \"PA\", \"PR\", \"RI\", \"SC\", \"SD\", \"TN\", \"TX\", \"UT\", \"VA\", \"VI\", \"VT\", \"WA\", \"WI\", \"WV\", \"WY\"], \"colorbar\": {\"tickmode\": \"array\", \"title\": \"Total Obesity Value\"}, \"locationmode\": \"USA-states\", \"z\": [18.566666666666666, 14.875, 13.875, 14.991666666666667, 16.78333333333333, 10.183333333333332, 14.425000000000002, 13.608333333333336, 16.116666666666664, 14.016666666666666, 13.550000000000002, 11.166666666666666, 11.416666666666666, 15.358333333333333, 12.274999999999999, 14.324999999999998, 14.616666666666669, 14.041666666666666, 15.35, 15.091666666666669, 16.450000000000003, 15.941666666666668, 14.466666666666663, 14.225000000000001, 13.408333333333333, 13.991666666666667, 15.766666666666666, 12.858333333333333, 13.450000000000001, 14.750000000000002, 15.966666666666667, 15.208333333333334, 16.408333333333335, 13.225000000000001, 13.558333333333335, 14.975, 13.599999999999996, 14.533333333333337, 14.749999999999998, 13.383333333333331, 15.758333333333333, 16.141666666666666, 13.658333333333331, 16.858333333333334, 14.774999999999999, 16.241666666666667, 11.316666666666668, 21.291666666666664, 12.16666666666667, 13.058333333333332, 15.008333333333335, 15.399999999999999, 13.41666666666667, 11.241666666666665], \"type\": \"choropleth\"}], {\"geo\": {\"projection\": {\"type\": \"albers usa\"}}, \"title\": \"Location Projections\"}, {\"linkText\": \"Export to plot.ly\", \"showLink\": true})});</script>"
      ]
     },
     "metadata": {},
     "output_type": "display_data"
    }
   ],
   "source": [
    "data2 = dict(\n",
    "        type='choropleth',\n",
    "        locations = list(data_rearranged.index),\n",
    "        z = data_rearranged.Total,\n",
    "        locationmode = 'USA-states',\n",
    "        text = list(data_rearranged.index),colorbar = {'title':'Total Obesity Value', 'tickmode' : 'array',},\n",
    "    )\n",
    "\n",
    "layout = dict(title='Location Projections',\n",
    "    geo = dict(projection={'type':'albers usa'}))\n",
    "    \n",
    "fig = dict( data=[data2], layout=layout )\n",
    "iplot( fig )"
   ]
  },
  {
   "cell_type": "markdown",
   "metadata": {},
   "source": [
    "**STEP 15: MORE VISUALIZATION**  \n",
    "  \n",
    "**Box plots are another good way to visualize data. Here, each of our new dataframes have similar data. It is convenient to be able to plot them next to each other. Once again we use plotly.graph_objs for this**"
   ]
  },
  {
   "cell_type": "code",
   "execution_count": 21,
   "metadata": {
    "scrolled": true
   },
   "outputs": [
    {
     "data": {
      "application/vnd.plotly.v1+json": {
       "data": [
        {
         "boxpoints": "all",
         "fillcolor": "rgba(255, 255, 255, 0.8)",
         "marker": {
          "color": "rgba(0, 255, 0, 0.8)"
         },
         "name": "low_confidence_limit",
         "pointpos": 0,
         "type": "box",
         "uid": "d43cecc7-d21f-11e8-8d9e-9801a7b07cb3",
         "y": [
          17.666666666666668,
          14.558333333333332,
          13.441666666666668,
          14.675000000000002,
          16.674999999999997,
          9.858333333333333,
          13.908333333333333,
          12.6,
          15.199999999999998,
          13.85,
          13.341666666666667,
          9.941666666666666,
          10.875,
          14.916666666666666,
          11.783333333333331,
          14.108333333333334,
          14.316666666666665,
          13.641666666666666,
          14.983333333333333,
          14.716666666666669,
          16.083333333333336,
          15.600000000000003,
          13.775,
          14.000000000000002,
          13.100000000000001,
          13.674999999999999,
          15.324999999999998,
          12.091666666666667,
          13.191666666666665,
          13.766666666666667,
          15.383333333333333,
          14.316666666666665,
          16.10833333333333,
          12.725,
          13.116666666666667,
          14.791666666666666,
          13.383333333333335,
          14.133333333333333,
          14.391666666666667,
          13.15,
          15.474999999999996,
          15.333333333333334,
          13.291666666666666,
          15.941666666666665,
          14.458333333333334,
          16.091666666666665,
          10.9,
          20.899999999999995,
          10.533333333333335,
          12.191666666666665,
          14.724999999999996,
          15.06666666666667,
          12.883333333333333,
          10.233333333333333
         ]
        },
        {
         "boxpoints": "all",
         "fillcolor": "rgba(255, 255, 255, 0.8)",
         "marker": {
          "color": "rgba(255, 0, 0, 0.8)"
         },
         "name": "data_value",
         "pointpos": 0,
         "type": "box",
         "uid": "d43ceee1-d21f-11e8-aa25-9801a7b07cb3",
         "y": [
          18.566666666666666,
          14.875,
          13.875,
          14.991666666666667,
          16.78333333333333,
          10.183333333333332,
          14.425000000000002,
          13.608333333333336,
          16.116666666666664,
          14.016666666666666,
          13.550000000000002,
          11.166666666666666,
          11.416666666666666,
          15.358333333333333,
          12.274999999999999,
          14.324999999999998,
          14.616666666666669,
          14.041666666666666,
          15.35,
          15.091666666666669,
          16.450000000000003,
          15.941666666666668,
          14.466666666666663,
          14.225000000000001,
          13.408333333333333,
          13.991666666666667,
          15.766666666666666,
          12.858333333333333,
          13.450000000000001,
          14.750000000000002,
          15.966666666666667,
          15.208333333333334,
          16.408333333333335,
          13.225000000000001,
          13.558333333333335,
          14.975,
          13.599999999999996,
          14.533333333333337,
          14.749999999999998,
          13.383333333333331,
          15.758333333333333,
          16.141666666666666,
          13.658333333333331,
          16.858333333333334,
          14.774999999999999,
          16.241666666666667,
          11.316666666666668,
          21.291666666666664,
          12.16666666666667,
          13.058333333333332,
          15.008333333333335,
          15.399999999999999,
          13.41666666666667,
          11.241666666666665
         ]
        },
        {
         "boxpoints": "all",
         "fillcolor": "rgba(255, 255, 255, 0.8)",
         "marker": {
          "color": "rgba(0, 0, 255, 0.8)"
         },
         "name": "high_confidence_limit",
         "pointpos": 0,
         "type": "box",
         "uid": "d43cf017-d21f-11e8-86f2-9801a7b07cb3",
         "y": [
          19.483333333333334,
          15.225000000000003,
          14.291666666666664,
          15.299999999999999,
          16.89166666666667,
          10.491666666666665,
          14.941666666666668,
          14.641666666666667,
          16.999999999999996,
          14.200000000000001,
          13.766666666666666,
          12.408333333333331,
          11.958333333333334,
          15.775,
          12.816666666666665,
          14.549999999999999,
          14.933333333333335,
          14.450000000000003,
          15.725,
          15.458333333333334,
          16.80833333333333,
          16.316666666666666,
          15.183333333333335,
          14.474999999999996,
          13.716666666666667,
          14.316666666666665,
          16.183333333333334,
          13.600000000000001,
          13.683333333333332,
          15.741666666666667,
          16.558333333333334,
          16.108333333333338,
          16.741666666666664,
          13.691666666666668,
          14.000000000000002,
          15.158333333333333,
          13.816666666666665,
          14.941666666666665,
          15.108333333333334,
          13.625,
          16.016666666666666,
          16.974999999999998,
          14.049999999999999,
          17.783333333333335,
          15.1,
          16.39166666666667,
          11.708333333333334,
          21.666666666666668,
          13.808333333333335,
          13.924999999999999,
          15.266666666666667,
          15.791666666666666,
          13.950000000000001,
          12.225000000000001
         ]
        }
       ],
       "layout": {}
      },
      "text/html": [
       "<div id=\"b10deb2e-1fc2-4eee-86ba-a7ed4a21d327\" style=\"height: 525px; width: 100%;\" class=\"plotly-graph-div\"></div><script type=\"text/javascript\">require([\"plotly\"], function(Plotly) { window.PLOTLYENV=window.PLOTLYENV || {};window.PLOTLYENV.BASE_URL=\"https://plot.ly\";Plotly.newPlot(\"b10deb2e-1fc2-4eee-86ba-a7ed4a21d327\", [{\"name\": \"low_confidence_limit\", \"pointpos\": 0, \"marker\": {\"color\": \"rgba(0, 255, 0, 0.8)\"}, \"fillcolor\": \"rgba(255, 255, 255, 0.8)\", \"y\": [17.666666666666668, 14.558333333333332, 13.441666666666668, 14.675000000000002, 16.674999999999997, 9.858333333333333, 13.908333333333333, 12.6, 15.199999999999998, 13.85, 13.341666666666667, 9.941666666666666, 10.875, 14.916666666666666, 11.783333333333331, 14.108333333333334, 14.316666666666665, 13.641666666666666, 14.983333333333333, 14.716666666666669, 16.083333333333336, 15.600000000000003, 13.775, 14.000000000000002, 13.100000000000001, 13.674999999999999, 15.324999999999998, 12.091666666666667, 13.191666666666665, 13.766666666666667, 15.383333333333333, 14.316666666666665, 16.10833333333333, 12.725, 13.116666666666667, 14.791666666666666, 13.383333333333335, 14.133333333333333, 14.391666666666667, 13.15, 15.474999999999996, 15.333333333333334, 13.291666666666666, 15.941666666666665, 14.458333333333334, 16.091666666666665, 10.9, 20.899999999999995, 10.533333333333335, 12.191666666666665, 14.724999999999996, 15.06666666666667, 12.883333333333333, 10.233333333333333], \"boxpoints\": \"all\", \"type\": \"box\", \"uid\": \"d43cecc7-d21f-11e8-8d9e-9801a7b07cb3\"}, {\"name\": \"data_value\", \"pointpos\": 0, \"marker\": {\"color\": \"rgba(255, 0, 0, 0.8)\"}, \"fillcolor\": \"rgba(255, 255, 255, 0.8)\", \"y\": [18.566666666666666, 14.875, 13.875, 14.991666666666667, 16.78333333333333, 10.183333333333332, 14.425000000000002, 13.608333333333336, 16.116666666666664, 14.016666666666666, 13.550000000000002, 11.166666666666666, 11.416666666666666, 15.358333333333333, 12.274999999999999, 14.324999999999998, 14.616666666666669, 14.041666666666666, 15.35, 15.091666666666669, 16.450000000000003, 15.941666666666668, 14.466666666666663, 14.225000000000001, 13.408333333333333, 13.991666666666667, 15.766666666666666, 12.858333333333333, 13.450000000000001, 14.750000000000002, 15.966666666666667, 15.208333333333334, 16.408333333333335, 13.225000000000001, 13.558333333333335, 14.975, 13.599999999999996, 14.533333333333337, 14.749999999999998, 13.383333333333331, 15.758333333333333, 16.141666666666666, 13.658333333333331, 16.858333333333334, 14.774999999999999, 16.241666666666667, 11.316666666666668, 21.291666666666664, 12.16666666666667, 13.058333333333332, 15.008333333333335, 15.399999999999999, 13.41666666666667, 11.241666666666665], \"boxpoints\": \"all\", \"type\": \"box\", \"uid\": \"d43ceee1-d21f-11e8-aa25-9801a7b07cb3\"}, {\"name\": \"high_confidence_limit\", \"pointpos\": 0, \"marker\": {\"color\": \"rgba(0, 0, 255, 0.8)\"}, \"fillcolor\": \"rgba(255, 255, 255, 0.8)\", \"y\": [19.483333333333334, 15.225000000000003, 14.291666666666664, 15.299999999999999, 16.89166666666667, 10.491666666666665, 14.941666666666668, 14.641666666666667, 16.999999999999996, 14.200000000000001, 13.766666666666666, 12.408333333333331, 11.958333333333334, 15.775, 12.816666666666665, 14.549999999999999, 14.933333333333335, 14.450000000000003, 15.725, 15.458333333333334, 16.80833333333333, 16.316666666666666, 15.183333333333335, 14.474999999999996, 13.716666666666667, 14.316666666666665, 16.183333333333334, 13.600000000000001, 13.683333333333332, 15.741666666666667, 16.558333333333334, 16.108333333333338, 16.741666666666664, 13.691666666666668, 14.000000000000002, 15.158333333333333, 13.816666666666665, 14.941666666666665, 15.108333333333334, 13.625, 16.016666666666666, 16.974999999999998, 14.049999999999999, 17.783333333333335, 15.1, 16.39166666666667, 11.708333333333334, 21.666666666666668, 13.808333333333335, 13.924999999999999, 15.266666666666667, 15.791666666666666, 13.950000000000001, 12.225000000000001], \"boxpoints\": \"all\", \"type\": \"box\", \"uid\": \"d43cf017-d21f-11e8-86f2-9801a7b07cb3\"}], {}, {\"linkText\": \"Export to plot.ly\", \"showLink\": true})});</script>"
      ],
      "text/vnd.plotly.v1+html": [
       "<div id=\"b10deb2e-1fc2-4eee-86ba-a7ed4a21d327\" style=\"height: 525px; width: 100%;\" class=\"plotly-graph-div\"></div><script type=\"text/javascript\">require([\"plotly\"], function(Plotly) { window.PLOTLYENV=window.PLOTLYENV || {};window.PLOTLYENV.BASE_URL=\"https://plot.ly\";Plotly.newPlot(\"b10deb2e-1fc2-4eee-86ba-a7ed4a21d327\", [{\"name\": \"low_confidence_limit\", \"pointpos\": 0, \"marker\": {\"color\": \"rgba(0, 255, 0, 0.8)\"}, \"fillcolor\": \"rgba(255, 255, 255, 0.8)\", \"y\": [17.666666666666668, 14.558333333333332, 13.441666666666668, 14.675000000000002, 16.674999999999997, 9.858333333333333, 13.908333333333333, 12.6, 15.199999999999998, 13.85, 13.341666666666667, 9.941666666666666, 10.875, 14.916666666666666, 11.783333333333331, 14.108333333333334, 14.316666666666665, 13.641666666666666, 14.983333333333333, 14.716666666666669, 16.083333333333336, 15.600000000000003, 13.775, 14.000000000000002, 13.100000000000001, 13.674999999999999, 15.324999999999998, 12.091666666666667, 13.191666666666665, 13.766666666666667, 15.383333333333333, 14.316666666666665, 16.10833333333333, 12.725, 13.116666666666667, 14.791666666666666, 13.383333333333335, 14.133333333333333, 14.391666666666667, 13.15, 15.474999999999996, 15.333333333333334, 13.291666666666666, 15.941666666666665, 14.458333333333334, 16.091666666666665, 10.9, 20.899999999999995, 10.533333333333335, 12.191666666666665, 14.724999999999996, 15.06666666666667, 12.883333333333333, 10.233333333333333], \"boxpoints\": \"all\", \"type\": \"box\", \"uid\": \"d43cecc7-d21f-11e8-8d9e-9801a7b07cb3\"}, {\"name\": \"data_value\", \"pointpos\": 0, \"marker\": {\"color\": \"rgba(255, 0, 0, 0.8)\"}, \"fillcolor\": \"rgba(255, 255, 255, 0.8)\", \"y\": [18.566666666666666, 14.875, 13.875, 14.991666666666667, 16.78333333333333, 10.183333333333332, 14.425000000000002, 13.608333333333336, 16.116666666666664, 14.016666666666666, 13.550000000000002, 11.166666666666666, 11.416666666666666, 15.358333333333333, 12.274999999999999, 14.324999999999998, 14.616666666666669, 14.041666666666666, 15.35, 15.091666666666669, 16.450000000000003, 15.941666666666668, 14.466666666666663, 14.225000000000001, 13.408333333333333, 13.991666666666667, 15.766666666666666, 12.858333333333333, 13.450000000000001, 14.750000000000002, 15.966666666666667, 15.208333333333334, 16.408333333333335, 13.225000000000001, 13.558333333333335, 14.975, 13.599999999999996, 14.533333333333337, 14.749999999999998, 13.383333333333331, 15.758333333333333, 16.141666666666666, 13.658333333333331, 16.858333333333334, 14.774999999999999, 16.241666666666667, 11.316666666666668, 21.291666666666664, 12.16666666666667, 13.058333333333332, 15.008333333333335, 15.399999999999999, 13.41666666666667, 11.241666666666665], \"boxpoints\": \"all\", \"type\": \"box\", \"uid\": \"d43ceee1-d21f-11e8-aa25-9801a7b07cb3\"}, {\"name\": \"high_confidence_limit\", \"pointpos\": 0, \"marker\": {\"color\": \"rgba(0, 0, 255, 0.8)\"}, \"fillcolor\": \"rgba(255, 255, 255, 0.8)\", \"y\": [19.483333333333334, 15.225000000000003, 14.291666666666664, 15.299999999999999, 16.89166666666667, 10.491666666666665, 14.941666666666668, 14.641666666666667, 16.999999999999996, 14.200000000000001, 13.766666666666666, 12.408333333333331, 11.958333333333334, 15.775, 12.816666666666665, 14.549999999999999, 14.933333333333335, 14.450000000000003, 15.725, 15.458333333333334, 16.80833333333333, 16.316666666666666, 15.183333333333335, 14.474999999999996, 13.716666666666667, 14.316666666666665, 16.183333333333334, 13.600000000000001, 13.683333333333332, 15.741666666666667, 16.558333333333334, 16.108333333333338, 16.741666666666664, 13.691666666666668, 14.000000000000002, 15.158333333333333, 13.816666666666665, 14.941666666666665, 15.108333333333334, 13.625, 16.016666666666666, 16.974999999999998, 14.049999999999999, 17.783333333333335, 15.1, 16.39166666666667, 11.708333333333334, 21.666666666666668, 13.808333333333335, 13.924999999999999, 15.266666666666667, 15.791666666666666, 13.950000000000001, 12.225000000000001], \"boxpoints\": \"all\", \"type\": \"box\", \"uid\": \"d43cf017-d21f-11e8-86f2-9801a7b07cb3\"}], {}, {\"linkText\": \"Export to plot.ly\", \"showLink\": true})});</script>"
      ]
     },
     "metadata": {},
     "output_type": "display_data"
    }
   ],
   "source": [
    "trace0 = go.Box(\n",
    "    y = new_data.Total,\n",
    "    name = \"low_confidence_limit\",\n",
    "    boxpoints='all',\n",
    "    pointpos=0,\n",
    "    fillcolor='rgba(255, 255, 255, 0.8)',\n",
    "    marker = dict(color = 'rgba(0, 255, 0, 0.8)')\n",
    "    )\n",
    "\n",
    "trace1 = go.Box(\n",
    "    y = data_rearranged.Total,\n",
    "    boxpoints='all',\n",
    "    name = \"data_value\",\n",
    "    pointpos=0,\n",
    "    fillcolor='rgba(255, 255, 255, 0.8)',\n",
    "    marker = dict(color = 'rgba(255, 0, 0, 0.8)')\n",
    "    )\n",
    "\n",
    "trace2 = go.Box(\n",
    "    y = new_data2.Total,\n",
    "    boxpoints='all',\n",
    "    name = \"high_confidence_limit\",\n",
    "    pointpos=0,\n",
    "    fillcolor='rgba(255, 255, 255, 0.8)',\n",
    "    marker = dict(color = 'rgba(0, 0, 255, 0.8)')\n",
    "    )\n",
    "\n",
    "plotdata = go.Figure(data = [trace0,trace1,trace2])\n",
    "iplot(plotdata)"
   ]
  },
  {
   "cell_type": "code",
   "execution_count": null,
   "metadata": {
    "collapsed": true
   },
   "outputs": [],
   "source": []
  },
  {
   "cell_type": "code",
   "execution_count": null,
   "metadata": {
    "collapsed": true
   },
   "outputs": [],
   "source": []
  }
 ],
 "metadata": {
  "kernelspec": {
   "display_name": "Python 2",
   "language": "python",
   "name": "python2"
  },
  "language_info": {
   "codemirror_mode": {
    "name": "ipython",
    "version": 2
   },
   "file_extension": ".py",
   "mimetype": "text/x-python",
   "name": "python",
   "nbconvert_exporter": "python",
   "pygments_lexer": "ipython2",
   "version": "2.7.15"
  }
 },
 "nbformat": 4,
 "nbformat_minor": 2
}
