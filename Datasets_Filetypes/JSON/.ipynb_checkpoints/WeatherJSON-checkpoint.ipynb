{
 "cells": [
  {
   "cell_type": "code",
   "execution_count": 1,
   "metadata": {},
   "outputs": [],
   "source": [
    "import urllib, json\n",
    "from pandas.io.json import json_normalize\n",
    "import pandas as pd\n",
    "from IPython.display import display, HTML"
   ]
  },
  {
   "cell_type": "code",
   "execution_count": 2,
   "metadata": {},
   "outputs": [
    {
     "name": "stdout",
     "output_type": "stream",
     "text": [
      "{u'clouds': {u'all': 90}, u'name': u'Champaign County', u'visibility': 16093, u'sys': {u'country': u'US', u'sunset': 1541112555, u'message': 0.1293, u'type': 1, u'id': 1003, u'sunrise': 1541074972}, u'weather': [{u'main': u'Rain', u'id': 500, u'icon': u'10d', u'description': u'light rain'}], u'coord': {u'lat': 40.13, u'lon': -88.2}, u'base': u'stations', u'rain': {u'1h': 0.89}, u'dt': 1541086500, u'main': {u'pressure': 1008, u'temp_min': 279.25, u'temp_max': 280.65, u'temp': 279.91, u'humidity': 95}, u'id': 4887163, u'wind': {u'gust': 11.8, u'speed': 7.7, u'deg': 70}, u'cod': 200}\n"
     ]
    }
   ],
   "source": [
    "url = \"http://api.openweathermap.org/data/2.5/weather?id=4887163&APPID=bdffb5bed7c33de5c744c395edfd4b95\"\n",
    "response = urllib.urlopen(url)\n",
    "data = json.loads(response.read())\n",
    "print data"
   ]
  },
  {
   "cell_type": "code",
   "execution_count": 34,
   "metadata": {},
   "outputs": [],
   "source": [
    "def get_row(url):\n",
    "    #url = \"http://api.openweathermap.org/data/2.5/weather?id=4887163&APPID=bdffb5bed7c33de5c744c395edfd4b95\"\n",
    "    response = urllib.urlopen(url)\n",
    "    data = json.loads(response.read())\n",
    "    columns = []\n",
    "    data_list = []\n",
    "    for key in data:\n",
    "        #print key+'---->'\n",
    "        value1= data[key]\n",
    "        if isinstance(value1,dict):\n",
    "            for key2 in value1:\n",
    "                #print key2+'---->'\n",
    "                columns.append(key2)\n",
    "                data_list.append(value1[key2])\n",
    "                #print columns\n",
    "                #print value1[key2]\n",
    "\n",
    "        elif isinstance(value1,list):\n",
    "            for key2 in value1:\n",
    "                #print key2\n",
    "                if isinstance(key2,dict):\n",
    "                    for key3 in key2:\n",
    "                        #print key3+'---->'\n",
    "                        columns.append(key3)\n",
    "                        data_list.append(key2[key3])\n",
    "                        #print columns\n",
    "                        #print key2[key3]\n",
    "        else:\n",
    "            columns.append(key)\n",
    "            data_list.append(value1)\n",
    "            #print columns\n",
    "            #print value1\n",
    "\n",
    "    return columns,data_list\n",
    "\n",
    "#df = pd.DataFrame(data_list)\n",
    "#df.head()"
   ]
  },
  {
   "cell_type": "code",
   "execution_count": 42,
   "metadata": {},
   "outputs": [
    {
     "name": "stdout",
     "output_type": "stream",
     "text": [
      "[u'all', u'name', u'visibility', u'country', u'sunset', u'message', u'type', u'id', u'sunrise', u'main', u'id', u'icon', u'description', u'main', u'id', u'icon', u'description', u'lat', u'lon', u'base', u'1h', u'dt', u'pressure', u'temp_min', u'temp_max', u'temp', u'humidity', u'id', u'gust', u'speed', u'deg', u'cod'] [90, u'Champaign', 16093, u'US', 1541112563, 0.0035, 1, 1003, 1541074984, u'Rain', 500, u'10d', u'light rain', u'Drizzle', 300, u'09d', u'light intensity drizzle', 40.12, -88.24, u'stations', 0.25, 1541090100, 1008, 279.25, 280.95, 280.2, 89, 4887158, 12.9, 10.3, 70, 200]\n",
      "32\n",
      "32\n"
     ]
    }
   ],
   "source": [
    "col,row= get_row(\"http://api.openweathermap.org/data/2.5/weather?q=Champaign&APPID=bdffb5bed7c33de5c744c395edfd4b95\")\n",
    "print col,row\n",
    "print len(col)\n",
    "print len(row)"
   ]
  },
  {
   "cell_type": "code",
   "execution_count": 43,
   "metadata": {},
   "outputs": [
    {
     "name": "stdout",
     "output_type": "stream",
     "text": [
      "[u'all', u'name', u'visibility', u'country', u'sunset', u'message', u'type', u'id', u'sunrise', u'main', u'id', u'icon', u'description', u'lat', u'lon', u'base', u'dt', u'pressure', u'temp_min', u'temp_max', u'temp', u'humidity', u'id', u'speed', u'deg', u'cod'] [90, u'London', 10000, u'GB', 1541089941, 0.005, 1, 5091, 1541055301, u'Rain', 521, u'09d', u'shower rain', 51.51, -0.13, u'stations', 1541089200, 1007, 281.15, 283.15, 282.25, 87, 2643743, 5.1, 300, 200]\n",
      "26\n",
      "26\n"
     ]
    }
   ],
   "source": [
    "data_list = []\n",
    "city_list = ['Champaign', 'London', 'Bangkok', 'Chicago', 'Dubai', 'Paris']\n",
    "for city_name in city_list:\n",
    "    col,row2= get_row(\"http://api.openweathermap.org/data/2.5/weather?q=\"+city_name+\"&APPID=bdffb5bed7c33de5c744c395edfd4b95\")\n",
    "    data_list.append(row2)\n",
    "    if col#CHECK IF PREVIOUS COLUMN IS LARGER THAN ANOTHER COLUMN, THEN SET LARGER COLUMN\n",
    "    #col2,row2= get_row(\"http://api.openweathermap.org/data/2.5/weather?q=London&APPID=bdffb5bed7c33de5c744c395edfd4b95\")\n",
    "print col2,row2\n",
    "print len(col2)\n",
    "print len(row2)"
   ]
  },
  {
   "cell_type": "code",
   "execution_count": 48,
   "metadata": {},
   "outputs": [
    {
     "data": {
      "text/html": [
       "<div>\n",
       "<style scoped>\n",
       "    .dataframe tbody tr th:only-of-type {\n",
       "        vertical-align: middle;\n",
       "    }\n",
       "\n",
       "    .dataframe tbody tr th {\n",
       "        vertical-align: top;\n",
       "    }\n",
       "\n",
       "    .dataframe thead th {\n",
       "        text-align: right;\n",
       "    }\n",
       "</style>\n",
       "<table border=\"1\" class=\"dataframe\">\n",
       "  <thead>\n",
       "    <tr style=\"text-align: right;\">\n",
       "      <th></th>\n",
       "      <th>all</th>\n",
       "      <th>name</th>\n",
       "      <th>visibility</th>\n",
       "      <th>country</th>\n",
       "      <th>sunset</th>\n",
       "      <th>message</th>\n",
       "      <th>type</th>\n",
       "      <th>id</th>\n",
       "      <th>sunrise</th>\n",
       "      <th>main</th>\n",
       "      <th>...</th>\n",
       "      <th>pressure</th>\n",
       "      <th>temp_min</th>\n",
       "      <th>temp_max</th>\n",
       "      <th>temp</th>\n",
       "      <th>humidity</th>\n",
       "      <th>id</th>\n",
       "      <th>gust</th>\n",
       "      <th>speed</th>\n",
       "      <th>deg</th>\n",
       "      <th>cod</th>\n",
       "    </tr>\n",
       "  </thead>\n",
       "  <tbody>\n",
       "    <tr>\n",
       "      <th>0</th>\n",
       "      <td>90</td>\n",
       "      <td>Champaign</td>\n",
       "      <td>16093</td>\n",
       "      <td>US</td>\n",
       "      <td>1541112563</td>\n",
       "      <td>0.0035</td>\n",
       "      <td>1</td>\n",
       "      <td>1003</td>\n",
       "      <td>1541074984</td>\n",
       "      <td>Rain</td>\n",
       "      <td>...</td>\n",
       "      <td>1008</td>\n",
       "      <td>279.25</td>\n",
       "      <td>280.95</td>\n",
       "      <td>280.2</td>\n",
       "      <td>89.0</td>\n",
       "      <td>4887158.0</td>\n",
       "      <td>12.9</td>\n",
       "      <td>10.3</td>\n",
       "      <td>70.0</td>\n",
       "      <td>200.0</td>\n",
       "    </tr>\n",
       "    <tr>\n",
       "      <th>1</th>\n",
       "      <td>90</td>\n",
       "      <td>London</td>\n",
       "      <td>10000</td>\n",
       "      <td>GB</td>\n",
       "      <td>1541089941</td>\n",
       "      <td>0.0050</td>\n",
       "      <td>1</td>\n",
       "      <td>5091</td>\n",
       "      <td>1541055301</td>\n",
       "      <td>Rain</td>\n",
       "      <td>...</td>\n",
       "      <td>2643743</td>\n",
       "      <td>5.10</td>\n",
       "      <td>300.00</td>\n",
       "      <td>200.0</td>\n",
       "      <td>NaN</td>\n",
       "      <td>NaN</td>\n",
       "      <td>NaN</td>\n",
       "      <td>NaN</td>\n",
       "      <td>NaN</td>\n",
       "      <td>NaN</td>\n",
       "    </tr>\n",
       "  </tbody>\n",
       "</table>\n",
       "<p>2 rows × 32 columns</p>\n",
       "</div>"
      ],
      "text/plain": [
       "   all       name  visibility country      sunset  message  type    id  \\\n",
       "0   90  Champaign       16093      US  1541112563   0.0035     1  1003   \n",
       "1   90     London       10000      GB  1541089941   0.0050     1  5091   \n",
       "\n",
       "      sunrise  main  ...    pressure temp_min temp_max   temp  humidity  \\\n",
       "0  1541074984  Rain  ...        1008   279.25   280.95  280.2      89.0   \n",
       "1  1541055301  Rain  ...     2643743     5.10   300.00  200.0       NaN   \n",
       "\n",
       "          id  gust  speed   deg    cod  \n",
       "0  4887158.0  12.9   10.3  70.0  200.0  \n",
       "1        NaN   NaN    NaN   NaN    NaN  \n",
       "\n",
       "[2 rows x 32 columns]"
      ]
     },
     "execution_count": 48,
     "metadata": {},
     "output_type": "execute_result"
    }
   ],
   "source": [
    "data_list = [row,row2]\n",
    "df = pd.DataFrame(data_list, columns = col)\n",
    "df.head()"
   ]
  },
  {
   "cell_type": "code",
   "execution_count": 4,
   "metadata": {},
   "outputs": [
    {
     "data": {
      "text/html": [
       "<table border=\"1\" class=\"dataframe\">\n",
       "  <thead>\n",
       "    <tr style=\"text-align: right;\">\n",
       "      <th></th>\n",
       "      <th>base</th>\n",
       "      <th>clouds.all</th>\n",
       "      <th>cod</th>\n",
       "      <th>coord.lat</th>\n",
       "      <th>coord.lon</th>\n",
       "      <th>dt</th>\n",
       "      <th>id</th>\n",
       "      <th>main.humidity</th>\n",
       "      <th>main.pressure</th>\n",
       "      <th>main.temp</th>\n",
       "      <th>main.temp_max</th>\n",
       "      <th>main.temp_min</th>\n",
       "      <th>name</th>\n",
       "      <th>sys.country</th>\n",
       "      <th>sys.id</th>\n",
       "      <th>sys.message</th>\n",
       "      <th>sys.sunrise</th>\n",
       "      <th>sys.sunset</th>\n",
       "      <th>sys.type</th>\n",
       "      <th>visibility</th>\n",
       "      <th>weather</th>\n",
       "      <th>wind.deg</th>\n",
       "      <th>wind.speed</th>\n",
       "    </tr>\n",
       "  </thead>\n",
       "  <tbody>\n",
       "    <tr>\n",
       "      <th>0</th>\n",
       "      <td>stations</td>\n",
       "      <td>90</td>\n",
       "      <td>200</td>\n",
       "      <td>40.13</td>\n",
       "      <td>-88.2</td>\n",
       "      <td>1541004900</td>\n",
       "      <td>4887163</td>\n",
       "      <td>92</td>\n",
       "      <td>1014</td>\n",
       "      <td>284.5</td>\n",
       "      <td>284.85</td>\n",
       "      <td>284.25</td>\n",
       "      <td>Champaign County</td>\n",
       "      <td>US</td>\n",
       "      <td>960</td>\n",
       "      <td>0.0035</td>\n",
       "      <td>1540988509</td>\n",
       "      <td>1541026221</td>\n",
       "      <td>1</td>\n",
       "      <td>8047</td>\n",
       "      <td>[{u'description': u'mist', u'main': u'Mist', u...</td>\n",
       "      <td>10</td>\n",
       "      <td>5.1</td>\n",
       "    </tr>\n",
       "  </tbody>\n",
       "</table>"
      ],
      "text/plain": [
       "<IPython.core.display.HTML object>"
      ]
     },
     "metadata": {},
     "output_type": "display_data"
    }
   ],
   "source": [
    "df = pd.DataFrame.from_dict(json_normalize(data), orient='columns')\n",
    "display(HTML(df.to_html()))"
   ]
  },
  {
   "cell_type": "code",
   "execution_count": null,
   "metadata": {},
   "outputs": [],
   "source": []
  }
 ],
 "metadata": {
  "kernelspec": {
   "display_name": "Python 2",
   "language": "python",
   "name": "python2"
  },
  "language_info": {
   "codemirror_mode": {
    "name": "ipython",
    "version": 2
   },
   "file_extension": ".py",
   "mimetype": "text/x-python",
   "name": "python",
   "nbconvert_exporter": "python",
   "pygments_lexer": "ipython2",
   "version": "2.7.15"
  }
 },
 "nbformat": 4,
 "nbformat_minor": 2
}
