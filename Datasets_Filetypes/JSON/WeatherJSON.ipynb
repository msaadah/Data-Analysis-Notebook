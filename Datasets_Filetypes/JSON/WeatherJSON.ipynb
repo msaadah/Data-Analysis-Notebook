{
 "cells": [
  {
   "cell_type": "code",
   "execution_count": 1,
   "metadata": {},
   "outputs": [],
   "source": [
    "import urllib, json\n",
    "from pandas.io.json import json_normalize\n",
    "import pandas as pd\n",
    "from IPython.display import display, HTML"
   ]
  },
  {
   "cell_type": "code",
   "execution_count": 2,
   "metadata": {},
   "outputs": [
    {
     "name": "stdout",
     "output_type": "stream",
     "text": [
      "{u'clouds': {u'all': 1}, u'name': u'Champaign County', u'visibility': 16093, u'sys': {u'country': u'US', u'sunset': 1541630562, u'message': 0.0052, u'type': 1, u'id': 960, u'sunrise': 1541593789}, u'weather': [{u'main': u'Clear', u'id': 800, u'icon': u'01d', u'description': u'clear sky'}], u'coord': {u'lat': 40.13, u'lon': -88.2}, u'base': u'stations', u'dt': 1541606100, u'main': {u'pressure': 1023, u'temp_min': 277.15, u'temp_max': 279.15, u'temp': 277.74, u'humidity': 64}, u'id': 4887163, u'wind': {u'gust': 11.8, u'speed': 8.7, u'deg': 280}, u'cod': 200}\n"
     ]
    }
   ],
   "source": [
    "url = \"http://api.openweathermap.org/data/2.5/weather?id=4887163&APPID=bdffb5bed7c33de5c744c395edfd4b95\"\n",
    "response = urllib.urlopen(url)\n",
    "data = json.loads(response.read())\n",
    "print data"
   ]
  },
  {
   "cell_type": "code",
   "execution_count": 3,
   "metadata": {},
   "outputs": [],
   "source": [
    "def get_row(url):\n",
    "    #url = \"http://api.openweathermap.org/data/2.5/weather?id=4887163&APPID=bdffb5bed7c33de5c744c395edfd4b95\"\n",
    "    response = urllib.urlopen(url)\n",
    "    data = json.loads(response.read())\n",
    "    columns = []\n",
    "    data_list = []\n",
    "    for key in data:\n",
    "        #print key+'---->'\n",
    "        value1= data[key]\n",
    "        if isinstance(value1,dict):\n",
    "            for key2 in value1:\n",
    "                #print key2+'---->'\n",
    "                columns.append(key2)\n",
    "                data_list.append(value1[key2])\n",
    "                #print columns\n",
    "                #print value1[key2]\n",
    "\n",
    "        elif isinstance(value1,list):\n",
    "            for key2 in value1:\n",
    "                #print key2\n",
    "                if isinstance(key2,dict):\n",
    "                    for key3 in key2:\n",
    "                        #print key3+'---->'\n",
    "                        columns.append(key3)\n",
    "                        data_list.append(key2[key3])\n",
    "                        #print columns\n",
    "                        #print key2[key3]\n",
    "        else:\n",
    "            columns.append(key)\n",
    "            data_list.append(value1)\n",
    "            #print columns\n",
    "            #print value1\n",
    "\n",
    "    return columns,data_list\n",
    "\n",
    "#df = pd.DataFrame(data_list)\n",
    "#df.head()"
   ]
  },
  {
   "cell_type": "code",
   "execution_count": 4,
   "metadata": {},
   "outputs": [
    {
     "name": "stdout",
     "output_type": "stream",
     "text": [
      "[u'all', u'name', u'visibility', u'country', u'sunset', u'message', u'type', u'id', u'sunrise', u'main', u'id', u'icon', u'description', u'lat', u'lon', u'base', u'dt', u'pressure', u'temp_min', u'temp_max', u'temp', u'humidity', u'id', u'gust', u'speed', u'deg', u'cod'] [1, u'Champaign', 16093, u'US', 1541630573, 0.0092, 1, 960, 1541593797, u'Clear', 800, u'01d', u'clear sky', 40.12, -88.24, u'stations', 1541606160, 1023, 275.95, 279.15, 277.44, 64, 4887158, 11.8, 8.7, 280, 200]\n",
      "27\n",
      "27\n"
     ]
    }
   ],
   "source": [
    "col,row= get_row(\"http://api.openweathermap.org/data/2.5/weather?q=Champaign&APPID=bdffb5bed7c33de5c744c395edfd4b95\")\n",
    "print col,row\n",
    "print len(col)\n",
    "print len(row)"
   ]
  },
  {
   "cell_type": "code",
   "execution_count": 5,
   "metadata": {},
   "outputs": [
    {
     "ename": "SyntaxError",
     "evalue": "invalid syntax (<ipython-input-5-04d7cb37fc88>, line 6)",
     "output_type": "error",
     "traceback": [
      "\u001b[1;36m  File \u001b[1;32m\"<ipython-input-5-04d7cb37fc88>\"\u001b[1;36m, line \u001b[1;32m6\u001b[0m\n\u001b[1;33m    if col#CHECK IF PREVIOUS COLUMN IS LARGER THAN ANOTHER COLUMN, THEN SET LARGER COLUMN\u001b[0m\n\u001b[1;37m                                                                                         ^\u001b[0m\n\u001b[1;31mSyntaxError\u001b[0m\u001b[1;31m:\u001b[0m invalid syntax\n"
     ]
    }
   ],
   "source": [
    "data_list = []\n",
    "city_list = ['Champaign', 'London', 'Bangkok', 'Chicago', 'Dubai', 'Paris']\n",
    "for city_name in city_list:\n",
    "    col,row2= get_row(\"http://api.openweathermap.org/data/2.5/weather?q=\"+city_name+\"&APPID=bdffb5bed7c33de5c744c395edfd4b95\")\n",
    "    data_list.append(row2)\n",
    "    if col#CHECK IF PREVIOUS COLUMN IS LARGER THAN ANOTHER COLUMN, THEN SET LARGER COLUMN\n",
    "    #col2,row2= get_row(\"http://api.openweathermap.org/data/2.5/weather?q=London&APPID=bdffb5bed7c33de5c744c395edfd4b95\")\n",
    "print col2,row2\n",
    "print len(col2)\n",
    "print len(row2)"
   ]
  },
  {
   "cell_type": "code",
   "execution_count": null,
   "metadata": {},
   "outputs": [],
   "source": [
    "data_list = [row,row2]\n",
    "df = pd.DataFrame(data_list, columns = col)\n",
    "df.head()"
   ]
  },
  {
   "cell_type": "code",
   "execution_count": null,
   "metadata": {},
   "outputs": [],
   "source": [
    "df = pd.DataFrame.from_dict(json_normalize(data), orient='columns')\n",
    "display(HTML(df.to_html()))"
   ]
  },
  {
   "cell_type": "code",
   "execution_count": null,
   "metadata": {},
   "outputs": [],
   "source": [
    "extract into column names, place that one line of data and save as csv (write to csv - pandas)"
   ]
  }
 ],
 "metadata": {
  "kernelspec": {
   "display_name": "Python 2",
   "language": "python",
   "name": "python2"
  },
  "language_info": {
   "codemirror_mode": {
    "name": "ipython",
    "version": 2
   },
   "file_extension": ".py",
   "mimetype": "text/x-python",
   "name": "python",
   "nbconvert_exporter": "python",
   "pygments_lexer": "ipython2",
   "version": "2.7.15"
  }
 },
 "nbformat": 4,
 "nbformat_minor": 2
}
