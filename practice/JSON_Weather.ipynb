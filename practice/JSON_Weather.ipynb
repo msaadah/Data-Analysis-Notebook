{
 "cells": [
  {
   "cell_type": "code",
   "execution_count": 1,
   "metadata": {},
   "outputs": [],
   "source": [
    "import urllib, json\n",
    "from pandas.io.json import json_normalize\n",
    "import pandas as pd\n",
    "from IPython.display import display, HTML"
   ]
  },
  {
   "cell_type": "code",
   "execution_count": 2,
   "metadata": {},
   "outputs": [
    {
     "name": "stdout",
     "output_type": "stream",
     "text": [
      "{u'clouds': {u'all': 1}, u'name': u'Champaign County', u'visibility': 16093, u'sys': {u'country': u'US', u'sunset': 1555979857, u'message': 0.0062, u'type': 1, u'id': 6026, u'sunrise': 1555931080}, u'weather': [{u'main': u'Clear', u'id': 800, u'icon': u'01d', u'description': u'clear sky'}], u'coord': {u'lat': 40.13, u'lon': -88.2}, u'base': u'stations', u'dt': 1555946414, u'main': {u'pressure': 1018, u'temp_min': 292.04, u'temp_max': 294.82, u'temp': 293.46, u'humidity': 52}, u'id': 4887163, u'wind': {u'speed': 7.7, u'deg': 170}, u'cod': 200}\n"
     ]
    }
   ],
   "source": [
    "url = \"http://api.openweathermap.org/data/2.5/weather?id=4887163&APPID=bdffb5bed7c33de5c744c395edfd4b95\"\n",
    "response = urllib.urlopen(url)\n",
    "data = json.loads(response.read())\n",
    "print data"
   ]
  },
  {
   "cell_type": "code",
   "execution_count": 3,
   "metadata": {},
   "outputs": [],
   "source": [
    "def get_row(url):\n",
    "    #url = \"http://api.openweathermap.org/data/2.5/weather?id=4887163&APPID=bdffb5bed7c33de5c744c395edfd4b95\"\n",
    "    response = urllib.urlopen(url)\n",
    "    data = json.loads(response.read())\n",
    "    columns = []\n",
    "    data_list = []\n",
    "    for key in data:\n",
    "        #print key+'---->'\n",
    "        value1= data[key]\n",
    "        if isinstance(value1,dict):\n",
    "            for key2 in value1:\n",
    "                #print key2+'---->'\n",
    "                columns.append(key2)\n",
    "                data_list.append(value1[key2])\n",
    "                #print columns\n",
    "                #print value1[key2]\n",
    "\n",
    "        elif isinstance(value1,list):\n",
    "            for key2 in value1:\n",
    "                #print key2\n",
    "                if isinstance(key2,dict):\n",
    "                    for key3 in key2:\n",
    "                        #print key3+'---->'\n",
    "                        columns.append(key3)\n",
    "                        data_list.append(key2[key3])\n",
    "                        #print columns\n",
    "                        #print key2[key3]\n",
    "        else:\n",
    "            columns.append(key)\n",
    "            data_list.append(value1)\n",
    "            #print columns\n",
    "            #print value1\n",
    "\n",
    "    return columns,data_list\n",
    "\n",
    "#df = pd.DataFrame(data_list)\n",
    "#df.head()"
   ]
  },
  {
   "cell_type": "code",
   "execution_count": 4,
   "metadata": {},
   "outputs": [
    {
     "name": "stdout",
     "output_type": "stream",
     "text": [
      "[u'all', u'name', u'visibility', u'country', u'sunset', u'message', u'type', u'id', u'sunrise', u'main', u'id', u'icon', u'description', u'lat', u'lon', u'base', u'dt', u'pressure', u'temp_min', u'temp_max', u'temp', u'humidity', u'id', u'speed', u'deg', u'cod'] [1, u'Champaign', 16093, u'US', 1555979866, 0.0078, 1, 6026, 1555931090, u'Clear', 800, u'01d', u'clear sky', 40.12, -88.24, u'stations', 1555946168, 1018, 291.15, 294.82, 293.1, 52, 4887158, 7.7, 170, 200]\n",
      "26\n",
      "26\n"
     ]
    }
   ],
   "source": [
    "col,row= get_row(\"http://api.openweathermap.org/data/2.5/weather?q=Champaign&APPID=bdffb5bed7c33de5c744c395edfd4b95\")\n",
    "print col,row\n",
    "print len(col)\n",
    "print len(row)"
   ]
  },
  {
   "cell_type": "code",
   "execution_count": 5,
   "metadata": {},
   "outputs": [
    {
     "name": "stdout",
     "output_type": "stream",
     "text": [
      "[u'all', u'name', u'visibility', u'country', u'sunset', u'message', u'type', u'id', u'sunrise', u'main', u'id', u'icon', u'description', u'lat', u'lon', u'base', u'dt', u'pressure', u'temp_min', u'temp_max', u'temp', u'humidity', u'id', u'speed', u'deg', u'cod'] [14, u'London', 10000, u'GB', 1555960031, 0.007, 1, 1414, 1555908639, u'Clouds', 801, u'02d', u'few clouds', 51.51, -0.13, u'stations', 1555946208, 1003, 294.26, 299.26, 296.7, 40, 2643743, 6.2, 90, 200]\n",
      "26\n",
      "26\n"
     ]
    }
   ],
   "source": [
    "data_list = []\n",
    "city_list = ['Champaign', 'London', 'Bangkok', 'Chicago', 'Dubai', 'Paris']\n",
    "for city_name in city_list:\n",
    "    col,row2= get_row(\"http://api.openweathermap.org/data/2.5/weather?q=\"+city_name+\"&APPID=bdffb5bed7c33de5c744c395edfd4b95\")\n",
    "    data_list.append(row2)\n",
    "    if col: #CHECK IF PREVIOUS COLUMN IS LARGER THAN ANOTHER COLUMN, THEN SET LARGER COLUMN\n",
    "        col2,row2= get_row(\"http://api.openweathermap.org/data/2.5/weather?q=London&APPID=bdffb5bed7c33de5c744c395edfd4b95\")\n",
    "print col2,row2\n",
    "print len(col2)\n",
    "print len(row2)"
   ]
  },
  {
   "cell_type": "code",
   "execution_count": 6,
   "metadata": {},
   "outputs": [
    {
     "data": {
      "text/html": [
       "<div>\n",
       "<style scoped>\n",
       "    .dataframe tbody tr th:only-of-type {\n",
       "        vertical-align: middle;\n",
       "    }\n",
       "\n",
       "    .dataframe tbody tr th {\n",
       "        vertical-align: top;\n",
       "    }\n",
       "\n",
       "    .dataframe thead th {\n",
       "        text-align: right;\n",
       "    }\n",
       "</style>\n",
       "<table border=\"1\" class=\"dataframe\">\n",
       "  <thead>\n",
       "    <tr style=\"text-align: right;\">\n",
       "      <th></th>\n",
       "      <th>all</th>\n",
       "      <th>name</th>\n",
       "      <th>visibility</th>\n",
       "      <th>country</th>\n",
       "      <th>sunset</th>\n",
       "      <th>message</th>\n",
       "      <th>type</th>\n",
       "      <th>id</th>\n",
       "      <th>sunrise</th>\n",
       "      <th>main</th>\n",
       "      <th>...</th>\n",
       "      <th>dt</th>\n",
       "      <th>pressure</th>\n",
       "      <th>temp_min</th>\n",
       "      <th>temp_max</th>\n",
       "      <th>temp</th>\n",
       "      <th>humidity</th>\n",
       "      <th>id</th>\n",
       "      <th>speed</th>\n",
       "      <th>deg</th>\n",
       "      <th>cod</th>\n",
       "    </tr>\n",
       "  </thead>\n",
       "  <tbody>\n",
       "    <tr>\n",
       "      <th>0</th>\n",
       "      <td>1</td>\n",
       "      <td>Champaign</td>\n",
       "      <td>16093</td>\n",
       "      <td>US</td>\n",
       "      <td>1555979866</td>\n",
       "      <td>0.0078</td>\n",
       "      <td>1</td>\n",
       "      <td>6026</td>\n",
       "      <td>1555931090</td>\n",
       "      <td>Clear</td>\n",
       "      <td>...</td>\n",
       "      <td>1555946168</td>\n",
       "      <td>1018</td>\n",
       "      <td>291.15</td>\n",
       "      <td>294.82</td>\n",
       "      <td>293.1</td>\n",
       "      <td>52</td>\n",
       "      <td>4887158</td>\n",
       "      <td>7.7</td>\n",
       "      <td>170</td>\n",
       "      <td>200</td>\n",
       "    </tr>\n",
       "    <tr>\n",
       "      <th>1</th>\n",
       "      <td>14</td>\n",
       "      <td>London</td>\n",
       "      <td>10000</td>\n",
       "      <td>GB</td>\n",
       "      <td>1555960031</td>\n",
       "      <td>0.0070</td>\n",
       "      <td>1</td>\n",
       "      <td>1414</td>\n",
       "      <td>1555908639</td>\n",
       "      <td>Clouds</td>\n",
       "      <td>...</td>\n",
       "      <td>1555946208</td>\n",
       "      <td>1003</td>\n",
       "      <td>294.26</td>\n",
       "      <td>299.26</td>\n",
       "      <td>296.7</td>\n",
       "      <td>40</td>\n",
       "      <td>2643743</td>\n",
       "      <td>6.2</td>\n",
       "      <td>90</td>\n",
       "      <td>200</td>\n",
       "    </tr>\n",
       "  </tbody>\n",
       "</table>\n",
       "<p>2 rows × 26 columns</p>\n",
       "</div>"
      ],
      "text/plain": [
       "   all       name  visibility country      sunset  message  type    id  \\\n",
       "0    1  Champaign       16093      US  1555979866   0.0078     1  6026   \n",
       "1   14     London       10000      GB  1555960031   0.0070     1  1414   \n",
       "\n",
       "      sunrise    main ...           dt pressure temp_min  temp_max   temp  \\\n",
       "0  1555931090   Clear ...   1555946168     1018   291.15    294.82  293.1   \n",
       "1  1555908639  Clouds ...   1555946208     1003   294.26    299.26  296.7   \n",
       "\n",
       "  humidity       id  speed  deg  cod  \n",
       "0       52  4887158    7.7  170  200  \n",
       "1       40  2643743    6.2   90  200  \n",
       "\n",
       "[2 rows x 26 columns]"
      ]
     },
     "execution_count": 6,
     "metadata": {},
     "output_type": "execute_result"
    }
   ],
   "source": [
    "data_list = [row,row2]\n",
    "df = pd.DataFrame(data_list, columns = col)\n",
    "df.head()"
   ]
  },
  {
   "cell_type": "code",
   "execution_count": 7,
   "metadata": {},
   "outputs": [
    {
     "data": {
      "text/html": [
       "<table border=\"1\" class=\"dataframe\">\n",
       "  <thead>\n",
       "    <tr style=\"text-align: right;\">\n",
       "      <th></th>\n",
       "      <th>base</th>\n",
       "      <th>clouds.all</th>\n",
       "      <th>cod</th>\n",
       "      <th>coord.lat</th>\n",
       "      <th>coord.lon</th>\n",
       "      <th>dt</th>\n",
       "      <th>id</th>\n",
       "      <th>main.humidity</th>\n",
       "      <th>main.pressure</th>\n",
       "      <th>main.temp</th>\n",
       "      <th>main.temp_max</th>\n",
       "      <th>main.temp_min</th>\n",
       "      <th>name</th>\n",
       "      <th>sys.country</th>\n",
       "      <th>sys.id</th>\n",
       "      <th>sys.message</th>\n",
       "      <th>sys.sunrise</th>\n",
       "      <th>sys.sunset</th>\n",
       "      <th>sys.type</th>\n",
       "      <th>visibility</th>\n",
       "      <th>weather</th>\n",
       "      <th>wind.deg</th>\n",
       "      <th>wind.speed</th>\n",
       "    </tr>\n",
       "  </thead>\n",
       "  <tbody>\n",
       "    <tr>\n",
       "      <th>0</th>\n",
       "      <td>stations</td>\n",
       "      <td>1</td>\n",
       "      <td>200</td>\n",
       "      <td>40.13</td>\n",
       "      <td>-88.2</td>\n",
       "      <td>1555946414</td>\n",
       "      <td>4887163</td>\n",
       "      <td>52</td>\n",
       "      <td>1018</td>\n",
       "      <td>293.46</td>\n",
       "      <td>294.82</td>\n",
       "      <td>292.04</td>\n",
       "      <td>Champaign County</td>\n",
       "      <td>US</td>\n",
       "      <td>6026</td>\n",
       "      <td>0.0062</td>\n",
       "      <td>1555931080</td>\n",
       "      <td>1555979857</td>\n",
       "      <td>1</td>\n",
       "      <td>16093</td>\n",
       "      <td>[{u'description': u'clear sky', u'main': u'Cle...</td>\n",
       "      <td>170</td>\n",
       "      <td>7.7</td>\n",
       "    </tr>\n",
       "  </tbody>\n",
       "</table>"
      ],
      "text/plain": [
       "<IPython.core.display.HTML object>"
      ]
     },
     "metadata": {},
     "output_type": "display_data"
    }
   ],
   "source": [
    "df = pd.DataFrame.from_dict(json_normalize(data), orient='columns')\n",
    "display(HTML(df.to_html()))"
   ]
  },
  {
   "cell_type": "markdown",
   "metadata": {},
   "source": [
    "extract into column names, place that one line of data and save as csv (write to csv - pandas)"
   ]
  },
  {
   "cell_type": "code",
   "execution_count": null,
   "metadata": {},
   "outputs": [],
   "source": []
  }
 ],
 "metadata": {
  "kernelspec": {
   "display_name": "Python 2",
   "language": "python",
   "name": "python2"
  },
  "language_info": {
   "codemirror_mode": {
    "name": "ipython",
    "version": 2
   },
   "file_extension": ".py",
   "mimetype": "text/x-python",
   "name": "python",
   "nbconvert_exporter": "python",
   "pygments_lexer": "ipython2",
   "version": "2.7.15"
  }
 },
 "nbformat": 4,
 "nbformat_minor": 2
}
