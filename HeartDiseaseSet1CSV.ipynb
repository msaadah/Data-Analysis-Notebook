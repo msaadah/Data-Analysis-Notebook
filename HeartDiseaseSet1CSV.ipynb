{
 "cells": [
  {
   "cell_type": "markdown",
   "metadata": {},
   "source": [
    "## Import Packages"
   ]
  },
  {
   "cell_type": "markdown",
   "metadata": {},
   "source": [
    "**pandas - manipulating the data (eg. read csv file)**\n",
    "\n",
    "**numpy - apply math functions to arrays**\n",
    "\n",
    "**matplotlib.pyplot - features to help with plotting figures**\n",
    "\n",
    "**seaborn - data visualization (eg. heatmap)**"
   ]
  },
  {
   "cell_type": "code",
   "execution_count": 1,
   "metadata": {},
   "outputs": [],
   "source": [
    "import pandas as pd\n",
    "import numpy as np\n",
    "import matplotlib.pyplot as plt\n",
    "import seaborn as sns\n",
    "from IPython.display import display, HTML "
   ]
  },
  {
   "cell_type": "code",
   "execution_count": 9,
   "metadata": {},
   "outputs": [
    {
     "name": "stdout",
     "output_type": "stream",
     "text": [
      "\r",
      "  0% [                                                          ]     0 / 18461\r",
      " 44% [.........................                                 ]  8192 / 18461\r",
      " 88% [...................................................       ] 16384 / 18461\r",
      "100% [..........................................................] 18461 / 18461processed.cleveland (6).data\n"
     ]
    }
   ],
   "source": [
    "import wget\n",
    "url = 'https://archive.ics.uci.edu/ml/machine-learning-databases/heart-disease/processed.cleveland.data'\n",
    "cleveland_data = wget.download(url)\n",
    "print (cleveland_data)\n",
    "#df = pd.read_csv(cleveland_data)\n",
    "#df.head()"
   ]
  },
  {
   "cell_type": "markdown",
   "metadata": {},
   "source": [
    "## Read File"
   ]
  },
  {
   "cell_type": "markdown",
   "metadata": {},
   "source": [
    "**Use pandas to get where file is saved from computer (may need to include delimiter to separate data into columns). Add headers to label columns of dataframe.**"
   ]
  },
  {
   "cell_type": "code",
   "execution_count": 10,
   "metadata": {},
   "outputs": [
    {
     "data": {
      "text/html": [
       "<div>\n",
       "<style scoped>\n",
       "    .dataframe tbody tr th:only-of-type {\n",
       "        vertical-align: middle;\n",
       "    }\n",
       "\n",
       "    .dataframe tbody tr th {\n",
       "        vertical-align: top;\n",
       "    }\n",
       "\n",
       "    .dataframe thead th {\n",
       "        text-align: right;\n",
       "    }\n",
       "</style>\n",
       "<table border=\"1\" class=\"dataframe\">\n",
       "  <thead>\n",
       "    <tr style=\"text-align: right;\">\n",
       "      <th></th>\n",
       "      <th>Age</th>\n",
       "      <th>Sex</th>\n",
       "      <th>Chest_Pain</th>\n",
       "      <th>RestBP</th>\n",
       "      <th>Chol</th>\n",
       "      <th>FBS</th>\n",
       "      <th>RestECG</th>\n",
       "      <th>MaxHR</th>\n",
       "      <th>Exang</th>\n",
       "      <th>Oldpeak</th>\n",
       "      <th>Slope_ST_seg</th>\n",
       "      <th>Ca</th>\n",
       "      <th>Thal</th>\n",
       "      <th>Num</th>\n",
       "    </tr>\n",
       "  </thead>\n",
       "  <tbody>\n",
       "    <tr>\n",
       "      <th>0</th>\n",
       "      <td>63.0</td>\n",
       "      <td>1.0</td>\n",
       "      <td>1.0</td>\n",
       "      <td>145.0</td>\n",
       "      <td>233.0</td>\n",
       "      <td>1.0</td>\n",
       "      <td>2.0</td>\n",
       "      <td>150.0</td>\n",
       "      <td>0.0</td>\n",
       "      <td>2.3</td>\n",
       "      <td>3.0</td>\n",
       "      <td>0.0</td>\n",
       "      <td>6.0</td>\n",
       "      <td>0</td>\n",
       "    </tr>\n",
       "    <tr>\n",
       "      <th>1</th>\n",
       "      <td>67.0</td>\n",
       "      <td>1.0</td>\n",
       "      <td>4.0</td>\n",
       "      <td>160.0</td>\n",
       "      <td>286.0</td>\n",
       "      <td>0.0</td>\n",
       "      <td>2.0</td>\n",
       "      <td>108.0</td>\n",
       "      <td>1.0</td>\n",
       "      <td>1.5</td>\n",
       "      <td>2.0</td>\n",
       "      <td>3.0</td>\n",
       "      <td>3.0</td>\n",
       "      <td>2</td>\n",
       "    </tr>\n",
       "    <tr>\n",
       "      <th>2</th>\n",
       "      <td>67.0</td>\n",
       "      <td>1.0</td>\n",
       "      <td>4.0</td>\n",
       "      <td>120.0</td>\n",
       "      <td>229.0</td>\n",
       "      <td>0.0</td>\n",
       "      <td>2.0</td>\n",
       "      <td>129.0</td>\n",
       "      <td>1.0</td>\n",
       "      <td>2.6</td>\n",
       "      <td>2.0</td>\n",
       "      <td>2.0</td>\n",
       "      <td>7.0</td>\n",
       "      <td>1</td>\n",
       "    </tr>\n",
       "    <tr>\n",
       "      <th>3</th>\n",
       "      <td>37.0</td>\n",
       "      <td>1.0</td>\n",
       "      <td>3.0</td>\n",
       "      <td>130.0</td>\n",
       "      <td>250.0</td>\n",
       "      <td>0.0</td>\n",
       "      <td>0.0</td>\n",
       "      <td>187.0</td>\n",
       "      <td>0.0</td>\n",
       "      <td>3.5</td>\n",
       "      <td>3.0</td>\n",
       "      <td>0.0</td>\n",
       "      <td>3.0</td>\n",
       "      <td>0</td>\n",
       "    </tr>\n",
       "    <tr>\n",
       "      <th>4</th>\n",
       "      <td>41.0</td>\n",
       "      <td>0.0</td>\n",
       "      <td>2.0</td>\n",
       "      <td>130.0</td>\n",
       "      <td>204.0</td>\n",
       "      <td>0.0</td>\n",
       "      <td>2.0</td>\n",
       "      <td>172.0</td>\n",
       "      <td>0.0</td>\n",
       "      <td>1.4</td>\n",
       "      <td>1.0</td>\n",
       "      <td>0.0</td>\n",
       "      <td>3.0</td>\n",
       "      <td>0</td>\n",
       "    </tr>\n",
       "  </tbody>\n",
       "</table>\n",
       "</div>"
      ],
      "text/plain": [
       "    Age  Sex  Chest_Pain  RestBP   Chol  FBS  RestECG  MaxHR  Exang  Oldpeak  \\\n",
       "0  63.0  1.0         1.0   145.0  233.0  1.0      2.0  150.0    0.0      2.3   \n",
       "1  67.0  1.0         4.0   160.0  286.0  0.0      2.0  108.0    1.0      1.5   \n",
       "2  67.0  1.0         4.0   120.0  229.0  0.0      2.0  129.0    1.0      2.6   \n",
       "3  37.0  1.0         3.0   130.0  250.0  0.0      0.0  187.0    0.0      3.5   \n",
       "4  41.0  0.0         2.0   130.0  204.0  0.0      2.0  172.0    0.0      1.4   \n",
       "\n",
       "   Slope_ST_seg   Ca Thal  Num  \n",
       "0           3.0  0.0  6.0    0  \n",
       "1           2.0  3.0  3.0    2  \n",
       "2           2.0  2.0  7.0    1  \n",
       "3           3.0  0.0  3.0    0  \n",
       "4           1.0  0.0  3.0    0  "
      ]
     },
     "execution_count": 10,
     "metadata": {},
     "output_type": "execute_result"
    }
   ],
   "source": [
    "df = pd.read_csv(cleveland_data, header = None, index_col = False, delimiter = ',')\n",
    "df.columns = ['Age','Sex','Chest_Pain','RestBP','Chol','FBS', 'RestECG', 'MaxHR', 'Exang', 'Oldpeak', 'Slope_ST_seg', 'Ca', 'Thal', 'Num']\n",
    "\n",
    "df.head()\n",
    "#1st 5 rows of table with header"
   ]
  },
  {
   "cell_type": "markdown",
   "metadata": {},
   "source": [
    "## Assess Basic Info"
   ]
  },
  {
   "cell_type": "markdown",
   "metadata": {},
   "source": [
    "**Find basic statistics and trends of data using .describe()  .info()  .isnull().sum()  .dtypes()  .nunique()  .plot()**"
   ]
  },
  {
   "cell_type": "code",
   "execution_count": null,
   "metadata": {},
   "outputs": [],
   "source": [
    "'''\n",
    "for j in range(len(df['Ca'])):\n",
    "    if df.iloc[j]['Ca']=='?':\n",
    "        df.set_value(j,'Ca','0.0')\n",
    "df['Ca']=df['Ca'].astype(float)\n",
    "\n",
    "\n",
    "for j in range(len(df['Thal'])):\n",
    "    if df.iloc[j]['Thal']=='?':\n",
    "        df.set_value(j,'Thal','0.0')\n",
    "df['Thal']=df['Thal'].astype(float)\n",
    "\n",
    "'''"
   ]
  },
  {
   "cell_type": "code",
   "execution_count": null,
   "metadata": {},
   "outputs": [],
   "source": [
    "df[df['Ca']=='?'].Ca"
   ]
  },
  {
   "cell_type": "code",
   "execution_count": null,
   "metadata": {},
   "outputs": [],
   "source": [
    "df.describe()"
   ]
  },
  {
   "cell_type": "code",
   "execution_count": null,
   "metadata": {},
   "outputs": [],
   "source": [
    "df.info()"
   ]
  },
  {
   "cell_type": "code",
   "execution_count": null,
   "metadata": {},
   "outputs": [],
   "source": [
    "print (df.isnull().sum())"
   ]
  },
  {
   "cell_type": "code",
   "execution_count": null,
   "metadata": {},
   "outputs": [],
   "source": [
    "print(df.dtypes)                                            #not working"
   ]
  },
  {
   "cell_type": "code",
   "execution_count": null,
   "metadata": {
    "scrolled": true
   },
   "outputs": [],
   "source": [
    "#unique counts per catogory -- issues with num column?\n",
    "#print(df.apply(lambda x: x.nunique()))                          #this method works for nunique             \n",
    "print (df.nunique())                                            #working after adjusting panda, conda, switched to py2"
   ]
  },
  {
   "cell_type": "code",
   "execution_count": null,
   "metadata": {},
   "outputs": [],
   "source": [
    "df.plot()\n",
    "plt.title('Plot of All Data', fontweight='bold')\n",
    "plt.xlabel('Index')\n",
    "plt.ylabel('Value')\n",
    "plt.legend(bbox_to_anchor=(1.05, 1), loc=2, borderaxespad=0.)    #place legend box to right of plot\n",
    "plt.show()\n"
   ]
  },
  {
   "cell_type": "markdown",
   "metadata": {},
   "source": [
    "## In-depth Analysis"
   ]
  },
  {
   "cell_type": "markdown",
   "metadata": {},
   "source": [
    "**Given previous data obtained from basic info, find patterns that can help narrow conclusions made from data.**"
   ]
  },
  {
   "cell_type": "markdown",
   "metadata": {},
   "source": [
    "- **Plot data on a log scale to identify the scale range of outputs.**"
   ]
  },
  {
   "cell_type": "code",
   "execution_count": null,
   "metadata": {
    "scrolled": true
   },
   "outputs": [],
   "source": [
    "df.plot()\n",
    "plt.yscale('log')                                                 # makes plot log scale \n",
    "\n",
    "\n",
    "plt.title('Log Plot of All Data', fontweight='bold')              # figure features\n",
    "plt.xlabel('Index')\n",
    "plt.ylabel('Log Scale')\n",
    "plt.legend(bbox_to_anchor=(1.05, 1), loc=2, borderaxespad=0.) \n",
    "plt.show()"
   ]
  },
  {
   "cell_type": "markdown",
   "metadata": {},
   "source": [
    "**Need to have a basic understanding of the basic dataframe. Each column is a 'series', which is a 1D array to you have to use functions specific to series to reach information from a certain column.**"
   ]
  },
  {
   "cell_type": "markdown",
   "metadata": {},
   "source": [
    "- **Find how many people from each age are part of the study**"
   ]
  },
  {
   "cell_type": "code",
   "execution_count": null,
   "metadata": {},
   "outputs": [],
   "source": [
    "each_age = df.Age.value_counts()\n",
    "print each_age                                          #gives mean values of all categories based on age\n"
   ]
  },
  {
   "cell_type": "markdown",
   "metadata": {},
   "source": [
    "- **Find trends by grouping data according to 'Num' output (0 - no heart disease, 4 - severe heart disease)**"
   ]
  },
  {
   "cell_type": "code",
   "execution_count": null,
   "metadata": {},
   "outputs": [],
   "source": [
    "group_by_num= df.groupby([\"Num\",\"Sex\"])\n",
    "print group_by_num.Age.agg(np.max) #gives mean values of all categories based on chest pain\n",
    "print group_by_num\n",
    "for key, item in group_by_num:\n",
    "    print key\n",
    "    #display(HTML(group_by_num.get_group(key).to_html()))\n",
    "    #print group_by_num.get_group(key)"
   ]
  },
  {
   "cell_type": "markdown",
   "metadata": {},
   "source": [
    "- **From .nunique() and data provided able to figure out that predicted heart disease outcome ('Num') has 5 categories (0,1,2,3,4). Group each of the 'Num' outputs and find the means for each category.**"
   ]
  },
  {
   "cell_type": "code",
   "execution_count": null,
   "metadata": {},
   "outputs": [],
   "source": [
    "group2 = df.groupby(\"Num\")\n",
    "print (group2.mean())"
   ]
  },
  {
   "cell_type": "markdown",
   "metadata": {},
   "source": [
    "**To access information from a specific 'Num' category (eg. 3), use get_group(3)**"
   ]
  },
  {
   "cell_type": "code",
   "execution_count": null,
   "metadata": {},
   "outputs": [],
   "source": [
    "group2 = df.groupby(\"Num\")\n",
    "print(group2.Age.get_group(4), \"\\n\\n\")\n"
   ]
  },
  {
   "cell_type": "markdown",
   "metadata": {},
   "source": [
    "## Visualize Data"
   ]
  },
  {
   "cell_type": "markdown",
   "metadata": {},
   "source": [
    "- **Plot and organize the different outputs of 'Num' relative to Age. 5 output graphs correlating to 'Num' category 0,1,2,3,4**"
   ]
  },
  {
   "cell_type": "code",
   "execution_count": null,
   "metadata": {},
   "outputs": [],
   "source": [
    "for i in range(5):\n",
    "    group1=group2.Age.get_group(i)\n",
    "    group1= group1.value_counts().sort_index()\n",
    "    age_pos = np.arange(len(group1.index))\n",
    "    plt.figure(figsize=(7,3))\n",
    "    plt.xlabel('Age')\n",
    "    plt.ylabel('Count')\n",
    "    #stri = 'Num output ' +str(i)\n",
    "    #plt.title(stri)\n",
    "    plt.title('Age Distribution for Num')\n",
    "    plt.bar(age_pos,group1.values)\n",
    "    plt.xticks(age_pos,group1.index, rotation =90)\n",
    "    plt.show()\n"
   ]
  },
  {
   "cell_type": "markdown",
   "metadata": {},
   "source": [
    "- **Histogram to assess resting blood pressure distribution**"
   ]
  },
  {
   "cell_type": "code",
   "execution_count": null,
   "metadata": {},
   "outputs": [],
   "source": [
    "#RestBP distribution of study\n",
    "x = df['RestBP']\n",
    "num_bins = 5\n",
    "n, bins, patches = plt.hist(x, num_bins, alpha=0.5)\n",
    "plt.title('RestBP', fontweight='bold')\n",
    "plt.xlabel('RestBP')\n",
    "plt.ylabel('Count')\n",
    "plt.show()"
   ]
  },
  {
   "cell_type": "code",
   "execution_count": null,
   "metadata": {},
   "outputs": [],
   "source": [
    "#normalize distribution -- random\n",
    "age_hist = np.random.normal(size = 1000)\n",
    "plt.hist(age_hist, bins=30)\n",
    "plt.ylabel('Random')\n",
    "plt.show()"
   ]
  },
  {
   "cell_type": "markdown",
   "metadata": {},
   "source": [
    "- **Creating scatterplot of maximum heart rate vs. rest blood pressure**"
   ]
  },
  {
   "cell_type": "code",
   "execution_count": null,
   "metadata": {},
   "outputs": [],
   "source": [
    "#making markers that vary in size and color; multi-dimensional plot\n",
    "\n",
    "#scatterplot\n",
    "x = df['MaxHR']\n",
    "y = df['RestBP']\n",
    "#plt.title('FBS vs. angina', fontweight='bold')\n",
    "plt.xlabel('MaxHR')\n",
    "plt.ylabel('RestBP')\n",
    "#plt.errorbar(x,y,linestyle= 'None', marker='s')\n",
    "plt.scatter(x, y, alpha=0.5)\n"
   ]
  },
  {
   "cell_type": "markdown",
   "metadata": {},
   "source": [
    "- **Create heatmap using .corr() to visualize correlation of all categories. Diagonal should all be 1.0 because comparing against itself.**"
   ]
  },
  {
   "cell_type": "code",
   "execution_count": null,
   "metadata": {},
   "outputs": [],
   "source": [
    "#heatmap\n",
    "f,ax = plt.subplots(figsize=(18, 16))\n",
    "sns.heatmap(df.corr(), annot=True, linewidths=.8, fmt= '.1f',ax=ax)\n",
    "plt.show()"
   ]
  },
  {
   "cell_type": "code",
   "execution_count": null,
   "metadata": {},
   "outputs": [],
   "source": []
  }
 ],
 "metadata": {
  "kernelspec": {
   "display_name": "Python 2",
   "language": "python",
   "name": "python2"
  },
  "language_info": {
   "codemirror_mode": {
    "name": "ipython",
    "version": 2
   },
   "file_extension": ".py",
   "mimetype": "text/x-python",
   "name": "python",
   "nbconvert_exporter": "python",
   "pygments_lexer": "ipython2",
   "version": "2.7.15"
  }
 },
 "nbformat": 4,
 "nbformat_minor": 2
}
