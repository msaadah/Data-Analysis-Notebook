{
 "cells": [
  {
   "cell_type": "markdown",
   "metadata": {},
   "source": [
    "what is the jupyter notebook?\n",
    "basically an app that contains both executable and text (paragraph/equations/links) in a single document. can run code and neatly allows you to give an explanation\n",
    "-fun fact: don't actually need internet to run it\n",
    "can also see local files (ie desktop, downloads files)\n",
    "have flexibility to rename, move, delete, make new file (file manager system)"
   ]
  },
  {
   "cell_type": "markdown",
   "metadata": {},
   "source": [
    "installing jupyter notebook?\n",
    "install anaconda (which contains a lot f "
   ]
  },
  {
   "cell_type": "markdown",
   "metadata": {},
   "source": []
  }
 ],
 "metadata": {
  "kernelspec": {
   "display_name": "Python 2",
   "language": "python",
   "name": "python2"
  },
  "language_info": {
   "codemirror_mode": {
    "name": "ipython",
    "version": 2
   },
   "file_extension": ".py",
   "mimetype": "text/x-python",
   "name": "python",
   "nbconvert_exporter": "python",
   "pygments_lexer": "ipython2",
   "version": "2.7.15"
  }
 },
 "nbformat": 4,
 "nbformat_minor": 2
}
